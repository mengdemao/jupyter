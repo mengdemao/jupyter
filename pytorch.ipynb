{
 "cells": [
  {
   "cell_type": "markdown",
   "id": "584dc238",
   "metadata": {},
   "source": [
    "## 安装pytorch"
   ]
  },
  {
   "cell_type": "code",
   "execution_count": 1,
   "id": "0a186876",
   "metadata": {
    "ExecuteTime": {
     "end_time": "2023-01-24T10:46:22.121432Z",
     "start_time": "2023-01-24T10:46:22.116855Z"
    }
   },
   "outputs": [],
   "source": [
    "# 导入魔法命令\n",
    "%run helper.py\n",
    "\n",
    "# 内联图片\n",
    "%matplotlib inline"
   ]
  },
  {
   "cell_type": "code",
   "execution_count": 28,
   "id": "5d48d938-a483-4581-97fc-6131a3e74ee2",
   "metadata": {
    "editable": true,
    "slideshow": {
     "slide_type": ""
    },
    "tags": []
   },
   "outputs": [
    {
     "name": "stdout",
     "output_type": "stream",
     "text": [
      "Looking in indexes: https://download.pytorch.org/whl/cpu\n",
      "Requirement already satisfied: torch in ./.env/lib/python3.13/site-packages (2.6.0+cpu)\n",
      "Requirement already satisfied: torchvision in ./.env/lib/python3.13/site-packages (0.21.0+cpu)\n",
      "Requirement already satisfied: torchaudio in ./.env/lib/python3.13/site-packages (2.6.0+cpu)\n",
      "Requirement already satisfied: filelock in ./.env/lib/python3.13/site-packages (from torch) (3.13.1)\n",
      "Requirement already satisfied: typing-extensions>=4.10.0 in ./.env/lib/python3.13/site-packages (from torch) (4.13.0)\n",
      "Requirement already satisfied: networkx in ./.env/lib/python3.13/site-packages (from torch) (3.3)\n",
      "Requirement already satisfied: jinja2 in ./.env/lib/python3.13/site-packages (from torch) (3.1.6)\n",
      "Requirement already satisfied: fsspec in ./.env/lib/python3.13/site-packages (from torch) (2024.6.1)\n",
      "Requirement already satisfied: setuptools in ./.env/lib/python3.13/site-packages (from torch) (78.1.0)\n",
      "Requirement already satisfied: sympy==1.13.1 in ./.env/lib/python3.13/site-packages (from torch) (1.13.1)\n",
      "Requirement already satisfied: mpmath<1.4,>=1.1.0 in ./.env/lib/python3.13/site-packages (from sympy==1.13.1->torch) (1.3.0)\n",
      "Requirement already satisfied: numpy in ./.env/lib/python3.13/site-packages (from torchvision) (2.1.2)\n",
      "Requirement already satisfied: pillow!=8.3.*,>=5.3.0 in ./.env/lib/python3.13/site-packages (from torchvision) (11.0.0)\n",
      "Requirement already satisfied: MarkupSafe>=2.0 in ./.env/lib/python3.13/site-packages (from jinja2->torch) (3.0.2)\n"
     ]
    }
   ],
   "source": [
    "!pip3 install torch torchvision torchaudio --index-url https://download.pytorch.org/whl/cpu"
   ]
  },
  {
   "cell_type": "code",
   "execution_count": 29,
   "id": "b523e705-ecc6-4342-8d20-20eaa24f7de9",
   "metadata": {},
   "outputs": [],
   "source": [
    "import torch\n",
    "from torch import autograd\n",
    "import torchvision\n",
    "import torchvision.transforms as transforms\n",
    "import torch.nn as nn"
   ]
  },
  {
   "cell_type": "code",
   "execution_count": 4,
   "id": "f21e5cd7",
   "metadata": {
    "ExecuteTime": {
     "end_time": "2023-01-24T14:16:32.258768Z",
     "start_time": "2023-01-24T14:16:31.254975Z"
    }
   },
   "outputs": [
    {
     "name": "stdout",
     "output_type": "stream",
     "text": [
      "2.6.0+cpu\n"
     ]
    }
   ],
   "source": [
    "# 打印版本号\n",
    "print(torch.__version__)"
   ]
  },
  {
   "cell_type": "markdown",
   "id": "1e3575be",
   "metadata": {},
   "source": [
    "## 基本使用方法\n",
    "\n",
    "> PyTorch 是一个开源的深度学习框架，以其灵活性和动态计算图而广受欢迎\n",
    "> PyTorch 主要有以下几个基础概念：张量（Tensor）、自动求导（Autograd）、神经网络模块（nn.Module）、优化器（optim）等。\n",
    "\n",
    "+ 张量（Tensor）：PyTorch 的核心数据结构，支持多维数组，并可以在 CPU 或 GPU 上进行加速计算。\n",
    "+ 自动求导（Autograd）：PyTorch 提供了自动求导功能，可以轻松计算模型的梯度，便于进行反向传播和优化。\n",
    "+ 神经网络（nn.Module）：PyTorch 提供了简单且强大的 API 来构建神经网络模型，可以方便地进行前向传播和模型定义。\n",
    "+ 优化器（Optimizers）：使用优化器（如 Adam、SGD 等）来更新模型的参数，使得损失最小化。\n",
    "+ 设备（Device）：可以将模型和张量移动到 GPU 上以加速计算。\n"
   ]
  },
  {
   "cell_type": "code",
   "execution_count": 5,
   "id": "aa3bfe99",
   "metadata": {
    "ExecuteTime": {
     "end_time": "2023-01-24T10:33:29.421897Z",
     "start_time": "2023-01-24T10:33:29.327040Z"
    },
    "scrolled": true
   },
   "outputs": [
    {
     "name": "stdout",
     "output_type": "stream",
     "text": [
      "tensor([[-3.0576e-02,  3.5610e-41,  0.0000e+00],\n",
      "        [ 0.0000e+00,         nan,  0.0000e+00],\n",
      "        [ 7.3470e+28,  6.1425e+28,  7.1441e+31],\n",
      "        [ 6.9987e+22,  7.8675e+34,  4.7418e+30],\n",
      "        [ 5.9663e-02,  7.0374e+22,  0.0000e+00]])\n"
     ]
    }
   ],
   "source": [
    "# 创建一个矩阵\n",
    "x = torch.empty(5, 3)\n",
    "print(x)"
   ]
  },
  {
   "cell_type": "code",
   "execution_count": 6,
   "id": "a3677ce1",
   "metadata": {
    "ExecuteTime": {
     "end_time": "2023-01-24T10:33:29.463854Z",
     "start_time": "2023-01-24T10:33:29.428129Z"
    }
   },
   "outputs": [
    {
     "name": "stdout",
     "output_type": "stream",
     "text": [
      "None None None\n",
      "tensor(3.) tensor(1.) tensor(1.)\n"
     ]
    }
   ],
   "source": [
    "# 自动微分\n",
    "x = torch.tensor(1.)\n",
    "a = torch.tensor(1., requires_grad = True)\n",
    "b = torch.tensor(1., requires_grad = True)\n",
    "c = torch.tensor(1., requires_grad = True)\n",
    "\n",
    "y = a**3 * x + b * x + c\n",
    "\n",
    "print(a.grad, b.grad, c.grad)\n",
    "grads = autograd.grad(y, [a, b ,c])\n",
    "print(grads[0], grads[1], grads[2])"
   ]
  },
  {
   "cell_type": "markdown",
   "id": "f8a179b0",
   "metadata": {},
   "source": [
    "### 张量(Tensors)"
   ]
  },
  {
   "cell_type": "markdown",
   "id": "f0ddbe8d",
   "metadata": {
    "ExecuteTime": {
     "end_time": "2023-01-24T10:37:52.088778Z",
     "start_time": "2023-01-24T10:37:52.082169Z"
    }
   },
   "source": [
    "#### 声明和定义\n",
    "\n",
    "首先是对 Tensors 的声明和定义方法，分别有以下几种:\n"
   ]
  },
  {
   "cell_type": "code",
   "execution_count": 7,
   "id": "b1514f1a",
   "metadata": {
    "ExecuteTime": {
     "end_time": "2023-01-24T10:38:58.616658Z",
     "start_time": "2023-01-24T10:38:58.597462Z"
    }
   },
   "outputs": [
    {
     "name": "stdout",
     "output_type": "stream",
     "text": [
      "tensor([[-3.0907e-02,  3.5610e-41,  0.0000e+00],\n",
      "        [ 0.0000e+00,  0.0000e+00,  0.0000e+00],\n",
      "        [ 0.0000e+00,  0.0000e+00,  0.0000e+00],\n",
      "        [ 0.0000e+00,  0.0000e+00,  0.0000e+00],\n",
      "        [ 0.0000e+00,  0.0000e+00,  0.0000e+00]])\n",
      "<class 'torch.Tensor'>\n"
     ]
    }
   ],
   "source": [
    "# 创建一个 5*3 的矩阵\n",
    "x = torch.empty(5, 3)\n",
    "print(x)\n",
    "print(type(x))"
   ]
  },
  {
   "cell_type": "code",
   "execution_count": 8,
   "id": "9e7db183",
   "metadata": {
    "ExecuteTime": {
     "end_time": "2023-01-24T10:41:43.784973Z",
     "start_time": "2023-01-24T10:41:43.769185Z"
    }
   },
   "outputs": [
    {
     "name": "stdout",
     "output_type": "stream",
     "text": [
      "tensor([[0.1914, 0.0925, 0.1922],\n",
      "        [0.6038, 0.8227, 0.3138],\n",
      "        [0.5482, 0.0842, 0.3302],\n",
      "        [0.0198, 0.2078, 0.0039],\n",
      "        [0.5381, 0.8926, 0.2559]])\n"
     ]
    }
   ],
   "source": [
    "# 创建一个随机初始化的 5*3 矩阵\n",
    "rand_x = torch.rand(5, 3)\n",
    "print(rand_x)"
   ]
  },
  {
   "cell_type": "code",
   "execution_count": 9,
   "id": "a20d6ccb",
   "metadata": {
    "ExecuteTime": {
     "end_time": "2023-01-24T10:42:00.383934Z",
     "start_time": "2023-01-24T10:42:00.369105Z"
    }
   },
   "outputs": [
    {
     "name": "stdout",
     "output_type": "stream",
     "text": [
      "tensor([[0, 0, 0],\n",
      "        [0, 0, 0],\n",
      "        [0, 0, 0],\n",
      "        [0, 0, 0],\n",
      "        [0, 0, 0]])\n"
     ]
    }
   ],
   "source": [
    "# 创建一个数值皆是 0，类型为 long 的矩阵\n",
    "zero_x = torch.zeros(5, 3, dtype=torch.long)\n",
    "print(zero_x)"
   ]
  },
  {
   "cell_type": "code",
   "execution_count": 10,
   "id": "d35c7efb",
   "metadata": {
    "ExecuteTime": {
     "end_time": "2023-01-24T10:42:08.959696Z",
     "start_time": "2023-01-24T10:42:08.948173Z"
    }
   },
   "outputs": [
    {
     "name": "stdout",
     "output_type": "stream",
     "text": [
      "tensor([5.5000, 3.0000])\n"
     ]
    }
   ],
   "source": [
    "# tensor 数值是 [5.5, 3]\n",
    "tensor1 = torch.tensor([5.5, 3])\n",
    "print(tensor1)"
   ]
  },
  {
   "cell_type": "markdown",
   "id": "bf6edd66",
   "metadata": {},
   "source": [
    "#### 张量计算"
   ]
  },
  {
   "cell_type": "markdown",
   "id": "5364fc49",
   "metadata": {},
   "source": [
    "+ 运算符\n",
    "    - torch.add(tensor1, tensor2, [out=tensor3])\n",
    "    - tensor1.add_(tensor2)：直接修改 tensor 变量"
   ]
  },
  {
   "cell_type": "code",
   "execution_count": 11,
   "id": "dd1ddc4f",
   "metadata": {
    "ExecuteTime": {
     "end_time": "2023-01-24T10:44:35.494615Z",
     "start_time": "2023-01-24T10:44:35.445612Z"
    }
   },
   "outputs": [
    {
     "name": "stdout",
     "output_type": "stream",
     "text": [
      "tensor([[1., 1., 1.],\n",
      "        [1., 1., 1.],\n",
      "        [1., 1., 1.],\n",
      "        [1., 1., 1.],\n",
      "        [1., 1., 1.]], dtype=torch.float64)\n",
      "tensor3:  tensor([[ 0.2606,  1.4606,  0.7523],\n",
      "        [-0.4047, -0.4868,  0.9053],\n",
      "        [-0.6099,  0.3712, -0.1146],\n",
      "        [-2.0551, -0.6769, -0.0668],\n",
      "        [ 0.9923,  1.2954,  1.5758]])\n",
      "tensor3 + tensor4=  tensor([[ 0.3639,  2.3958,  1.7394],\n",
      "        [ 0.0338,  0.1430,  1.0662],\n",
      "        [-0.5789,  0.7439,  0.3459],\n",
      "        [-1.6015, -0.0655,  0.1502],\n",
      "        [ 1.1423,  1.9105,  1.5982]])\n",
      "tensor3 + tensor4=  tensor([[ 0.3639,  2.3958,  1.7394],\n",
      "        [ 0.0338,  0.1430,  1.0662],\n",
      "        [-0.5789,  0.7439,  0.3459],\n",
      "        [-1.6015, -0.0655,  0.1502],\n",
      "        [ 1.1423,  1.9105,  1.5982]])\n",
      "add result=  tensor([[ 0.3639,  2.3958,  1.7394],\n",
      "        [ 0.0338,  0.1430,  1.0662],\n",
      "        [-0.5789,  0.7439,  0.3459],\n",
      "        [-1.6015, -0.0655,  0.1502],\n",
      "        [ 1.1423,  1.9105,  1.5982]])\n",
      "tensor3=  tensor([[ 0.3639,  2.3958,  1.7394],\n",
      "        [ 0.0338,  0.1430,  1.0662],\n",
      "        [-0.5789,  0.7439,  0.3459],\n",
      "        [-1.6015, -0.0655,  0.1502],\n",
      "        [ 1.1423,  1.9105,  1.5982]])\n"
     ]
    }
   ],
   "source": [
    "# 显示定义新的尺寸是 5*3，数值类型是 torch.double\n",
    "tensor2 = tensor1.new_ones(5, 3, dtype=torch.double)  # new_* 方法需要输入 tensor 大小\n",
    "print(tensor2)\n",
    "tensor3 = torch.randn_like(tensor2, dtype=torch.float)\n",
    "print('tensor3: ', tensor3)\n",
    "tensor4 = torch.rand(5, 3)\n",
    "print('tensor3 + tensor4= ', tensor3 + tensor4)\n",
    "print('tensor3 + tensor4= ', torch.add(tensor3, tensor4))\n",
    "# 新声明一个 tensor 变量保存加法操作的结果\n",
    "result = torch.empty(5, 3)\n",
    "torch.add(tensor3, tensor4, out=result)\n",
    "print('add result= ', result)\n",
    "# 直接修改变量\n",
    "tensor3.add_(tensor4)\n",
    "print('tensor3= ', tensor3)"
   ]
  },
  {
   "cell_type": "markdown",
   "id": "0714bbb2",
   "metadata": {},
   "source": [
    "#### 和 Numpy 数组的转换\n",
    "Tensor 和 Numpy 的数组可以相互转换，并且两者转换后共享在 CPU 下的内存空间，即改变其中一个的数值，另一个变量也会随之改变。"
   ]
  },
  {
   "cell_type": "code",
   "execution_count": 12,
   "id": "c25f020e",
   "metadata": {
    "ExecuteTime": {
     "end_time": "2023-01-24T10:47:03.192979Z",
     "start_time": "2023-01-24T10:47:03.175851Z"
    }
   },
   "outputs": [
    {
     "name": "stdout",
     "output_type": "stream",
     "text": [
      "tensor([1., 1., 1., 1., 1.])\n",
      "[1. 1. 1. 1. 1.]\n",
      "[2. 2. 2. 2. 2.]\n",
      "tensor([2., 2., 2., 2., 2.], dtype=torch.float64)\n"
     ]
    }
   ],
   "source": [
    "# numpy转torch \n",
    "a = torch.ones(5)\n",
    "print(a)\n",
    "\n",
    "b = a.numpy()\n",
    "print(b)\n",
    "\n",
    "# torch转numpy\n",
    "\n",
    "a = np.ones(5)\n",
    "b = torch.from_numpy(a)\n",
    "np.add(a, 1, out=a)\n",
    "\n",
    "print(a)\n",
    "print(b)"
   ]
  },
  {
   "cell_type": "markdown",
   "id": "b01c73f6",
   "metadata": {},
   "source": [
    "### 自动求导(autograd)\n",
    "\n",
    "对于 Pytorch 的神经网络来说，非常关键的一个库就是 autograd ，它主要是提供了对 Tensors 上所有运算操作的自动微分功能，也就是计算梯度的功能。它属于 define-by-run 类型框架，即反向传播操作的定义是根据代码的运行方式，因此每次迭代都可以是不同的。\n"
   ]
  },
  {
   "cell_type": "code",
   "execution_count": 13,
   "id": "75ef9dbc",
   "metadata": {
    "ExecuteTime": {
     "end_time": "2023-01-24T10:53:46.464337Z",
     "start_time": "2023-01-24T10:53:46.429271Z"
    }
   },
   "outputs": [
    {
     "name": "stdout",
     "output_type": "stream",
     "text": [
      "tensor([[1., 1.],\n",
      "        [1., 1.]], requires_grad=True)\n",
      "tensor([[3., 3.],\n",
      "        [3., 3.]], grad_fn=<AddBackward0>)\n",
      "<AddBackward0 object at 0x7705e6515cf0>\n",
      "z= tensor([[27., 27.],\n",
      "        [27., 27.]], grad_fn=<MulBackward0>)\n",
      "out= tensor(27., grad_fn=<MeanBackward0>)\n",
      "tensor([[4.5000, 4.5000],\n",
      "        [4.5000, 4.5000]])\n"
     ]
    }
   ],
   "source": [
    "# 定义\n",
    "x = torch.ones(2, 2, requires_grad=True)\n",
    "print(x)\n",
    "\n",
    "# 执行计算\n",
    "y = x + 2\n",
    "print(y)\n",
    "\n",
    "# 打印梯度\n",
    "print(y.grad_fn)\n",
    "\n",
    "# 继续计算\n",
    "z = y * y * 3\n",
    "out = z.mean()\n",
    "\n",
    "print('z=', z)\n",
    "print('out=', out)\n",
    "\n",
    "# 计算梯度\n",
    "# 接下来就是开始计算梯度，进行反向传播的操作\n",
    "\n",
    "out.backward()\n",
    "# 输出梯度 d(out)/dx\n",
    "print(x.grad)\n"
   ]
  },
  {
   "cell_type": "markdown",
   "id": "ee41f59f",
   "metadata": {},
   "source": [
    "## 神经网络\n",
    "\n",
    "+ 定义一个多层的神经网络\n",
    "+ 对数据集的预处理并准备作为网络的输入\n",
    "+ 将数据输入到网络\n",
    "+ 计算网络的损失\n",
    "+ 反向传播，计算梯度\n",
    "+ 更新网络的梯度，一个简单的更新规则是 weight = weight - learning_rate * gradient\n"
   ]
  },
  {
   "cell_type": "code",
   "execution_count": 14,
   "id": "0279a0d4",
   "metadata": {
    "ExecuteTime": {
     "end_time": "2023-01-24T13:57:48.601113Z",
     "start_time": "2023-01-24T13:57:48.454747Z"
    }
   },
   "outputs": [
    {
     "name": "stdout",
     "output_type": "stream",
     "text": [
      "Net(\n",
      "  (conv1): Conv2d(1, 6, kernel_size=(5, 5), stride=(1, 1))\n",
      "  (conv2): Conv2d(6, 16, kernel_size=(5, 5), stride=(1, 1))\n",
      "  (fc1): Linear(in_features=400, out_features=120, bias=True)\n",
      "  (fc2): Linear(in_features=120, out_features=84, bias=True)\n",
      "  (fc3): Linear(in_features=84, out_features=10, bias=True)\n",
      ")\n"
     ]
    }
   ],
   "source": [
    "import torch\n",
    "import torch.nn as nn\n",
    "import torch.nn.functional as F\n",
    "\n",
    "class Net(nn.Module):\n",
    "\n",
    "    def __init__(self):\n",
    "        super(Net, self).__init__()\n",
    "        # 输入图像是单通道，conv1 kenrnel size=5*5，输出通道 6\n",
    "        self.conv1 = nn.Conv2d(1, 6, 5)\n",
    "        # conv2 kernel size=5*5, 输出通道 16\n",
    "        self.conv2 = nn.Conv2d(6, 16, 5)\n",
    "        # 全连接层\n",
    "        self.fc1 = nn.Linear(16*5*5, 120)\n",
    "        self.fc2 = nn.Linear(120, 84)\n",
    "        self.fc3 = nn.Linear(84, 10)\n",
    "\n",
    "    def forward(self, x):\n",
    "        # max-pooling 采用一个 (2,2) 的滑动窗口\n",
    "        x = F.max_pool2d(F.relu(self.conv1(x)), (2, 2))\n",
    "        # 核(kernel)大小是方形的话，可仅定义一个数字，如 (2,2) 用 2 即可\n",
    "        x = F.max_pool2d(F.relu(self.conv2(x)), 2)\n",
    "        x = x.view(-1, self.num_flat_features(x))\n",
    "        x = F.relu(self.fc1(x))\n",
    "        x = F.relu(self.fc2(x))\n",
    "        x = self.fc3(x)\n",
    "        return x\n",
    "\n",
    "    def num_flat_features(self, x):\n",
    "        # 除了 batch 维度外的所有维度\n",
    "        size = x.size()[1:]\n",
    "        num_features = 1\n",
    "        for s in size:\n",
    "            num_features *= s\n",
    "        return num_features\n",
    "\n",
    "net = Net()\n",
    "print(net)"
   ]
  },
  {
   "cell_type": "code",
   "execution_count": 15,
   "id": "a160837f",
   "metadata": {
    "ExecuteTime": {
     "end_time": "2023-01-24T14:08:28.959880Z",
     "start_time": "2023-01-24T14:08:28.942661Z"
    }
   },
   "outputs": [
    {
     "name": "stdout",
     "output_type": "stream",
     "text": [
      "参数数量:  10\n",
      "第一个参数大小:  torch.Size([6, 1, 5, 5])\n"
     ]
    }
   ],
   "source": [
    "# 这里必须实现 forward 函数，而 backward 函数在采用 autograd 时就自动定义好了，\n",
    "# 在 forward 方法可以采用任何的张量操作。\n",
    "\n",
    "params = list(net.parameters())\n",
    "print('参数数量: ', len(params))\n",
    "# conv1.weight\n",
    "print('第一个参数大小: ', params[0].size())"
   ]
  },
  {
   "cell_type": "code",
   "execution_count": 16,
   "id": "a816dab1",
   "metadata": {
    "ExecuteTime": {
     "end_time": "2023-01-24T14:07:12.817858Z",
     "start_time": "2023-01-24T14:07:12.606183Z"
    }
   },
   "outputs": [
    {
     "name": "stdout",
     "output_type": "stream",
     "text": [
      "tensor([[ 0.0502,  0.0476, -0.0857, -0.0522, -0.1765, -0.0310,  0.0778, -0.0274,\n",
      "         -0.0216, -0.0207]], grad_fn=<AddmmBackward0>)\n"
     ]
    }
   ],
   "source": [
    "# 输入一个随机数据\n",
    "input = torch.randn(1, 1, 32, 32)\n",
    "out = net(input)\n",
    "print(out)"
   ]
  },
  {
   "cell_type": "code",
   "execution_count": 17,
   "id": "5b75b81f",
   "metadata": {
    "ExecuteTime": {
     "end_time": "2023-01-24T14:08:46.611349Z",
     "start_time": "2023-01-24T14:08:46.562218Z"
    }
   },
   "outputs": [],
   "source": [
    "# 清空所有参数的梯度缓存，然后计算随机梯度进行反向传播\n",
    "net.zero_grad()\n",
    "out.backward(torch.randn(1, 10))"
   ]
  },
  {
   "cell_type": "markdown",
   "id": "bd7b7055",
   "metadata": {},
   "source": [
    "### 损失函数\n",
    "\n",
    "损失函数的输入是 (output, target) ，即网络输出和真实标签对的数据，然后返回一个数值表示网络输出和真实标签的差距。\n",
    "\n",
    "PyTorch 中其实已经定义了不少的损失函数，这里仅采用简单的均方误差：nn.MSELoss ，例子如下："
   ]
  },
  {
   "cell_type": "code",
   "execution_count": 18,
   "id": "e7546841",
   "metadata": {
    "ExecuteTime": {
     "end_time": "2023-01-24T14:09:54.928131Z",
     "start_time": "2023-01-24T14:09:54.895721Z"
    }
   },
   "outputs": [
    {
     "name": "stdout",
     "output_type": "stream",
     "text": [
      "tensor(0.5801, grad_fn=<MseLossBackward0>)\n"
     ]
    }
   ],
   "source": [
    "output = net(input)\n",
    "# 定义伪标签\n",
    "target = torch.randn(10)\n",
    "# 调整大小，使得和 output 一样的 size\n",
    "target = target.view(1, -1)\n",
    "criterion = nn.MSELoss()\n",
    "\n",
    "loss = criterion(output, target)\n",
    "print(loss)"
   ]
  },
  {
   "cell_type": "code",
   "execution_count": 19,
   "id": "2a600e28",
   "metadata": {
    "ExecuteTime": {
     "end_time": "2023-01-24T14:12:00.818894Z",
     "start_time": "2023-01-24T14:12:00.802513Z"
    }
   },
   "outputs": [
    {
     "name": "stdout",
     "output_type": "stream",
     "text": [
      "<MseLossBackward0 object at 0x7705e13cef20>\n",
      "<AddmmBackward0 object at 0x7705e13fbfd0>\n",
      "<AccumulateGrad object at 0x7705e13cef20>\n"
     ]
    }
   ],
   "source": [
    "# MSELoss\n",
    "print(loss.grad_fn)\n",
    "# Linear layer\n",
    "print(loss.grad_fn.next_functions[0][0])\n",
    "# Relu\n",
    "print(loss.grad_fn.next_functions[0][0].next_functions[0][0])"
   ]
  },
  {
   "cell_type": "code",
   "execution_count": 20,
   "id": "025ce718",
   "metadata": {
    "ExecuteTime": {
     "end_time": "2023-01-24T14:12:16.116357Z",
     "start_time": "2023-01-24T14:12:16.075036Z"
    }
   },
   "outputs": [
    {
     "name": "stdout",
     "output_type": "stream",
     "text": [
      "conv1.bias.grad before backward\n",
      "None\n",
      "conv1.bias.grad after backward\n",
      "tensor([ 1.2978e-02, -2.6963e-03,  1.0054e-02, -2.2406e-03, -7.0706e-05,\n",
      "        -1.2334e-02])\n"
     ]
    }
   ],
   "source": [
    "# 清空所有参数的梯度缓存\n",
    "net.zero_grad()\n",
    "print('conv1.bias.grad before backward')\n",
    "print(net.conv1.bias.grad)\n",
    "\n",
    "loss.backward()\n",
    "\n",
    "print('conv1.bias.grad after backward')\n",
    "print(net.conv1.bias.grad)"
   ]
  },
  {
   "cell_type": "code",
   "execution_count": 21,
   "id": "399b220e",
   "metadata": {
    "ExecuteTime": {
     "end_time": "2023-01-24T14:12:32.391070Z",
     "start_time": "2023-01-24T14:12:32.370809Z"
    }
   },
   "outputs": [],
   "source": [
    "# 简单实现权重的更新例子\n",
    "learning_rate = 0.01\n",
    "for f in net.parameters():\n",
    "    f.data.sub_(f.grad.data * learning_rate)"
   ]
  },
  {
   "cell_type": "code",
   "execution_count": 22,
   "id": "d778a036",
   "metadata": {
    "ExecuteTime": {
     "end_time": "2023-01-24T14:12:49.251788Z",
     "start_time": "2023-01-24T14:12:49.199608Z"
    },
    "editable": true,
    "slideshow": {
     "slide_type": ""
    },
    "tags": []
   },
   "outputs": [],
   "source": [
    "import torch.optim as optim\n",
    "# 创建优化器\n",
    "optimizer = optim.SGD(net.parameters(), lr=0.01)\n",
    "\n",
    "# 在训练过程中执行下列操作\n",
    "optimizer.zero_grad() # 清空梯度缓存\n",
    "output = net(input)\n",
    "loss = criterion(output, target)\n",
    "loss.backward()\n",
    "# 更新权重\n",
    "optimizer.step()"
   ]
  },
  {
   "cell_type": "markdown",
   "id": "5a20e05c-7abd-44be-8c27-d986daef425f",
   "metadata": {},
   "source": [
    "### 神经元"
   ]
  },
  {
   "cell_type": "code",
   "execution_count": 30,
   "id": "47ba370c-9a62-4af6-abbb-12ff0470382a",
   "metadata": {},
   "outputs": [
    {
     "name": "stdout",
     "output_type": "stream",
     "text": [
      "SimpleNN(\n",
      "  (fc1): Linear(in_features=2, out_features=2, bias=True)\n",
      "  (fc2): Linear(in_features=2, out_features=1, bias=True)\n",
      ")\n"
     ]
    }
   ],
   "source": [
    "# 定义一个简单的神经网络模型\n",
    "class SimpleNN(nn.Module):\n",
    "    def __init__(self):\n",
    "        super(SimpleNN, self).__init__()\n",
    "        # 定义一个输入层到隐藏层的全连接层\n",
    "        self.fc1 = nn.Linear(2, 2)  # 输入 2 个特征，输出 2 个特征\n",
    "        # 定义一个隐藏层到输出层的全连接层\n",
    "        self.fc2 = nn.Linear(2, 1)  # 输入 2 个特征，输出 1 个预测值\n",
    "   \n",
    "    def forward(self, x):\n",
    "        # 前向传播过程\n",
    "        x = torch.relu(self.fc1(x))  # 使用 ReLU 激活函数\n",
    "        x = self.fc2(x)  # 输出层\n",
    "        return x\n",
    "\n",
    "# 创建模型实例\n",
    "model = SimpleNN()\n",
    "\n",
    "# 打印模型\n",
    "print(model)"
   ]
  },
  {
   "cell_type": "code",
   "execution_count": 31,
   "id": "0b7cc42a-eee0-44d7-a9b8-9182ff6101c3",
   "metadata": {},
   "outputs": [
    {
     "name": "stdout",
     "output_type": "stream",
     "text": [
      "Epoch [1/50], Loss: 0.3075\n",
      "Epoch [2/50], Loss: 0.3071\n",
      "Epoch [3/50], Loss: 0.3067\n",
      "Epoch [4/50], Loss: 0.3063\n",
      "Epoch [5/50], Loss: 0.3060\n",
      "Epoch [6/50], Loss: 0.3056\n",
      "Epoch [7/50], Loss: 0.3052\n",
      "Epoch [8/50], Loss: 0.3049\n",
      "Epoch [9/50], Loss: 0.3045\n",
      "Epoch [10/50], Loss: 0.3041\n",
      "Epoch [11/50], Loss: 0.3038\n",
      "Epoch [12/50], Loss: 0.3034\n",
      "Epoch [13/50], Loss: 0.3030\n",
      "Epoch [14/50], Loss: 0.3027\n",
      "Epoch [15/50], Loss: 0.3023\n",
      "Epoch [16/50], Loss: 0.3020\n",
      "Epoch [17/50], Loss: 0.3016\n",
      "Epoch [18/50], Loss: 0.3012\n",
      "Epoch [19/50], Loss: 0.3009\n",
      "Epoch [20/50], Loss: 0.3005\n",
      "Epoch [21/50], Loss: 0.3002\n",
      "Epoch [22/50], Loss: 0.2999\n",
      "Epoch [23/50], Loss: 0.2995\n",
      "Epoch [24/50], Loss: 0.2992\n",
      "Epoch [25/50], Loss: 0.2989\n",
      "Epoch [26/50], Loss: 0.2986\n",
      "Epoch [27/50], Loss: 0.2982\n",
      "Epoch [28/50], Loss: 0.2979\n",
      "Epoch [29/50], Loss: 0.2976\n",
      "Epoch [30/50], Loss: 0.2973\n",
      "Epoch [31/50], Loss: 0.2969\n",
      "Epoch [32/50], Loss: 0.2966\n",
      "Epoch [33/50], Loss: 0.2963\n",
      "Epoch [34/50], Loss: 0.2960\n",
      "Epoch [35/50], Loss: 0.2956\n",
      "Epoch [36/50], Loss: 0.2953\n",
      "Epoch [37/50], Loss: 0.2950\n",
      "Epoch [38/50], Loss: 0.2947\n",
      "Epoch [39/50], Loss: 0.2944\n",
      "Epoch [40/50], Loss: 0.2940\n",
      "Epoch [41/50], Loss: 0.2937\n",
      "Epoch [42/50], Loss: 0.2934\n",
      "Epoch [43/50], Loss: 0.2931\n",
      "Epoch [44/50], Loss: 0.2928\n",
      "Epoch [45/50], Loss: 0.2924\n",
      "Epoch [46/50], Loss: 0.2921\n",
      "Epoch [47/50], Loss: 0.2918\n",
      "Epoch [48/50], Loss: 0.2915\n",
      "Epoch [49/50], Loss: 0.2912\n",
      "Epoch [50/50], Loss: 0.2909\n"
     ]
    },
    {
     "data": {
      "image/png": "[encoded data removed]",
      "text/plain": [
       "<Figure size 800x500 with 1 Axes>"
      ]
     },
     "metadata": {},
     "output_type": "display_data"
    },
    {
     "data": {
      "image/png": "[encoded data removed]",
      "text/plain": [
       "<Figure size 800x500 with 1 Axes>"
      ]
     },
     "metadata": {},
     "output_type": "display_data"
    }
   ],
   "source": [
    "# 定义输入层大小、隐藏层大小、输出层大小和批量大小\n",
    "n_in, n_h, n_out, batch_size = 10, 5, 1, 10\n",
    "\n",
    "# 创建虚拟输入数据和目标数据\n",
    "x = torch.randn(batch_size, n_in)  # 随机生成输入数据\n",
    "y = torch.tensor([[1.0], [0.0], [0.0],\n",
    "                  [1.0], [1.0], [1.0], [0.0], [0.0], [1.0], [1.0]])  # 目标输出数据\n",
    "\n",
    "# 创建顺序模型，包含线性层、ReLU激活函数和Sigmoid激活函数\n",
    "model = nn.Sequential(\n",
    "    nn.Linear(n_in, n_h),  # 输入层到隐藏层的线性变换\n",
    "    nn.ReLU(),            # 隐藏层的ReLU激活函数\n",
    "    nn.Linear(n_h, n_out),  # 隐藏层到输出层的线性变换\n",
    "    nn.Sigmoid()           # 输出层的Sigmoid激活函数\n",
    ")\n",
    "\n",
    "# 定义均方误差损失函数和随机梯度下降优化器\n",
    "criterion = torch.nn.MSELoss()\n",
    "optimizer = torch.optim.SGD(model.parameters(), lr=0.01)  # 学习率为0.01\n",
    "\n",
    "# 用于存储每轮的损失值\n",
    "losses = []\n",
    "\n",
    "# 执行梯度下降算法进行模型训练\n",
    "for epoch in range(50):  # 迭代50次\n",
    "    y_pred = model(x)  # 前向传播，计算预测值\n",
    "    loss = criterion(y_pred, y)  # 计算损失\n",
    "    losses.append(loss.item())  # 记录损失值\n",
    "    print(f'Epoch [{epoch+1}/50], Loss: {loss.item():.4f}')  # 打印损失值\n",
    "\n",
    "    optimizer.zero_grad()  # 清零梯度\n",
    "    loss.backward()  # 反向传播，计算梯度\n",
    "    optimizer.step()  # 更新模型参数\n",
    "\n",
    "# 可视化损失变化曲线\n",
    "plt.figure(figsize=(8, 5))\n",
    "plt.plot(range(1, 51), losses, label='Loss')\n",
    "plt.xlabel('Epoch')\n",
    "plt.ylabel('Loss')\n",
    "plt.title('Training Loss Over Epochs')\n",
    "plt.legend()\n",
    "plt.grid()\n",
    "plt.show()\n",
    "\n",
    "# 可视化预测结果与实际目标值对比\n",
    "y_pred_final = model(x).detach().numpy()  # 最终预测值\n",
    "y_actual = y.numpy()  # 实际值\n",
    "\n",
    "plt.figure(figsize=(8, 5))\n",
    "plt.plot(range(1, batch_size + 1), y_actual, 'o-', label='Actual', color='blue')\n",
    "plt.plot(range(1, batch_size + 1), y_pred_final, 'x--', label='Predicted', color='red')\n",
    "plt.xlabel('Sample Index')\n",
    "plt.ylabel('Value')\n",
    "plt.title('Actual vs Predicted Values')\n",
    "plt.legend()\n",
    "plt.grid()\n",
    "plt.show()"
   ]
  },
  {
   "cell_type": "markdown",
   "id": "49f5ece7-d791-4106-90cf-41ed019540ab",
   "metadata": {},
   "source": [
    "#### 数据准备"
   ]
  },
  {
   "cell_type": "code",
   "execution_count": 32,
   "id": "dbaf76b2-1e67-4c3c-93cc-1baf9df5872d",
   "metadata": {},
   "outputs": [
    {
     "data": {
      "image/png": "[encoded data removed]",
      "text/plain": [
       "<Figure size 640x480 with 1 Axes>"
      ]
     },
     "metadata": {},
     "output_type": "display_data"
    }
   ],
   "source": [
    "# 生成一些随机数据\n",
    "n_samples = 100\n",
    "data = torch.randn(n_samples, 2)  # 生成 100 个二维数据点\n",
    "labels = (data[:, 0]**2 + data[:, 1]**2 < 1).float().unsqueeze(1)  # 点在圆内为1，圆外为0\n",
    "\n",
    "# 可视化数据\n",
    "plt.scatter(data[:, 0], data[:, 1], c=labels.squeeze(), cmap='coolwarm')\n",
    "plt.title(\"Generated Data\")\n",
    "plt.xlabel(\"Feature 1\")\n",
    "plt.ylabel(\"Feature 2\")\n",
    "plt.show()"
   ]
  },
  {
   "cell_type": "markdown",
   "id": "873e7dbf-47be-47e1-927b-a58ecfc4b456",
   "metadata": {},
   "source": [
    "#### 定义神经网络"
   ]
  },
  {
   "cell_type": "code",
   "execution_count": 34,
   "id": "80bb7b7c-dc40-4239-8af2-42f95f04270d",
   "metadata": {},
   "outputs": [],
   "source": [
    "class SimpleNN(nn.Module):\n",
    "    def __init__(self):\n",
    "        super(SimpleNN, self).__init__()\n",
    "        # 定义神经网络的层\n",
    "        self.fc1 = nn.Linear(2, 4)  # 输入层有 2 个特征，隐藏层有 4 个神经元\n",
    "        self.fc2 = nn.Linear(4, 1)  # 隐藏层输出到 1 个神经元（用于二分类）\n",
    "        self.sigmoid = nn.Sigmoid()  # 二分类激活函数\n",
    "\n",
    "    def forward(self, x):\n",
    "        x = torch.relu(self.fc1(x))  # 使用 ReLU 激活函数\n",
    "        x = self.sigmoid(self.fc2(x))  # 输出层使用 Sigmoid 激活函数\n",
    "        return x\n",
    "\n",
    "# 实例化模型\n",
    "model = SimpleNN()"
   ]
  },
  {
   "cell_type": "markdown",
   "id": "b435305d-b0f1-47da-a26b-e8ea398698e3",
   "metadata": {},
   "source": [
    "#### 定义损失函数与优化器"
   ]
  },
  {
   "cell_type": "code",
   "execution_count": 35,
   "id": "201b64a1-bc69-4f3b-891f-45f9d24c6a14",
   "metadata": {},
   "outputs": [],
   "source": [
    "# 定义二分类的损失函数和优化器\n",
    "criterion = nn.BCELoss()  # 二元交叉熵损失\n",
    "optimizer = optim.SGD(model.parameters(), lr=0.1)  # 使用随机梯度下降优化器"
   ]
  },
  {
   "cell_type": "markdown",
   "id": "ffcb6886-c46c-441a-ba9d-9125436a88bc",
   "metadata": {},
   "source": [
    "#### 训练模型"
   ]
  },
  {
   "cell_type": "code",
   "execution_count": 36,
   "id": "8ef54964-4d51-49da-9a66-b53afaab5154",
   "metadata": {},
   "outputs": [
    {
     "name": "stdout",
     "output_type": "stream",
     "text": [
      "Epoch [10/100], Loss: 0.6850\n",
      "Epoch [20/100], Loss: 0.6570\n",
      "Epoch [30/100], Loss: 0.6389\n",
      "Epoch [40/100], Loss: 0.6267\n",
      "Epoch [50/100], Loss: 0.6177\n",
      "Epoch [60/100], Loss: 0.6104\n",
      "Epoch [70/100], Loss: 0.6038\n",
      "Epoch [80/100], Loss: 0.5974\n",
      "Epoch [90/100], Loss: 0.5910\n",
      "Epoch [100/100], Loss: 0.5844\n"
     ]
    }
   ],
   "source": [
    "# 训练\n",
    "epochs = 100\n",
    "for epoch in range(epochs):\n",
    "    # 前向传播\n",
    "    outputs = model(data)\n",
    "    loss = criterion(outputs, labels)\n",
    "\n",
    "    # 反向传播\n",
    "    optimizer.zero_grad()\n",
    "    loss.backward()\n",
    "    optimizer.step()\n",
    "\n",
    "    # 每 10 轮打印一次损失\n",
    "    if (epoch + 1) % 10 == 0:\n",
    "        print(f'Epoch [{epoch + 1}/{epochs}], Loss: {loss.item():.4f}')"
   ]
  },
  {
   "cell_type": "markdown",
   "id": "824ed8f7",
   "metadata": {},
   "source": [
    "##  训练分类器"
   ]
  },
  {
   "cell_type": "markdown",
   "id": "2b941d6f",
   "metadata": {},
   "source": [
    "+ 训练流程如下：\n",
    "    - 通过调用 torchvision 加载和归一化 CIFAR10 训练集和测试集；\n",
    "    - 构建一个卷积神经网络；\n",
    "    - 定义一个损失函数；\n",
    "    - 在训练集上训练网络；\n",
    "    - 在测试集上测试网络性能"
   ]
  },
  {
   "cell_type": "code",
   "execution_count": 23,
   "id": "1052826a",
   "metadata": {
    "ExecuteTime": {
     "end_time": "2023-01-24T14:22:01.345601Z",
     "start_time": "2023-01-24T14:21:35.927757Z"
    }
   },
   "outputs": [],
   "source": [
    "# 将图片数据从 [0,1] 归一化为 [-1, 1] 的取值范围\n",
    "transform = transforms.Compose(\n",
    "    [transforms.ToTensor(),\n",
    "     transforms.Normalize((0.5, 0.5, 0.5), (0.5, 0.5, 0.5))])\n",
    "\n",
    "trainset = torchvision.datasets.CIFAR10(root='./data', train=True,\n",
    "                                        download=True, transform=transform)\n",
    "trainloader = torch.utils.data.DataLoader(trainset, batch_size=4,\n",
    "                                          shuffle=True, num_workers=2)\n",
    "\n",
    "testset = torchvision.datasets.CIFAR10(root='./data', train=False,\n",
    "                                       download=True, transform=transform)\n",
    "testloader = torch.utils.data.DataLoader(testset, batch_size=4,\n",
    "                                         shuffle=False, num_workers=2)\n",
    "\n",
    "classes = ('plane', 'car', 'bird', 'cat',\n",
    "           'deer', 'dog', 'frog', 'horse', 'ship', 'truck')"
   ]
  },
  {
   "cell_type": "code",
   "execution_count": 24,
   "id": "156c04ba",
   "metadata": {
    "ExecuteTime": {
     "end_time": "2023-01-24T14:24:59.805044Z",
     "start_time": "2023-01-24T14:24:58.784415Z"
    }
   },
   "outputs": [
    {
     "data": {
      "image/png": "[encoded data removed]",
      "text/plain": [
       "<Figure size 640x480 with 1 Axes>"
      ]
     },
     "metadata": {},
     "output_type": "display_data"
    },
    {
     "name": "stdout",
     "output_type": "stream",
     "text": [
      "  car truck   dog plane\n"
     ]
    }
   ],
   "source": [
    "# 展示图片的函数\n",
    "def imshow(img):\n",
    "    img = img / 2 + 0.5     # 非归一化\n",
    "    npimg = img.numpy()\n",
    "    plt.imshow(np.transpose(npimg, (1, 2, 0)))\n",
    "    plt.show()\n",
    "\n",
    "\n",
    "# 随机获取训练集图片\n",
    "dataiter = iter(trainloader)\n",
    "images, labels = next(dataiter)\n",
    "\n",
    "# 展示图片\n",
    "imshow(torchvision.utils.make_grid(images))\n",
    "# 打印图片类别标签\n",
    "print(' '.join('%5s' % classes[labels[j]] for j in range(4)))"
   ]
  },
  {
   "cell_type": "code",
   "execution_count": 25,
   "id": "f2fc1eda",
   "metadata": {
    "ExecuteTime": {
     "end_time": "2023-01-24T14:26:48.638171Z",
     "start_time": "2023-01-24T14:26:48.624765Z"
    }
   },
   "outputs": [],
   "source": [
    "import torch.nn as nn\n",
    "import torch.nn.functional as F\n",
    "\n",
    "\n",
    "class Net(nn.Module):\n",
    "    def __init__(self):\n",
    "        super(Net, self).__init__()\n",
    "        self.conv1 = nn.Conv2d(3, 6, 5)\n",
    "        self.pool = nn.MaxPool2d(2, 2)\n",
    "        self.conv2 = nn.Conv2d(6, 16, 5)\n",
    "        self.fc1 = nn.Linear(16 * 5 * 5, 120)\n",
    "        self.fc2 = nn.Linear(120, 84)\n",
    "        self.fc3 = nn.Linear(84, 10)\n",
    "\n",
    "    def forward(self, x):\n",
    "        x = self.pool(F.relu(self.conv1(x)))\n",
    "        x = self.pool(F.relu(self.conv2(x)))\n",
    "        x = x.view(-1, 16 * 5 * 5)\n",
    "        x = F.relu(self.fc1(x))\n",
    "        x = F.relu(self.fc2(x))\n",
    "        x = self.fc3(x)\n",
    "        return x\n",
    "\n",
    "\n",
    "net = Net()"
   ]
  },
  {
   "cell_type": "markdown",
   "id": "2b7cca7a",
   "metadata": {},
   "source": [
    "### 定义损失函数和优化器"
   ]
  },
  {
   "cell_type": "code",
   "execution_count": 26,
   "id": "3823be23",
   "metadata": {
    "ExecuteTime": {
     "end_time": "2023-01-24T14:27:20.542757Z",
     "start_time": "2023-01-24T14:27:20.534489Z"
    }
   },
   "outputs": [],
   "source": [
    "# 这里采用类别交叉熵函数和带有动量的 SGD 优化方法：\n",
    "\n",
    "import torch.optim as optim\n",
    "\n",
    "criterion = nn.CrossEntropyLoss()\n",
    "optimizer = optim.SGD(net.parameters(), lr=0.001, momentum=0.9)"
   ]
  },
  {
   "cell_type": "markdown",
   "id": "a81c6f6e",
   "metadata": {},
   "source": [
    "### 训练网络\n",
    "\n",
    "> 第四步自然就是开始训练网络，指定需要迭代的 epoch，然后输入数据</br>\n",
    "> 指定次数打印当前网络的信息，比如 loss 或者准确率等性能评价标准。"
   ]
  },
  {
   "cell_type": "code",
   "execution_count": null,
   "id": "934ef03b",
   "metadata": {
    "ExecuteTime": {
     "end_time": "2023-01-24T14:33:18.392020Z",
     "start_time": "2023-01-24T14:29:34.453498Z"
    }
   },
   "outputs": [],
   "source": [
    "import time\n",
    "start = time.time()\n",
    "for epoch in range(2):\n",
    "\n",
    "    running_loss = 0.0\n",
    "    for i, data in enumerate(trainloader, 0):\n",
    "        # 获取输入数据\n",
    "        inputs, labels = data\n",
    "        # 清空梯度缓存\n",
    "        optimizer.zero_grad()\n",
    "\n",
    "        outputs = net(inputs)\n",
    "        loss = criterion(outputs, labels)\n",
    "        loss.backward()\n",
    "        optimizer.step()\n",
    "\n",
    "        # 打印统计信息\n",
    "        running_loss += loss.item()\n",
    "        if i % 2000 == 1999:\n",
    "            # 每 2000 次迭代打印一次信息\n",
    "            print('[%d, %5d] loss: %.3f' % (epoch + 1, i+1, running_loss / 2000))\n",
    "            running_loss = 0.0\n",
    "print('Finished Training! Total cost time: ', time.time()-start)"
   ]
  },
  {
   "cell_type": "code",
   "execution_count": null,
   "id": "9d66c8a9",
   "metadata": {
    "ExecuteTime": {
     "end_time": "2023-01-24T14:37:50.772298Z",
     "start_time": "2023-01-24T14:37:50.463893Z"
    }
   },
   "outputs": [],
   "source": [
    "# 测试\n",
    "dataiter = iter(testloader)\n",
    "images, labels = next(dataiter)\n",
    "\n",
    "# 打印图片\n",
    "imshow(torchvision.utils.make_grid(images))\n",
    "print('GroundTruth: ', ' '.join('%5s' % classes[labels[j]] for j in range(4)))"
   ]
  },
  {
   "cell_type": "code",
   "execution_count": null,
   "id": "26bb3751",
   "metadata": {
    "ExecuteTime": {
     "end_time": "2023-01-24T14:38:19.883418Z",
     "start_time": "2023-01-24T14:38:19.863938Z"
    }
   },
   "outputs": [],
   "source": [
    "# 网络输出\n",
    "outputs = net(images)\n",
    "\n",
    "# 预测结果\n",
    "_, predicted = torch.max(outputs, 1)\n",
    "print('Predicted: ', ' '.join('%5s' % classes[predicted[j]] for j in range(4)))"
   ]
  },
  {
   "cell_type": "code",
   "execution_count": null,
   "id": "2bf8ba3e",
   "metadata": {
    "ExecuteTime": {
     "end_time": "2023-01-24T14:38:54.373607Z",
     "start_time": "2023-01-24T14:38:37.227836Z"
    }
   },
   "outputs": [],
   "source": [
    "correct = 0\n",
    "total = 0\n",
    "with torch.no_grad():\n",
    "    for data in testloader:\n",
    "        images, labels = data\n",
    "        outputs = net(images)\n",
    "        _, predicted = torch.max(outputs.data, 1)\n",
    "        total += labels.size(0)\n",
    "        correct += (predicted == labels).sum().item()\n",
    "\n",
    "print('Accuracy of the network on the 10000 test images: %d %%' % (100 * correct / total))"
   ]
  },
  {
   "cell_type": "code",
   "execution_count": null,
   "id": "d6002add",
   "metadata": {
    "ExecuteTime": {
     "end_time": "2023-01-24T14:41:08.975013Z",
     "start_time": "2023-01-24T14:40:52.120930Z"
    }
   },
   "outputs": [],
   "source": [
    "class_correct = list(0. for i in range(10))\n",
    "class_total = list(0. for i in range(10))\n",
    "with torch.no_grad():\n",
    "    for data in testloader:\n",
    "        images, labels = data\n",
    "        outputs = net(images)\n",
    "        _, predicted = torch.max(outputs, 1)\n",
    "        c = (predicted == labels).squeeze()\n",
    "        for i in range(4):\n",
    "            label = labels[i]\n",
    "            class_correct[label] += c[i].item()\n",
    "            class_total[label] += 1\n",
    "\n",
    "\n",
    "for i in range(10):\n",
    "    print('Accuracy of %5s : %2d %%' % (classes[i], 100 * class_correct[i] / class_total[i]))"
   ]
  },
  {
   "cell_type": "markdown",
   "id": "92aa1512",
   "metadata": {},
   "source": [
    "## 数据并行"
   ]
  },
  {
   "cell_type": "code",
   "execution_count": null,
   "id": "bda4edfa",
   "metadata": {},
   "outputs": [],
   "source": []
  }
 ],
 "metadata": {
  "kernelspec": {
   "display_name": "Python 3 (ipykernel)",
   "language": "python",
   "name": "python3"
  },
  "language_info": {
   "codemirror_mode": {
    "name": "ipython",
    "version": 3
   },
   "file_extension": ".py",
   "mimetype": "text/x-python",
   "name": "python",
   "nbconvert_exporter": "python",
   "pygments_lexer": "ipython3",
   "version": "3.13.2"
  },
  "toc": {
   "base_numbering": 1,
   "nav_menu": {
    "height": "244px",
    "width": "161px"
   },
   "number_sections": true,
   "sideBar": true,
   "skip_h1_title": false,
   "title_cell": "Table of Contents",
   "title_sidebar": "Contents",
   "toc_cell": false,
   "toc_position": {
    "height": "calc(100% - 180px)",
    "left": "10px",
    "top": "150px",
    "width": "273.188px"
   },
   "toc_section_display": true,
   "toc_window_display": false
  },
  "varInspector": {
   "cols": {
    "lenName": 16,
    "lenType": 16,
    "lenVar": 40
   },
   "kernels_config": {
    "python": {
     "delete_cmd_postfix": "",
     "delete_cmd_prefix": "del ",
     "library": "var_list.py",
     "varRefreshCmd": "print(var_dic_list())"
    },
    "r": {
     "delete_cmd_postfix": ") ",
     "delete_cmd_prefix": "rm(",
     "library": "var_list.r",
     "varRefreshCmd": "cat(var_dic_list()) "
    }
   },
   "types_to_exclude": [
    "module",
    "function",
    "builtin_function_or_method",
    "instance",
    "_Feature"
   ],
   "window_display": false
  }
 },
 "nbformat": 4,
 "nbformat_minor": 5
}
