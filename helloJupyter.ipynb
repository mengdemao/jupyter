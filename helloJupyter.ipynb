{
 "cells": [
  {
   "cell_type": "markdown",
   "id": "b4e46b6e-fc31-440c-b8d4-57a9b1f4f364",
   "metadata": {
    "tags": []
   },
   "source": [
    "# 测试jupyter"
   ]
  },
  {
   "cell_type": "code",
   "execution_count": 1,
   "id": "42c31062-d116-49c9-a925-e54589de8157",
   "metadata": {},
   "outputs": [],
   "source": [
    "from rich import print"
   ]
  },
  {
   "cell_type": "code",
   "execution_count": 2,
   "id": "be23be8d-d2f2-45c5-b606-cf15e247f17d",
   "metadata": {},
   "outputs": [
    {
     "data": {
      "text/html": [
       "<pre style=\"white-space:pre;overflow-x:auto;line-height:normal;font-family:Menlo,'DejaVu Sans Mono',consolas,'Courier New',monospace\">hello jupyter\n",
       "</pre>\n"
      ],
      "text/plain": [
       "hello jupyter\n"
      ]
     },
     "metadata": {},
     "output_type": "display_data"
    }
   ],
   "source": [
    "def hello():\n",
    "    print(\"hello jupyter\")\n",
    "    return\n",
    "\n",
    "hello()"
   ]
  }
 ],
 "metadata": {
  "kernelspec": {
   "display_name": "Python 3 (ipykernel)",
   "language": "python",
   "name": "python3"
  },
  "language_info": {
   "codemirror_mode": {
    "name": "ipython",
    "version": 3
   },
   "file_extension": ".py",
   "mimetype": "text/x-python",
   "name": "python",
   "nbconvert_exporter": "python",
   "pygments_lexer": "ipython3",
   "version": "3.10.9"
  },
  "vscode": {
   "interpreter": {
    "hash": "e7370f93d1d0cde622a1f8e1c04877d8463912d04d973331ad4851f04de6915a"
   }
  }
 },
 "nbformat": 4,
 "nbformat_minor": 5
}
