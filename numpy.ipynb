{
 "cells": [
  {
   "cell_type": "markdown",
   "id": "7a4cbfe2",
   "metadata": {},
   "source": [
    "# numpy入门"
   ]
  },
  {
   "cell_type": "markdown",
   "id": "856cccd2",
   "metadata": {},
   "source": [
    "## 数组基础"
   ]
  },
  {
   "cell_type": "code",
   "execution_count": null,
   "id": "f20c2226-6d6a-4a2d-b3b1-8e0ae4242a02",
   "metadata": {},
   "outputs": [],
   "source": [
    "# 导入魔法命令\n",
    "%run helper.py\n",
    "\n",
    "# 内联图片\n",
    "%matplotlib inline"
   ]
  },
  {
   "cell_type": "code",
   "execution_count": null,
   "id": "40eac354",
   "metadata": {
    "ExecuteTime": {
     "end_time": "2023-02-05T15:50:18.646983Z",
     "start_time": "2023-02-05T15:50:18.607392Z"
    }
   },
   "outputs": [
    {
     "name": "stdout",
     "output_type": "stream",
     "text": [
      "[0 1 2 3 4]\n",
      "[0 1 2 3 4]\n",
      "[0 1 2 3 4]\n",
      "[0.         1.57079633 3.14159265 4.71238898 6.28318531]\n",
      "3\n"
     ]
    }
   ],
   "source": [
    "# 创建一个数组\n",
    "# 1D Array\n",
    "a = np.array([0, 1, 2, 3, 4])\n",
    "b = np.array((0, 1, 2, 3, 4))\n",
    "c = np.arange(5)\n",
    "d = np.linspace(0, 2*np.pi, 5)\n",
    "\n",
    "print(a) # >>>[0 1 2 3 4]\n",
    "print(b) # >>>[0 1 2 3 4]\n",
    "print(c) # >>>[0 1 2 3 4]\n",
    "print(d) # >>>[ 0.          1.57079633  3.14159265  4.71238898  6.28318531]\n",
    "print(a[3]) # >>>3"
   ]
  },
  {
   "cell_type": "code",
   "execution_count": null,
   "id": "85eefdfc",
   "metadata": {
    "ExecuteTime": {
     "end_time": "2023-02-05T15:50:35.487727Z",
     "start_time": "2023-02-05T15:50:35.481405Z"
    }
   },
   "outputs": [
    {
     "name": "stdout",
     "output_type": "stream",
     "text": [
      "25\n"
     ]
    }
   ],
   "source": [
    "# MD Array,\n",
    "a = np.array([[11, 12, 13, 14, 15],\n",
    "              [16, 17, 18, 19, 20],\n",
    "              [21, 22, 23, 24, 25],\n",
    "              [26, 27, 28 ,29, 30],\n",
    "              [31, 32, 33, 34, 35]])\n",
    "\n",
    "print(a[2,4]) # >>>25"
   ]
  },
  {
   "cell_type": "markdown",
   "id": "7039bdfe",
   "metadata": {},
   "source": [
    "## ndarray 对象"
   ]
  },
  {
   "cell_type": "code",
   "execution_count": null,
   "id": "04aa5b42",
   "metadata": {},
   "outputs": [],
   "source": []
  },
  {
   "cell_type": "code",
   "execution_count": null,
   "id": "579a1785",
   "metadata": {},
   "outputs": [],
   "source": []
  },
  {
   "cell_type": "markdown",
   "id": "171cc52a",
   "metadata": {},
   "source": [
    "## numpy题"
   ]
  },
  {
   "cell_type": "code",
   "execution_count": null,
   "id": "811526cc",
   "metadata": {
    "ExecuteTime": {
     "end_time": "2023-02-01T15:20:12.055117Z",
     "start_time": "2023-02-01T15:20:11.942576Z"
    }
   },
   "outputs": [],
   "source": [
    "# 使用别名“np“调用numpy\n",
    "\n",
    "import numpy as np"
   ]
  },
  {
   "cell_type": "code",
   "execution_count": null,
   "id": "0830fb6b",
   "metadata": {
    "ExecuteTime": {
     "end_time": "2023-02-01T15:20:12.062379Z",
     "start_time": "2023-02-01T15:20:12.057637Z"
    }
   },
   "outputs": [
    {
     "name": "stdout",
     "output_type": "stream",
     "text": [
      "2.1.2\n",
      "Build Dependencies:\n",
      "  blas:\n",
      "    detection method: pkgconfig\n",
      "    found: true\n",
      "    include directory: /opt/_internal/cpython-3.13.0rc3/lib/python3.13/site-packages/scipy_openblas64/include\n",
      "    lib directory: /opt/_internal/cpython-3.13.0rc3/lib/python3.13/site-packages/scipy_openblas64/lib\n",
      "    name: scipy-openblas\n",
      "    openblas configuration: OpenBLAS 0.3.27  USE64BITINT DYNAMIC_ARCH NO_AFFINITY\n",
      "      Haswell MAX_THREADS=64\n",
      "    pc file directory: /project/.openblas\n",
      "    version: 0.3.27\n",
      "  lapack:\n",
      "    detection method: pkgconfig\n",
      "    found: true\n",
      "    include directory: /opt/_internal/cpython-3.13.0rc3/lib/python3.13/site-packages/scipy_openblas64/include\n",
      "    lib directory: /opt/_internal/cpython-3.13.0rc3/lib/python3.13/site-packages/scipy_openblas64/lib\n",
      "    name: scipy-openblas\n",
      "    openblas configuration: OpenBLAS 0.3.27  USE64BITINT DYNAMIC_ARCH NO_AFFINITY\n",
      "      Haswell MAX_THREADS=64\n",
      "    pc file directory: /project/.openblas\n",
      "    version: 0.3.27\n",
      "Compilers:\n",
      "  c:\n",
      "    commands: cc\n",
      "    linker: ld.bfd\n",
      "    name: gcc\n",
      "    version: 10.2.1\n",
      "  c++:\n",
      "    commands: c++\n",
      "    linker: ld.bfd\n",
      "    name: gcc\n",
      "    version: 10.2.1\n",
      "  cython:\n",
      "    commands: cython\n",
      "    linker: cython\n",
      "    name: cython\n",
      "    version: 3.0.11\n",
      "Machine Information:\n",
      "  build:\n",
      "    cpu: x86_64\n",
      "    endian: little\n",
      "    family: x86_64\n",
      "    system: linux\n",
      "  host:\n",
      "    cpu: x86_64\n",
      "    endian: little\n",
      "    family: x86_64\n",
      "    system: linux\n",
      "Python Information:\n",
      "  path: /tmp/build-env-ys4k8k6k/bin/python\n",
      "  version: '3.13'\n",
      "SIMD Extensions:\n",
      "  baseline:\n",
      "  - SSE\n",
      "  - SSE2\n",
      "  - SSE3\n",
      "  found:\n",
      "  - SSSE3\n",
      "  - SSE41\n",
      "  - POPCNT\n",
      "  - SSE42\n",
      "  - AVX\n",
      "  - F16C\n",
      "  - FMA3\n",
      "  - AVX2\n",
      "  not found:\n",
      "  - AVX512F\n",
      "  - AVX512CD\n",
      "  - AVX512_KNL\n",
      "  - AVX512_KNM\n",
      "  - AVX512_SKX\n",
      "  - AVX512_CLX\n",
      "  - AVX512_CNL\n",
      "  - AVX512_ICL\n",
      "\n",
      "None\n"
     ]
    }
   ],
   "source": [
    "# 显示当前numpy库的版本号和配置信息。(★☆☆)(np.__version__, np.show_config)\n",
    "\n",
    "print(np.__version__)\n",
    "print(np.show_config())\n",
    "#v._n.()是常见的函数命名方式"
   ]
  },
  {
   "cell_type": "code",
   "execution_count": null,
   "id": "eb7ed941",
   "metadata": {
    "ExecuteTime": {
     "end_time": "2023-02-01T15:20:12.079668Z",
     "start_time": "2023-02-01T15:20:12.068685Z"
    }
   },
   "outputs": [
    {
     "data": {
      "text/plain": [
       "array([0., 0., 0., 0., 0., 0., 0., 0., 0., 0.])"
      ]
     },
     "execution_count": 6,
     "metadata": {},
     "output_type": "execute_result"
    }
   ],
   "source": [
    "# 创建一个大小为10的零向量。(★☆☆)(np.zeros)\n",
    "np.zeros(10)"
   ]
  },
  {
   "cell_type": "code",
   "execution_count": null,
   "id": "71a65927",
   "metadata": {
    "ExecuteTime": {
     "end_time": "2023-02-01T15:20:12.089167Z",
     "start_time": "2023-02-01T15:20:12.082808Z"
    }
   },
   "outputs": [
    {
     "name": "stdout",
     "output_type": "stream",
     "text": [
      "48 bytes\n"
     ]
    }
   ],
   "source": [
    "# 如何获取任意一个数组占用的内存大小？(★☆☆)(size, itemsize)\n",
    "\n",
    "a = np.random.rand(2,3)\n",
    "print('%d bytes' %(a.size * a.itemsize))"
   ]
  },
  {
   "cell_type": "code",
   "execution_count": null,
   "id": "2d78e6e8",
   "metadata": {
    "ExecuteTime": {
     "end_time": "2023-02-01T15:20:12.101124Z",
     "start_time": "2023-02-01T15:20:12.093985Z"
    }
   },
   "outputs": [
    {
     "name": "stdout",
     "output_type": "stream",
     "text": [
      "add(x1, x2, /, out=None, *, where=True, casting='same_kind', order='K', dtype=None, subok=True[, signature])\n",
      "\n",
      "Add arguments element-wise.\n",
      "\n",
      "Parameters\n",
      "----------\n",
      "x1, x2 : array_like\n",
      "    The arrays to be added.\n",
      "    If ``x1.shape != x2.shape``, they must be broadcastable to a common\n",
      "    shape (which becomes the shape of the output).\n",
      "out : ndarray, None, or tuple of ndarray and None, optional\n",
      "    A location into which the result is stored. If provided, it must have\n",
      "    a shape that the inputs broadcast to. If not provided or None,\n",
      "    a freshly-allocated array is returned. A tuple (possible only as a\n",
      "    keyword argument) must have length equal to the number of outputs.\n",
      "where : array_like, optional\n",
      "    This condition is broadcast over the input. At locations where the\n",
      "    condition is True, the `out` array will be set to the ufunc result.\n",
      "    Elsewhere, the `out` array will retain its original value.\n",
      "    Note that if an uninitialized `out` array is created via the default\n",
      "    ``out=None``, locations within it where the condition is False will\n",
      "    remain uninitialized.\n",
      "**kwargs\n",
      "    For other keyword-only arguments, see the\n",
      "    :ref:`ufunc docs <ufuncs.kwargs>`.\n",
      "\n",
      "Returns\n",
      "-------\n",
      "add : ndarray or scalar\n",
      "    The sum of `x1` and `x2`, element-wise.\n",
      "    This is a scalar if both `x1` and `x2` are scalars.\n",
      "\n",
      "Notes\n",
      "-----\n",
      "Equivalent to `x1` + `x2` in terms of array broadcasting.\n",
      "\n",
      "Examples\n",
      "--------\n",
      ">>> import numpy as np\n",
      ">>> np.add(1.0, 4.0)\n",
      "5.0\n",
      ">>> x1 = np.arange(9.0).reshape((3, 3))\n",
      ">>> x2 = np.arange(3.0)\n",
      ">>> np.add(x1, x2)\n",
      "array([[  0.,   2.,   4.],\n",
      "       [  3.,   5.,   7.],\n",
      "       [  6.,   8.,  10.]])\n",
      "\n",
      "The ``+`` operator can be used as a shorthand for ``np.add`` on ndarrays.\n",
      "\n",
      ">>> x1 = np.arange(9.0).reshape((3, 3))\n",
      ">>> x2 = np.arange(3.0)\n",
      ">>> x1 + x2\n",
      "array([[ 0.,  2.,  4.],\n",
      "       [ 3.,  5.,  7.],\n",
      "       [ 6.,  8., 10.]])\n"
     ]
    }
   ],
   "source": [
    "# 如何在命令行中获取numpy的add函数的文档？(★☆☆)(http://np.info)\n",
    "\n",
    "np.info(np.add)"
   ]
  },
  {
   "cell_type": "code",
   "execution_count": null,
   "id": "7528cf0a",
   "metadata": {
    "ExecuteTime": {
     "end_time": "2023-02-01T15:20:12.114165Z",
     "start_time": "2023-02-01T15:20:12.104561Z"
    }
   },
   "outputs": [
    {
     "name": "stdout",
     "output_type": "stream",
     "text": [
      "[0. 0. 0. 0. 1. 0. 0. 0. 0. 0.]\n"
     ]
    }
   ],
   "source": [
    "# 创建一个大小为10的零向量，使之第5个元素为1。(★☆☆)(array[4])\n",
    "\n",
    "a = np.zeros(10)\n",
    "a[4] = 1\n",
    "\n",
    "print(a)"
   ]
  },
  {
   "cell_type": "code",
   "execution_count": null,
   "id": "e4c5ef50",
   "metadata": {
    "ExecuteTime": {
     "end_time": "2023-02-01T15:20:12.126121Z",
     "start_time": "2023-02-01T15:20:12.117786Z"
    }
   },
   "outputs": [
    {
     "name": "stdout",
     "output_type": "stream",
     "text": [
      "[10 11 12 13 14 15 16 17 18 19 20 21 22 23 24 25 26 27 28 29 30 31 32 33\n",
      " 34 35 36 37 38 39 40 41 42 43 44 45 46 47 48 49]\n"
     ]
    }
   ],
   "source": [
    "# (7) 创建一个向量，使它的值为10到49。(★☆☆)(np.arange)\n",
    "\n",
    "a = np.arange(10,50)\n",
    "\n",
    "print(a)"
   ]
  },
  {
   "cell_type": "code",
   "execution_count": null,
   "id": "45cfbef7",
   "metadata": {
    "ExecuteTime": {
     "end_time": "2023-02-01T15:20:12.141193Z",
     "start_time": "2023-02-01T15:20:12.130468Z"
    }
   },
   "outputs": [
    {
     "data": {
      "text/plain": [
       "array([[0, 1, 2],\n",
       "       [3, 4, 5],\n",
       "       [6, 7, 8]])"
      ]
     },
     "execution_count": 11,
     "metadata": {},
     "output_type": "execute_result"
    }
   ],
   "source": [
    "# (9) 创建一个 3x3 矩阵，其值为0到8。(★☆☆)(reshape)\n",
    "\n",
    "np.arange(9).reshape(3,3)"
   ]
  },
  {
   "cell_type": "code",
   "execution_count": null,
   "id": "8a9af996",
   "metadata": {
    "ExecuteTime": {
     "end_time": "2023-02-01T15:20:12.153578Z",
     "start_time": "2023-02-01T15:20:12.144652Z"
    }
   },
   "outputs": [
    {
     "data": {
      "text/plain": [
       "(array([0, 1, 4]),)"
      ]
     },
     "execution_count": 12,
     "metadata": {},
     "output_type": "execute_result"
    }
   ],
   "source": [
    "# (10) 列出 [1,2,0,0,4,0] 该数组中非零元素的索引。(★☆☆)(np.nonzero)\n",
    "\n",
    "np.nonzero([1,2,0,0,4,0])"
   ]
  },
  {
   "cell_type": "code",
   "execution_count": null,
   "id": "52b55cbe",
   "metadata": {
    "ExecuteTime": {
     "end_time": "2023-02-01T15:20:12.172099Z",
     "start_time": "2023-02-01T15:20:12.164092Z"
    }
   },
   "outputs": [
    {
     "data": {
      "text/plain": [
       "array([[1., 0., 0.],\n",
       "       [0., 1., 0.],\n",
       "       [0., 0., 1.]])"
      ]
     },
     "execution_count": 13,
     "metadata": {},
     "output_type": "execute_result"
    }
   ],
   "source": [
    "# (11) 创建一个 3x3 的单位矩阵。(★☆☆)(np.eye)\n",
    "\n",
    "np.eye(3)"
   ]
  },
  {
   "cell_type": "code",
   "execution_count": null,
   "id": "fe84f6e5",
   "metadata": {
    "ExecuteTime": {
     "end_time": "2023-02-01T15:20:12.181652Z",
     "start_time": "2023-02-01T15:20:12.174517Z"
    }
   },
   "outputs": [
    {
     "data": {
      "text/plain": [
       "array([[[0.67129895, 0.26262086, 0.36373345],\n",
       "        [0.38369672, 0.78942586, 0.09622082],\n",
       "        [0.54569549, 0.96247778, 0.32451655]],\n",
       "\n",
       "       [[0.94222563, 0.27025657, 0.34373598],\n",
       "        [0.63375664, 0.98608037, 0.58593331],\n",
       "        [0.93708476, 0.76431527, 0.67609162]],\n",
       "\n",
       "       [[0.10111418, 0.80150915, 0.90863835],\n",
       "        [0.28184699, 0.22255345, 0.77898757],\n",
       "        [0.53729614, 0.14560958, 0.70638174]]])"
      ]
     },
     "execution_count": 14,
     "metadata": {},
     "output_type": "execute_result"
    }
   ],
   "source": [
    "# (12) 利用随机数创建一个 3x3x3 的数组。 (★☆☆)(np.random.random)\n",
    "\n",
    "np.random.random((3,3,3))\n",
    "#上式为参考答案，但个人觉得以下的写法更简单：\n",
    "np.random.rand(3,3,3)"
   ]
  },
  {
   "cell_type": "code",
   "execution_count": null,
   "id": "9b18eb93",
   "metadata": {
    "ExecuteTime": {
     "end_time": "2023-02-01T15:20:12.197070Z",
     "start_time": "2023-02-01T15:20:12.189012Z"
    }
   },
   "outputs": [
    {
     "name": "stdout",
     "output_type": "stream",
     "text": [
      "0.009315691683008387 0.9898609520437078\n"
     ]
    }
   ],
   "source": [
    "# (13) 利用随机数创建一个 10x10 的数组，并获取数组的最小元素和最大元素。(★☆☆)(min, max)\n",
    "\n",
    "a = np.random.rand(10,10)\n",
    "print(np.min(a),np.max(a))"
   ]
  },
  {
   "cell_type": "code",
   "execution_count": null,
   "id": "3938e7cc",
   "metadata": {
    "ExecuteTime": {
     "end_time": "2023-02-01T15:20:12.208028Z",
     "start_time": "2023-02-01T15:20:12.201876Z"
    }
   },
   "outputs": [
    {
     "name": "stdout",
     "output_type": "stream",
     "text": [
      "np_mean 0.4946319375769274\n"
     ]
    }
   ],
   "source": [
    "# (14) 创建一个大小为30的随机向量，并求取均值。(★☆☆)(mean)\n",
    "\n",
    "np_mean = np.random.rand(30).mean()\n",
    "print(\"np_mean\", np_mean)"
   ]
  },
  {
   "cell_type": "code",
   "execution_count": null,
   "id": "15909e44",
   "metadata": {
    "ExecuteTime": {
     "end_time": "2023-02-01T15:20:12.218111Z",
     "start_time": "2023-02-01T15:20:12.210666Z"
    }
   },
   "outputs": [
    {
     "data": {
      "text/plain": [
       "array([[1., 1., 1., 1., 1., 1., 1., 1., 1., 1.],\n",
       "       [1., 0., 0., 0., 0., 0., 0., 0., 0., 1.],\n",
       "       [1., 0., 0., 0., 0., 0., 0., 0., 0., 1.],\n",
       "       [1., 0., 0., 0., 0., 0., 0., 0., 0., 1.],\n",
       "       [1., 0., 0., 0., 0., 0., 0., 0., 0., 1.],\n",
       "       [1., 0., 0., 0., 0., 0., 0., 0., 0., 1.],\n",
       "       [1., 0., 0., 0., 0., 0., 0., 0., 0., 1.],\n",
       "       [1., 0., 0., 0., 0., 0., 0., 0., 0., 1.],\n",
       "       [1., 0., 0., 0., 0., 0., 0., 0., 0., 1.],\n",
       "       [1., 1., 1., 1., 1., 1., 1., 1., 1., 1.]])"
      ]
     },
     "execution_count": 17,
     "metadata": {},
     "output_type": "execute_result"
    }
   ],
   "source": [
    "# (15) 创建一个二维数组，使其边界全部为1，内部全部为0。(★☆☆)(array[1:-1, 1:-1])\n",
    "\n",
    "#参考答案\n",
    "a = np.ones((10,10))\n",
    "a[1:-1,1:-1] = 0\n",
    "a"
   ]
  },
  {
   "cell_type": "code",
   "execution_count": null,
   "id": "0b37dd2d",
   "metadata": {
    "ExecuteTime": {
     "end_time": "2023-02-01T15:20:12.233644Z",
     "start_time": "2023-02-01T15:20:12.221692Z"
    }
   },
   "outputs": [
    {
     "data": {
      "text/plain": [
       "(array([[14,  2,  4,  2,  5],\n",
       "        [ 1,  2,  7,  5, 16],\n",
       "        [13, 11, 11,  1,  3],\n",
       "        [16,  7, 10,  9,  3],\n",
       "        [ 1,  1,  9, 17, 13]]),\n",
       " array([[ 0,  0,  0,  0,  0,  0,  0],\n",
       "        [ 0, 14,  2,  4,  2,  5,  0],\n",
       "        [ 0,  1,  2,  7,  5, 16,  0],\n",
       "        [ 0, 13, 11, 11,  1,  3,  0],\n",
       "        [ 0, 16,  7, 10,  9,  3,  0],\n",
       "        [ 0,  1,  1,  9, 17, 13,  0],\n",
       "        [ 0,  0,  0,  0,  0,  0,  0]]))"
      ]
     },
     "execution_count": 18,
     "metadata": {},
     "output_type": "execute_result"
    }
   ],
   "source": [
    "#(16) 如何给一个已有的数组加上一个边界（值为0）？(★☆☆)(np.pad)\n",
    "\n",
    "a = np.random.randint(1,20,(5,5)) #生成一个5x5的随机整数数组\n",
    "b = np.pad(a,pad_width=1,mode='constant',constant_values=0) #为数组加上边界\n",
    "a, b"
   ]
  },
  {
   "cell_type": "code",
   "execution_count": null,
   "id": "14a41db6",
   "metadata": {
    "ExecuteTime": {
     "end_time": "2023-02-01T15:20:12.246083Z",
     "start_time": "2023-02-01T15:20:12.237869Z"
    }
   },
   "outputs": [
    {
     "name": "stdout",
     "output_type": "stream",
     "text": [
      "nan\n",
      "False\n",
      "False\n",
      "nan\n",
      "True\n",
      "False\n"
     ]
    }
   ],
   "source": [
    "# (17) 以下的表达式的运行结果为？(★☆☆)(NaN = not a number, Inf = infinity)\n",
    "\n",
    "print(0 * np.nan) #输出：nan\n",
    "print(np.nan == np.nan) #输出：False\n",
    "print(np.inf > np.nan) #输出：False\n",
    "print(np.nan - np.nan) #输出：nan\n",
    "print(np.nan in set([np.nan])) #输出：True\n",
    "print(0.3 == 3 * 0.1) #输出：False"
   ]
  },
  {
   "cell_type": "code",
   "execution_count": null,
   "id": "a6a23b6e",
   "metadata": {
    "ExecuteTime": {
     "end_time": "2023-02-01T15:20:12.266016Z",
     "start_time": "2023-02-01T15:20:12.249387Z"
    }
   },
   "outputs": [
    {
     "data": {
      "text/plain": [
       "array([[0, 0, 0, 0, 0],\n",
       "       [1, 0, 0, 0, 0],\n",
       "       [0, 2, 0, 0, 0],\n",
       "       [0, 0, 3, 0, 0],\n",
       "       [0, 0, 0, 4, 0]])"
      ]
     },
     "execution_count": 20,
     "metadata": {},
     "output_type": "execute_result"
    }
   ],
   "source": [
    "# (18) 创建一个 5x5 矩阵，使得数字 1,2,3,4 恰好处在对角线下方。(★☆☆)(np.diag)\n",
    "\n",
    "#参考答案\n",
    "np.diag(1+np.arange(4),k=-1)\n",
    "\n",
    "#另一种方法\n",
    "np.diag(np.arange(1,5),-1)"
   ]
  },
  {
   "cell_type": "code",
   "execution_count": null,
   "id": "7c57d28c",
   "metadata": {
    "ExecuteTime": {
     "end_time": "2023-02-01T15:20:12.278999Z",
     "start_time": "2023-02-01T15:20:12.268892Z"
    }
   },
   "outputs": [
    {
     "name": "stdout",
     "output_type": "stream",
     "text": [
      "[[0 1 0 1 0 1 0 1]\n",
      " [1 0 1 0 1 0 1 0]\n",
      " [0 1 0 1 0 1 0 1]\n",
      " [1 0 1 0 1 0 1 0]\n",
      " [0 1 0 1 0 1 0 1]\n",
      " [1 0 1 0 1 0 1 0]\n",
      " [0 1 0 1 0 1 0 1]\n",
      " [1 0 1 0 1 0 1 0]]\n",
      "[[1 0 1 0 1 0 1 0]\n",
      " [0 1 0 1 0 1 0 1]\n",
      " [1 0 1 0 1 0 1 0]\n",
      " [0 1 0 1 0 1 0 1]\n",
      " [1 0 1 0 1 0 1 0]\n",
      " [0 1 0 1 0 1 0 1]\n",
      " [1 0 1 0 1 0 1 0]\n",
      " [0 1 0 1 0 1 0 1]]\n"
     ]
    }
   ],
   "source": [
    "# (19) 创建一个8x8数组，使之形成棋盘格图案。 (★☆☆)(array[::2])\n",
    "\n",
    "#参考答案\n",
    "Z = np.zeros((8,8),dtype=int)\n",
    "Z[1::2,::2] = 1\n",
    "Z[::2,1::2] = 1\n",
    "print(Z)\n",
    "\n",
    "#另一种方法\n",
    "a = np.zeros((8,8), dtype=int)\n",
    "a[::2,::2]=1\n",
    "a[1::2,1::2]=1\n",
    "print(a)"
   ]
  },
  {
   "cell_type": "code",
   "execution_count": null,
   "id": "cb0f724e",
   "metadata": {
    "ExecuteTime": {
     "end_time": "2023-02-01T15:20:12.287030Z",
     "start_time": "2023-02-01T15:20:12.281078Z"
    }
   },
   "outputs": [
    {
     "data": {
      "text/plain": [
       "(np.int64(1), np.int64(5), np.int64(3))"
      ]
     },
     "execution_count": 22,
     "metadata": {},
     "output_type": "execute_result"
    }
   ],
   "source": [
    "# (20) 对于一个形为 (6,7,8) 的数组，如何用形似 (x,y,z) 的索引取出其第100个元素？(★☆☆)(np.unravel_index)\n",
    "\n",
    "np.unravel_index(99,(6,7,8))"
   ]
  },
  {
   "cell_type": "code",
   "execution_count": null,
   "id": "6fd990ee",
   "metadata": {
    "ExecuteTime": {
     "end_time": "2023-02-01T15:20:12.300030Z",
     "start_time": "2023-02-01T15:20:12.291055Z"
    }
   },
   "outputs": [
    {
     "data": {
      "text/plain": [
       "array([[0, 1, 0, 1, 0, 1, 0, 1],\n",
       "       [1, 0, 1, 0, 1, 0, 1, 0],\n",
       "       [0, 1, 0, 1, 0, 1, 0, 1],\n",
       "       [1, 0, 1, 0, 1, 0, 1, 0],\n",
       "       [0, 1, 0, 1, 0, 1, 0, 1],\n",
       "       [1, 0, 1, 0, 1, 0, 1, 0],\n",
       "       [0, 1, 0, 1, 0, 1, 0, 1],\n",
       "       [1, 0, 1, 0, 1, 0, 1, 0]])"
      ]
     },
     "execution_count": 23,
     "metadata": {},
     "output_type": "execute_result"
    }
   ],
   "source": [
    "# (21) 使用 tile 函数创建一个 8x8 棋盘格矩阵。(★☆☆)(np.tile)\n",
    "\n",
    "np.tile( np.array([[0,1],[1,0]]), (4,4))"
   ]
  },
  {
   "cell_type": "code",
   "execution_count": null,
   "id": "8a0c0b36",
   "metadata": {
    "ExecuteTime": {
     "end_time": "2023-02-01T15:20:12.313955Z",
     "start_time": "2023-02-01T15:20:12.303846Z"
    }
   },
   "outputs": [
    {
     "name": "stdout",
     "output_type": "stream",
     "text": [
      "[[-0.49944154  0.59607595  1.5790888  -1.36094862  1.28152131]\n",
      " [ 1.49908861  1.24022449  1.46584488 -0.0763109  -0.334036  ]\n",
      " [-1.33124428 -0.19021184 -0.23310941  0.45789464 -1.51566523]\n",
      " [ 0.18730076  0.05163185 -0.12242727 -1.35374974  1.62933114]\n",
      " [-0.84533415  0.44494694 -0.95824353 -0.40890227 -1.2033246 ]]\n"
     ]
    }
   ],
   "source": [
    "# (22) 对一个 5x5 矩阵进行标准化。(★☆☆)((x - mean) / std)\n",
    "\n",
    "a = np.random.random((5,5))\n",
    "a = (a - np.mean (a)) / (np.std (a))\n",
    "print(a)"
   ]
  },
  {
   "cell_type": "code",
   "execution_count": null,
   "id": "c812735e",
   "metadata": {
    "ExecuteTime": {
     "end_time": "2023-02-01T15:29:27.770858Z",
     "start_time": "2023-02-01T15:29:27.760644Z"
    }
   },
   "outputs": [
    {
     "name": "stdout",
     "output_type": "stream",
     "text": [
      "[('r', 'u1', (1,)), ('g', 'u1', (1,)), ('b', 'u1', (1,)), ('a', 'u1', (1,))]\n"
     ]
    }
   ],
   "source": [
    "#(23) 创建一个自定义类型，用四个无符号字节存放颜色信息(RGBA)。 (★☆☆)(np.dtype)\n",
    "color = np.dtype([(\"r\", np.ubyte, (1,)),\n",
    "                  (\"g\", np.ubyte, (1,)),\n",
    "                  (\"b\", np.ubyte, (1,)),\n",
    "                  (\"a\", np.ubyte, (1,))])\n",
    "print(color)"
   ]
  },
  {
   "cell_type": "code",
   "execution_count": null,
   "id": "08c3b963",
   "metadata": {
    "ExecuteTime": {
     "end_time": "2023-02-01T15:20:12.363031Z",
     "start_time": "2023-02-01T15:20:12.349360Z"
    }
   },
   "outputs": [
    {
     "data": {
      "text/plain": [
       "array([[3., 3.],\n",
       "       [3., 3.],\n",
       "       [3., 3.],\n",
       "       [3., 3.],\n",
       "       [3., 3.]])"
      ]
     },
     "execution_count": 26,
     "metadata": {},
     "output_type": "execute_result"
    }
   ],
   "source": [
    "# (24) 矩阵乘法（点乘）：5x3矩阵 乘 3x2矩阵。(★☆☆)(np.dot | @)\n",
    "\n",
    "#参考答案1\n",
    "np.dot(np.ones((5,3)), np.ones((3,2)))\n",
    "\n",
    "#参考答案2，python3.5及以上支持\n",
    "np.ones((5,3)) @ np.ones((3,2))"
   ]
  },
  {
   "cell_type": "code",
   "execution_count": null,
   "id": "a6c98a2e",
   "metadata": {},
   "outputs": [],
   "source": []
  }
 ],
 "metadata": {
  "kernelspec": {
   "display_name": "Python 3 (ipykernel)",
   "language": "python",
   "name": "python3"
  },
  "language_info": {
   "codemirror_mode": {
    "name": "ipython",
    "version": 3
   },
   "file_extension": ".py",
   "mimetype": "text/x-python",
   "name": "python",
   "nbconvert_exporter": "python",
   "pygments_lexer": "ipython3",
   "version": "3.13.5"
  },
  "toc": {
   "base_numbering": 1,
   "nav_menu": {},
   "number_sections": true,
   "sideBar": true,
   "skip_h1_title": false,
   "title_cell": "Table of Contents",
   "title_sidebar": "Contents",
   "toc_cell": false,
   "toc_position": {},
   "toc_section_display": true,
   "toc_window_display": false
  },
  "varInspector": {
   "cols": {
    "lenName": 16,
    "lenType": 16,
    "lenVar": 40
   },
   "kernels_config": {
    "python": {
     "delete_cmd_postfix": "",
     "delete_cmd_prefix": "del ",
     "library": "var_list.py",
     "varRefreshCmd": "print(var_dic_list())"
    },
    "r": {
     "delete_cmd_postfix": ") ",
     "delete_cmd_prefix": "rm(",
     "library": "var_list.r",
     "varRefreshCmd": "cat(var_dic_list()) "
    }
   },
   "types_to_exclude": [
    "module",
    "function",
    "builtin_function_or_method",
    "instance",
    "_Feature"
   ],
   "window_display": false
  }
 },
 "nbformat": 4,
 "nbformat_minor": 5
}
