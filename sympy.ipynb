{
 "cells": [
  {
   "cell_type": "markdown",
   "id": "c15becba",
   "metadata": {},
   "source": [
    "# sympy笔记"
   ]
  },
  {
   "cell_type": "code",
   "execution_count": 1,
   "id": "739ef971",
   "metadata": {
    "ExecuteTime": {
     "end_time": "2023-02-05T16:04:38.564083Z",
     "start_time": "2023-02-05T16:04:36.018885Z"
    }
   },
   "outputs": [],
   "source": [
    "# 导入魔法命令\n",
    "%run helper.py\n",
    "\n",
    "# 内联图片\n",
    "%matplotlib inline"
   ]
  },
  {
   "cell_type": "markdown",
   "id": "5a768af7",
   "metadata": {},
   "source": [
    "## sympy安装\n",
    "\n",
    "```python\n",
    "pip install sympy\n",
    "```"
   ]
  },
  {
   "cell_type": "code",
   "execution_count": 2,
   "id": "baf01173",
   "metadata": {
    "ExecuteTime": {
     "end_time": "2023-02-05T16:04:38.684087Z",
     "start_time": "2023-02-05T16:04:38.567841Z"
    }
   },
   "outputs": [
    {
     "data": {
      "text/html": [
       "<pre style=\"white-space:pre;overflow-x:auto;line-height:normal;font-family:Menlo,'DejaVu Sans Mono',consolas,'Courier New',monospace\"><span style=\"color: #008080; text-decoration-color: #008080; font-weight: bold\">1.11</span>.<span style=\"color: #008080; text-decoration-color: #008080; font-weight: bold\">1</span>\n",
       "</pre>\n"
      ],
      "text/plain": [
       "\u001b[1;36m1.11\u001b[0m.\u001b[1;36m1\u001b[0m\n"
      ]
     },
     "metadata": {},
     "output_type": "display_data"
    }
   ],
   "source": [
    "# 测试安装情况\n",
    "import sympy\n",
    "print(sympy.__version__)"
   ]
  },
  {
   "cell_type": "markdown",
   "id": "601a772d",
   "metadata": {},
   "source": [
    "## sympy基础"
   ]
  },
  {
   "cell_type": "code",
   "execution_count": 4,
   "id": "187e2064",
   "metadata": {
    "ExecuteTime": {
     "end_time": "2023-02-05T16:05:15.357423Z",
     "start_time": "2023-02-05T16:05:15.340601Z"
    }
   },
   "outputs": [
    {
     "data": {
      "text/html": [
       "<pre style=\"white-space:pre;overflow-x:auto;line-height:normal;font-family:Menlo,'DejaVu Sans Mono',consolas,'Courier New',monospace\"><span style=\"color: #008080; text-decoration-color: #008080; font-weight: bold\">3.0</span>\n",
       "</pre>\n"
      ],
      "text/plain": [
       "\u001b[1;36m3.0\u001b[0m\n"
      ]
     },
     "metadata": {},
     "output_type": "display_data"
    },
    {
     "data": {
      "text/html": [
       "<pre style=\"white-space:pre;overflow-x:auto;line-height:normal;font-family:Menlo,'DejaVu Sans Mono',consolas,'Courier New',monospace\"><span style=\"color: #008080; text-decoration-color: #008080; font-weight: bold\">3</span>\n",
       "</pre>\n"
      ],
      "text/plain": [
       "\u001b[1;36m3\u001b[0m\n"
      ]
     },
     "metadata": {},
     "output_type": "display_data"
    },
    {
     "data": {
      "text/html": [
       "<pre style=\"white-space:pre;overflow-x:auto;line-height:normal;font-family:Menlo,'DejaVu Sans Mono',consolas,'Courier New',monospace\"><span style=\"color: #008080; text-decoration-color: #008080; font-weight: bold\">1.7320508075688772</span>\n",
       "</pre>\n"
      ],
      "text/plain": [
       "\u001b[1;36m1.7320508075688772\u001b[0m\n"
      ]
     },
     "metadata": {},
     "output_type": "display_data"
    },
    {
     "data": {
      "text/html": [
       "<pre style=\"white-space:pre;overflow-x:auto;line-height:normal;font-family:Menlo,'DejaVu Sans Mono',consolas,'Courier New',monospace\">√<span style=\"color: #008080; text-decoration-color: #008080; font-weight: bold\">3</span>\n",
       "</pre>\n"
      ],
      "text/plain": [
       "√\u001b[1;36m3\u001b[0m\n"
      ]
     },
     "metadata": {},
     "output_type": "display_data"
    }
   ],
   "source": [
    "# 符号计算基础\n",
    "\n",
    "import math\n",
    "\n",
    "print(math.sqrt(9))\n",
    "print(pretty(sympy.sqrt(9)))\n",
    "\n",
    "print(math.sqrt(3))\n",
    "print(pretty(sympy.sqrt(3)))"
   ]
  },
  {
   "cell_type": "code",
   "execution_count": 6,
   "id": "a7c5cc00",
   "metadata": {
    "ExecuteTime": {
     "end_time": "2023-02-05T16:06:40.838150Z",
     "start_time": "2023-02-05T16:06:40.817940Z"
    }
   },
   "outputs": [
    {
     "data": {
      "text/html": [
       "<pre style=\"white-space:pre;overflow-x:auto;line-height:normal;font-family:Menlo,'DejaVu Sans Mono',consolas,'Courier New',monospace\">x <span style=\"font-weight: bold\">&lt;</span><span style=\"color: #ff00ff; text-decoration-color: #ff00ff; font-weight: bold\">class</span><span style=\"color: #000000; text-decoration-color: #000000\"> </span><span style=\"color: #008000; text-decoration-color: #008000\">'sympy.core.symbol.Symbol'</span><span style=\"font-weight: bold\">&gt;</span>\n",
       "</pre>\n"
      ],
      "text/plain": [
       "x \u001b[1m<\u001b[0m\u001b[1;95mclass\u001b[0m\u001b[39m \u001b[0m\u001b[32m'sympy.core.symbol.Symbol'\u001b[0m\u001b[1m>\u001b[0m\n"
      ]
     },
     "metadata": {},
     "output_type": "display_data"
    },
    {
     "data": {
      "text/html": [
       "<pre style=\"white-space:pre;overflow-x:auto;line-height:normal;font-family:Menlo,'DejaVu Sans Mono',consolas,'Courier New',monospace\">y <span style=\"font-weight: bold\">&lt;</span><span style=\"color: #ff00ff; text-decoration-color: #ff00ff; font-weight: bold\">class</span><span style=\"color: #000000; text-decoration-color: #000000\"> </span><span style=\"color: #008000; text-decoration-color: #008000\">'sympy.core.symbol.Symbol'</span><span style=\"font-weight: bold\">&gt;</span>\n",
       "</pre>\n"
      ],
      "text/plain": [
       "y \u001b[1m<\u001b[0m\u001b[1;95mclass\u001b[0m\u001b[39m \u001b[0m\u001b[32m'sympy.core.symbol.Symbol'\u001b[0m\u001b[1m>\u001b[0m\n"
      ]
     },
     "metadata": {},
     "output_type": "display_data"
    }
   ],
   "source": [
    "# 符号系统\n",
    "x, y = symbols('x y')\n",
    "\n",
    "print(x, type(x))\n",
    "print(y, type(y))"
   ]
  },
  {
   "cell_type": "code",
   "execution_count": 8,
   "id": "40bcc87c",
   "metadata": {
    "ExecuteTime": {
     "end_time": "2023-02-05T16:09:11.895317Z",
     "start_time": "2023-02-05T16:09:11.888646Z"
    }
   },
   "outputs": [
    {
     "data": {
      "text/latex": [
       "$\\displaystyle x + 2 y$"
      ],
      "text/plain": [
       "x + 2*y"
      ]
     },
     "metadata": {},
     "output_type": "display_data"
    }
   ],
   "source": [
    "# 打印输出的更加漂亮\n",
    "x, y = symbols('x y')\n",
    "fx = x + 2*y\n",
    "\n",
    "display(fx)"
   ]
  },
  {
   "cell_type": "code",
   "execution_count": 9,
   "id": "6fa74dbb",
   "metadata": {
    "ExecuteTime": {
     "end_time": "2023-02-05T16:12:36.867848Z",
     "start_time": "2023-02-05T16:12:36.856729Z"
    }
   },
   "outputs": [
    {
     "data": {
      "text/html": [
       "<pre style=\"white-space:pre;overflow-x:auto;line-height:normal;font-family:Menlo,'DejaVu Sans Mono',consolas,'Courier New',monospace\"><span style=\"color: #008080; text-decoration-color: #008080; font-weight: bold\">0.900000000000000</span>\n",
       "</pre>\n"
      ],
      "text/plain": [
       "\u001b[1;36m0.900000000000000\u001b[0m\n"
      ]
     },
     "metadata": {},
     "output_type": "display_data"
    },
    {
     "data": {
      "text/html": [
       "<pre style=\"white-space:pre;overflow-x:auto;line-height:normal;font-family:Menlo,'DejaVu Sans Mono',consolas,'Courier New',monospace\"><span style=\"color: #008080; text-decoration-color: #008080; font-weight: bold\">0.9000000000000001</span>\n",
       "</pre>\n"
      ],
      "text/plain": [
       "\u001b[1;36m0.9000000000000001\u001b[0m\n"
      ]
     },
     "metadata": {},
     "output_type": "display_data"
    }
   ],
   "source": [
    "from sympy import Rational\n",
    "\n",
    "r1 = Rational(1/10)\n",
    "r2 = Rational(1/10)\n",
    "r3 = Rational(1/10)\n",
    "\n",
    "val = (r1 + r2 + r3) * 3\n",
    "print(val.evalf())\n",
    "\n",
    "val2 = (1/10 + 1/10 + 1/10) * 3\n",
    "print(val2)"
   ]
  },
  {
   "cell_type": "code",
   "execution_count": null,
   "id": "3e2e98ac",
   "metadata": {},
   "outputs": [],
   "source": []
  }
 ],
 "metadata": {
  "kernelspec": {
   "display_name": "Python 3 (ipykernel)",
   "language": "python",
   "name": "python3"
  },
  "language_info": {
   "codemirror_mode": {
    "name": "ipython",
    "version": 3
   },
   "file_extension": ".py",
   "mimetype": "text/x-python",
   "name": "python",
   "nbconvert_exporter": "python",
   "pygments_lexer": "ipython3",
   "version": "3.10.8"
  },
  "toc": {
   "base_numbering": 1,
   "nav_menu": {},
   "number_sections": true,
   "sideBar": true,
   "skip_h1_title": false,
   "title_cell": "Table of Contents",
   "title_sidebar": "Contents",
   "toc_cell": false,
   "toc_position": {},
   "toc_section_display": true,
   "toc_window_display": false
  },
  "varInspector": {
   "cols": {
    "lenName": 16,
    "lenType": 16,
    "lenVar": 40
   },
   "kernels_config": {
    "python": {
     "delete_cmd_postfix": "",
     "delete_cmd_prefix": "del ",
     "library": "var_list.py",
     "varRefreshCmd": "print(var_dic_list())"
    },
    "r": {
     "delete_cmd_postfix": ") ",
     "delete_cmd_prefix": "rm(",
     "library": "var_list.r",
     "varRefreshCmd": "cat(var_dic_list()) "
    }
   },
   "types_to_exclude": [
    "module",
    "function",
    "builtin_function_or_method",
    "instance",
    "_Feature"
   ],
   "window_display": false
  }
 },
 "nbformat": 4,
 "nbformat_minor": 5
}
