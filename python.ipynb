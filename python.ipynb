{
 "cells": [
  {
   "cell_type": "markdown",
   "id": "9d808bca",
   "metadata": {},
   "source": [
    "# python笔记"
   ]
  },
  {
   "cell_type": "code",
   "execution_count": 1,
   "id": "93fcc4da",
   "metadata": {
    "ExecuteTime": {
     "end_time": "2023-02-01T15:04:49.199759Z",
     "start_time": "2023-02-01T15:04:46.644508Z"
    }
   },
   "outputs": [],
   "source": [
    "# 导入魔法命令\n",
    "%run helper.py\n",
    "\n",
    "# 内联图片\n",
    "%matplotlib inline"
   ]
  },
  {
   "cell_type": "markdown",
   "id": "f956323e",
   "metadata": {},
   "source": [
    "## Hello World"
   ]
  },
  {
   "cell_type": "code",
   "execution_count": 2,
   "id": "325fd8ab",
   "metadata": {
    "ExecuteTime": {
     "end_time": "2023-02-01T15:04:49.275747Z",
     "start_time": "2023-02-01T15:04:49.202147Z"
    }
   },
   "outputs": [
    {
     "data": {
      "text/html": [
       "<pre style=\"white-space:pre;overflow-x:auto;line-height:normal;font-family:Menlo,'DejaVu Sans Mono',consolas,'Courier New',monospace\">Hello python\n",
       "</pre>\n"
      ],
      "text/plain": [
       "Hello python\n"
      ]
     },
     "metadata": {},
     "output_type": "display_data"
    }
   ],
   "source": [
    "print(\"Hello python\")"
   ]
  },
  {
   "cell_type": "code",
   "execution_count": 3,
   "id": "ccc61d9e",
   "metadata": {
    "ExecuteTime": {
     "end_time": "2023-02-01T15:04:49.288891Z",
     "start_time": "2023-02-01T15:04:49.280399Z"
    }
   },
   "outputs": [
    {
     "data": {
      "text/html": [
       "<pre style=\"white-space:pre;overflow-x:auto;line-height:normal;font-family:Menlo,'DejaVu Sans Mono',consolas,'Courier New',monospace\"><span style=\"color: #008080; text-decoration-color: #008080; font-weight: bold\">3.11</span>.<span style=\"color: #008080; text-decoration-color: #008080; font-weight: bold\">6</span> <span style=\"font-weight: bold\">(</span>main, Nov <span style=\"color: #008080; text-decoration-color: #008080; font-weight: bold\">14</span> <span style=\"color: #008080; text-decoration-color: #008080; font-weight: bold\">2023</span>, <span style=\"color: #00ff00; text-decoration-color: #00ff00; font-weight: bold\">09:36:21</span><span style=\"font-weight: bold\">)</span> <span style=\"font-weight: bold\">[</span>GCC <span style=\"color: #008080; text-decoration-color: #008080; font-weight: bold\">13.2</span>.<span style=\"color: #008080; text-decoration-color: #008080; font-weight: bold\">1</span> <span style=\"color: #008080; text-decoration-color: #008080; font-weight: bold\">20230801</span><span style=\"font-weight: bold\">]</span>\n",
       "</pre>\n"
      ],
      "text/plain": [
       "\u001b[1;36m3.11\u001b[0m.\u001b[1;36m6\u001b[0m \u001b[1m(\u001b[0mmain, Nov \u001b[1;36m14\u001b[0m \u001b[1;36m2023\u001b[0m, \u001b[1;92m09:36:21\u001b[0m\u001b[1m)\u001b[0m \u001b[1m[\u001b[0mGCC \u001b[1;36m13.2\u001b[0m.\u001b[1;36m1\u001b[0m \u001b[1;36m20230801\u001b[0m\u001b[1m]\u001b[0m\n"
      ]
     },
     "metadata": {},
     "output_type": "display_data"
    }
   ],
   "source": [
    "# 打印版本号\n",
    "\n",
    "import sys\n",
    "print(sys.version)"
   ]
  },
  {
   "cell_type": "code",
   "execution_count": 4,
   "id": "e7b30cb0",
   "metadata": {
    "ExecuteTime": {
     "end_time": "2023-02-01T15:04:49.299106Z",
     "start_time": "2023-02-01T15:04:49.291838Z"
    }
   },
   "outputs": [
    {
     "name": "stdout",
     "output_type": "stream",
     "text": [
      "The Zen of Python, by Tim Peters\n",
      "\n",
      "Beautiful is better than ugly.\n",
      "Explicit is better than implicit.\n",
      "Simple is better than complex.\n",
      "Complex is better than complicated.\n",
      "Flat is better than nested.\n",
      "Sparse is better than dense.\n",
      "Readability counts.\n",
      "Special cases aren't special enough to break the rules.\n",
      "Although practicality beats purity.\n",
      "Errors should never pass silently.\n",
      "Unless explicitly silenced.\n",
      "In the face of ambiguity, refuse the temptation to guess.\n",
      "There should be one-- and preferably only one --obvious way to do it.\n",
      "Although that way may not be obvious at first unless you're Dutch.\n",
      "Now is better than never.\n",
      "Although never is often better than *right* now.\n",
      "If the implementation is hard to explain, it's a bad idea.\n",
      "If the implementation is easy to explain, it may be a good idea.\n",
      "Namespaces are one honking great idea -- let's do more of those!\n"
     ]
    }
   ],
   "source": [
    "# 此时可以打印一个彩蛋\n",
    "import this"
   ]
  },
  {
   "cell_type": "markdown",
   "id": "b0d5d70f",
   "metadata": {},
   "source": [
    "## 数据类型"
   ]
  },
  {
   "cell_type": "markdown",
   "id": "1496166e",
   "metadata": {},
   "source": [
    "> 如何检查数据类型\n",
    "\n",
    "1. types使用\n",
    "```python\n",
    "type(object)\n",
    "```\n",
    "\n",
    "2. isinstance使用\n",
    "```python\n",
    "isinstance(object, classinfo)\n",
    "```\n",
    "\n",
    "+ Numbers（数字）\n",
    "+ String（字符串）\n",
    "+ List（列表）\n",
    "+ Tuple（元组）\n",
    "+ Dictionary（字典）\n"
   ]
  },
  {
   "cell_type": "markdown",
   "id": "0c8ecaa5",
   "metadata": {},
   "source": [
    "### 2.1 数字类型"
   ]
  },
  {
   "cell_type": "code",
   "execution_count": 5,
   "id": "6bc5b7d5",
   "metadata": {
    "ExecuteTime": {
     "end_time": "2023-02-01T15:04:49.323412Z",
     "start_time": "2023-02-01T15:04:49.302625Z"
    }
   },
   "outputs": [
    {
     "data": {
      "text/html": [
       "<pre style=\"white-space:pre;overflow-x:auto;line-height:normal;font-family:Menlo,'DejaVu Sans Mono',consolas,'Courier New',monospace\"><span style=\"font-weight: bold\">&lt;</span><span style=\"color: #ff00ff; text-decoration-color: #ff00ff; font-weight: bold\">class</span><span style=\"color: #000000; text-decoration-color: #000000\"> </span><span style=\"color: #008000; text-decoration-color: #008000\">'int'</span><span style=\"font-weight: bold\">&gt;</span>\n",
       "</pre>\n"
      ],
      "text/plain": [
       "\u001b[1m<\u001b[0m\u001b[1;95mclass\u001b[0m\u001b[39m \u001b[0m\u001b[32m'int'\u001b[0m\u001b[1m>\u001b[0m\n"
      ]
     },
     "metadata": {},
     "output_type": "display_data"
    },
    {
     "data": {
      "text/html": [
       "<pre style=\"white-space:pre;overflow-x:auto;line-height:normal;font-family:Menlo,'DejaVu Sans Mono',consolas,'Courier New',monospace\"><span style=\"font-weight: bold\">&lt;</span><span style=\"color: #ff00ff; text-decoration-color: #ff00ff; font-weight: bold\">class</span><span style=\"color: #000000; text-decoration-color: #000000\"> </span><span style=\"color: #008000; text-decoration-color: #008000\">'int'</span><span style=\"font-weight: bold\">&gt;</span>\n",
       "</pre>\n"
      ],
      "text/plain": [
       "\u001b[1m<\u001b[0m\u001b[1;95mclass\u001b[0m\u001b[39m \u001b[0m\u001b[32m'int'\u001b[0m\u001b[1m>\u001b[0m\n"
      ]
     },
     "metadata": {},
     "output_type": "display_data"
    },
    {
     "data": {
      "text/html": [
       "<pre style=\"white-space:pre;overflow-x:auto;line-height:normal;font-family:Menlo,'DejaVu Sans Mono',consolas,'Courier New',monospace\"><span style=\"font-weight: bold\">&lt;</span><span style=\"color: #ff00ff; text-decoration-color: #ff00ff; font-weight: bold\">class</span><span style=\"color: #000000; text-decoration-color: #000000\"> </span><span style=\"color: #008000; text-decoration-color: #008000\">'float'</span><span style=\"font-weight: bold\">&gt;</span>\n",
       "</pre>\n"
      ],
      "text/plain": [
       "\u001b[1m<\u001b[0m\u001b[1;95mclass\u001b[0m\u001b[39m \u001b[0m\u001b[32m'float'\u001b[0m\u001b[1m>\u001b[0m\n"
      ]
     },
     "metadata": {},
     "output_type": "display_data"
    },
    {
     "data": {
      "text/html": [
       "<pre style=\"white-space:pre;overflow-x:auto;line-height:normal;font-family:Menlo,'DejaVu Sans Mono',consolas,'Courier New',monospace\"><span style=\"font-weight: bold\">&lt;</span><span style=\"color: #ff00ff; text-decoration-color: #ff00ff; font-weight: bold\">class</span><span style=\"color: #000000; text-decoration-color: #000000\"> </span><span style=\"color: #008000; text-decoration-color: #008000\">'float'</span><span style=\"font-weight: bold\">&gt;</span>\n",
       "</pre>\n"
      ],
      "text/plain": [
       "\u001b[1m<\u001b[0m\u001b[1;95mclass\u001b[0m\u001b[39m \u001b[0m\u001b[32m'float'\u001b[0m\u001b[1m>\u001b[0m\n"
      ]
     },
     "metadata": {},
     "output_type": "display_data"
    }
   ],
   "source": [
    "intA = int(12)\n",
    "print(type(intA))\n",
    "\n",
    "longB = 0xDAEABEEF\n",
    "print(type(longB))\n",
    "\n",
    "floatC = 1.2\n",
    "print(type(floatC))\n",
    "\n",
    "doubleD = 1.2\n",
    "print(type(doubleD))"
   ]
  },
  {
   "cell_type": "markdown",
   "id": "906e0a43",
   "metadata": {},
   "source": [
    "### 2.2 布尔类型\n",
    "\n",
    "+ True\n",
    "+ False"
   ]
  },
  {
   "cell_type": "code",
   "execution_count": 6,
   "id": "08d10186",
   "metadata": {
    "ExecuteTime": {
     "end_time": "2023-02-01T15:04:49.335931Z",
     "start_time": "2023-02-01T15:04:49.325899Z"
    }
   },
   "outputs": [
    {
     "data": {
      "text/html": [
       "<pre style=\"white-space:pre;overflow-x:auto;line-height:normal;font-family:Menlo,'DejaVu Sans Mono',consolas,'Courier New',monospace\"><span style=\"color: #00ff00; text-decoration-color: #00ff00; font-style: italic\">True</span> <span style=\"font-weight: bold\">&lt;</span><span style=\"color: #ff00ff; text-decoration-color: #ff00ff; font-weight: bold\">class</span><span style=\"color: #000000; text-decoration-color: #000000\"> </span><span style=\"color: #008000; text-decoration-color: #008000\">'bool'</span><span style=\"font-weight: bold\">&gt;</span>\n",
       "</pre>\n"
      ],
      "text/plain": [
       "\u001b[3;92mTrue\u001b[0m \u001b[1m<\u001b[0m\u001b[1;95mclass\u001b[0m\u001b[39m \u001b[0m\u001b[32m'bool'\u001b[0m\u001b[1m>\u001b[0m\n"
      ]
     },
     "metadata": {},
     "output_type": "display_data"
    },
    {
     "data": {
      "text/html": [
       "<pre style=\"white-space:pre;overflow-x:auto;line-height:normal;font-family:Menlo,'DejaVu Sans Mono',consolas,'Courier New',monospace\"><span style=\"color: #ff0000; text-decoration-color: #ff0000; font-style: italic\">False</span> <span style=\"font-weight: bold\">&lt;</span><span style=\"color: #ff00ff; text-decoration-color: #ff00ff; font-weight: bold\">class</span><span style=\"color: #000000; text-decoration-color: #000000\"> </span><span style=\"color: #008000; text-decoration-color: #008000\">'bool'</span><span style=\"font-weight: bold\">&gt;</span>\n",
       "</pre>\n"
      ],
      "text/plain": [
       "\u001b[3;91mFalse\u001b[0m \u001b[1m<\u001b[0m\u001b[1;95mclass\u001b[0m\u001b[39m \u001b[0m\u001b[32m'bool'\u001b[0m\u001b[1m>\u001b[0m\n"
      ]
     },
     "metadata": {},
     "output_type": "display_data"
    }
   ],
   "source": [
    "boolA = True\n",
    "boolB = False\n",
    "\n",
    "print(boolA, type(boolA))\n",
    "print(boolB, type(boolB))"
   ]
  },
  {
   "cell_type": "markdown",
   "id": "7d940450",
   "metadata": {},
   "source": [
    "### 2.3 字符串\n",
    "\n",
    "+ 使用\"\"定义字符串\n",
    "+ r在字符串表示禁止转义\n",
    "+ 使用\"\"\"作用长字符串"
   ]
  },
  {
   "cell_type": "code",
   "execution_count": 7,
   "id": "7316820c",
   "metadata": {
    "ExecuteTime": {
     "end_time": "2023-02-01T15:04:49.362004Z",
     "start_time": "2023-02-01T15:04:49.338046Z"
    }
   },
   "outputs": [
    {
     "data": {
      "text/html": [
       "<pre style=\"white-space:pre;overflow-x:auto;line-height:normal;font-family:Menlo,'DejaVu Sans Mono',consolas,'Courier New',monospace\">Hello <span style=\"font-weight: bold\">&lt;</span><span style=\"color: #ff00ff; text-decoration-color: #ff00ff; font-weight: bold\">class</span><span style=\"color: #000000; text-decoration-color: #000000\"> </span><span style=\"color: #008000; text-decoration-color: #008000\">'str'</span><span style=\"font-weight: bold\">&gt;</span>\n",
       "</pre>\n"
      ],
      "text/plain": [
       "Hello \u001b[1m<\u001b[0m\u001b[1;95mclass\u001b[0m\u001b[39m \u001b[0m\u001b[32m'str'\u001b[0m\u001b[1m>\u001b[0m\n"
      ]
     },
     "metadata": {},
     "output_type": "display_data"
    },
    {
     "data": {
      "text/html": [
       "<pre style=\"white-space:pre;overflow-x:auto;line-height:normal;font-family:Menlo,'DejaVu Sans Mono',consolas,'Courier New',monospace\">Hello\\nWorld <span style=\"font-weight: bold\">&lt;</span><span style=\"color: #ff00ff; text-decoration-color: #ff00ff; font-weight: bold\">class</span><span style=\"color: #000000; text-decoration-color: #000000\"> </span><span style=\"color: #008000; text-decoration-color: #008000\">'str'</span><span style=\"font-weight: bold\">&gt;</span>\n",
       "</pre>\n"
      ],
      "text/plain": [
       "Hello\\nWorld \u001b[1m<\u001b[0m\u001b[1;95mclass\u001b[0m\u001b[39m \u001b[0m\u001b[32m'str'\u001b[0m\u001b[1m>\u001b[0m\n"
      ]
     },
     "metadata": {},
     "output_type": "display_data"
    },
    {
     "data": {
      "text/html": [
       "<pre style=\"white-space:pre;overflow-x:auto;line-height:normal;font-family:Menlo,'DejaVu Sans Mono',consolas,'Courier New',monospace\">\n",
       "The Zen of Python, by Tim Peters\n",
       "\n",
       "Beautiful is better than ugly.\n",
       "Explicit is better than implicit.\n",
       "Simple is better than complex.\n",
       "Complex is better than complicated.\n",
       "Flat is better than nested.\n",
       "Sparse is better than dense.\n",
       "Readability counts.\n",
       "Special cases aren't special enough to break the rules.\n",
       "Although practicality beats purity.\n",
       "Errors should never pass silently.\n",
       "Unless explicitly silenced.\n",
       "In the face of ambiguity, refuse the temptation to guess.\n",
       "There should be one-- and preferably only one --obvious way to do it.\n",
       "Although that way may not be obvious at first unless you're Dutch.\n",
       "Now is better than never.\n",
       "Although never is often better than *right* now.\n",
       "If the implementation is hard to explain, it's a bad idea.\n",
       "If the implementation is easy to explain, it may be a good idea.\n",
       "Namespaces are one honking great idea -- let's do more of those!\n",
       " \n",
       "The Zen of Python, by Tim Peters\n",
       "\n",
       "Beautiful is better than ugly.\n",
       "Explicit is better than implicit.\n",
       "Simple is better than complex.\n",
       "Complex is better than complicated.\n",
       "Flat is better than nested.\n",
       "Sparse is better than dense.\n",
       "Readability counts.\n",
       "Special cases aren't special enough to break the rules.\n",
       "Although practicality beats purity.\n",
       "Errors should never pass silently.\n",
       "Unless explicitly silenced.\n",
       "In the face of ambiguity, refuse the temptation to guess.\n",
       "There should be one-- and preferably only one --obvious way to do it.\n",
       "Although that way may not be obvious at first unless you're Dutch.\n",
       "Now is better than never.\n",
       "Although never is often better than *right* now.\n",
       "If the implementation is hard to explain, it's a bad idea.\n",
       "If the implementation is easy to explain, it may be a good idea.\n",
       "Namespaces are one honking great idea -- let's do more of those!\n",
       "\n",
       "</pre>\n"
      ],
      "text/plain": [
       "\n",
       "The Zen of Python, by Tim Peters\n",
       "\n",
       "Beautiful is better than ugly.\n",
       "Explicit is better than implicit.\n",
       "Simple is better than complex.\n",
       "Complex is better than complicated.\n",
       "Flat is better than nested.\n",
       "Sparse is better than dense.\n",
       "Readability counts.\n",
       "Special cases aren't special enough to break the rules.\n",
       "Although practicality beats purity.\n",
       "Errors should never pass silently.\n",
       "Unless explicitly silenced.\n",
       "In the face of ambiguity, refuse the temptation to guess.\n",
       "There should be one-- and preferably only one --obvious way to do it.\n",
       "Although that way may not be obvious at first unless you're Dutch.\n",
       "Now is better than never.\n",
       "Although never is often better than *right* now.\n",
       "If the implementation is hard to explain, it's a bad idea.\n",
       "If the implementation is easy to explain, it may be a good idea.\n",
       "Namespaces are one honking great idea -- let's do more of those!\n",
       " \n",
       "The Zen of Python, by Tim Peters\n",
       "\n",
       "Beautiful is better than ugly.\n",
       "Explicit is better than implicit.\n",
       "Simple is better than complex.\n",
       "Complex is better than complicated.\n",
       "Flat is better than nested.\n",
       "Sparse is better than dense.\n",
       "Readability counts.\n",
       "Special cases aren't special enough to break the rules.\n",
       "Although practicality beats purity.\n",
       "Errors should never pass silently.\n",
       "Unless explicitly silenced.\n",
       "In the face of ambiguity, refuse the temptation to guess.\n",
       "There should be one-- and preferably only one --obvious way to do it.\n",
       "Although that way may not be obvious at first unless you're Dutch.\n",
       "Now is better than never.\n",
       "Although never is often better than *right* now.\n",
       "If the implementation is hard to explain, it's a bad idea.\n",
       "If the implementation is easy to explain, it may be a good idea.\n",
       "Namespaces are one honking great idea -- let's do more of those!\n",
       "\n"
      ]
     },
     "metadata": {},
     "output_type": "display_data"
    }
   ],
   "source": [
    "# 普通定义字符串\n",
    "strA = \"Hello\"\n",
    "print(strA,  type(strA))\n",
    "\n",
    "# r禁止转义\n",
    "strB = r\"Hello\\nWorld\"\n",
    "print(strB, type(strB))\n",
    "\n",
    "# 长字符串\n",
    "strC = \"\"\"\n",
    "The Zen of Python, by Tim Peters\n",
    "\n",
    "Beautiful is better than ugly.\n",
    "Explicit is better than implicit.\n",
    "Simple is better than complex.\n",
    "Complex is better than complicated.\n",
    "Flat is better than nested.\n",
    "Sparse is better than dense.\n",
    "Readability counts.\n",
    "Special cases aren't special enough to break the rules.\n",
    "Although practicality beats purity.\n",
    "Errors should never pass silently.\n",
    "Unless explicitly silenced.\n",
    "In the face of ambiguity, refuse the temptation to guess.\n",
    "There should be one-- and preferably only one --obvious way to do it.\n",
    "Although that way may not be obvious at first unless you're Dutch.\n",
    "Now is better than never.\n",
    "Although never is often better than *right* now.\n",
    "If the implementation is hard to explain, it's a bad idea.\n",
    "If the implementation is easy to explain, it may be a good idea.\n",
    "Namespaces are one honking great idea -- let's do more of those!\n",
    "\"\"\"\n",
    "\n",
    "print(strC, str(strC))"
   ]
  },
  {
   "cell_type": "markdown",
   "id": "a39ac911",
   "metadata": {},
   "source": [
    "### 2.4 列表"
   ]
  },
  {
   "cell_type": "code",
   "execution_count": 8,
   "id": "2eb405b1",
   "metadata": {
    "ExecuteTime": {
     "end_time": "2023-02-01T15:04:49.381971Z",
     "start_time": "2023-02-01T15:04:49.364491Z"
    },
    "scrolled": true
   },
   "outputs": [
    {
     "data": {
      "text/html": [
       "<pre style=\"white-space:pre;overflow-x:auto;line-height:normal;font-family:Menlo,'DejaVu Sans Mono',consolas,'Courier New',monospace\"><span style=\"font-weight: bold\">[</span><span style=\"color: #008000; text-decoration-color: #008000\">'baidu'</span>, <span style=\"color: #008000; text-decoration-color: #008000\">'google'</span>, <span style=\"color: #008080; text-decoration-color: #008080; font-weight: bold\">12</span>, <span style=\"color: #008080; text-decoration-color: #008080; font-weight: bold\">34</span><span style=\"font-weight: bold\">]</span>\n",
       "</pre>\n"
      ],
      "text/plain": [
       "\u001b[1m[\u001b[0m\u001b[32m'baidu'\u001b[0m, \u001b[32m'google'\u001b[0m, \u001b[1;36m12\u001b[0m, \u001b[1;36m34\u001b[0m\u001b[1m]\u001b[0m\n"
      ]
     },
     "metadata": {},
     "output_type": "display_data"
    },
    {
     "data": {
      "text/html": [
       "<pre style=\"white-space:pre;overflow-x:auto;line-height:normal;font-family:Menlo,'DejaVu Sans Mono',consolas,'Courier New',monospace\"><span style=\"font-weight: bold\">[</span><span style=\"color: #008080; text-decoration-color: #008080; font-weight: bold\">1</span>, <span style=\"color: #008080; text-decoration-color: #008080; font-weight: bold\">2</span>, <span style=\"color: #008080; text-decoration-color: #008080; font-weight: bold\">3</span>, <span style=\"color: #008080; text-decoration-color: #008080; font-weight: bold\">4</span>, <span style=\"color: #008080; text-decoration-color: #008080; font-weight: bold\">5</span><span style=\"font-weight: bold\">]</span>\n",
       "</pre>\n"
      ],
      "text/plain": [
       "\u001b[1m[\u001b[0m\u001b[1;36m1\u001b[0m, \u001b[1;36m2\u001b[0m, \u001b[1;36m3\u001b[0m, \u001b[1;36m4\u001b[0m, \u001b[1;36m5\u001b[0m\u001b[1m]\u001b[0m\n"
      ]
     },
     "metadata": {},
     "output_type": "display_data"
    },
    {
     "data": {
      "text/html": [
       "<pre style=\"white-space:pre;overflow-x:auto;line-height:normal;font-family:Menlo,'DejaVu Sans Mono',consolas,'Courier New',monospace\"><span style=\"font-weight: bold\">[</span><span style=\"color: #008000; text-decoration-color: #008000\">'a'</span>, <span style=\"color: #008000; text-decoration-color: #008000\">'b'</span>, <span style=\"color: #008000; text-decoration-color: #008000\">'c'</span>, <span style=\"color: #008000; text-decoration-color: #008000\">'d'</span><span style=\"font-weight: bold\">]</span>\n",
       "</pre>\n"
      ],
      "text/plain": [
       "\u001b[1m[\u001b[0m\u001b[32m'a'\u001b[0m, \u001b[32m'b'\u001b[0m, \u001b[32m'c'\u001b[0m, \u001b[32m'd'\u001b[0m\u001b[1m]\u001b[0m\n"
      ]
     },
     "metadata": {},
     "output_type": "display_data"
    },
    {
     "data": {
      "text/html": [
       "<pre style=\"white-space:pre;overflow-x:auto;line-height:normal;font-family:Menlo,'DejaVu Sans Mono',consolas,'Courier New',monospace\"><span style=\"font-weight: bold\">[</span><span style=\"color: #008000; text-decoration-color: #008000\">'H'</span>, <span style=\"color: #008000; text-decoration-color: #008000\">'e'</span>, <span style=\"color: #008000; text-decoration-color: #008000\">'l'</span>, <span style=\"color: #008000; text-decoration-color: #008000\">'l'</span>, <span style=\"color: #008000; text-decoration-color: #008000\">'o'</span>, <span style=\"color: #008000; text-decoration-color: #008000\">' '</span>, <span style=\"color: #008000; text-decoration-color: #008000\">'W'</span>, <span style=\"color: #008000; text-decoration-color: #008000\">'o'</span>, <span style=\"color: #008000; text-decoration-color: #008000\">'r'</span>, <span style=\"color: #008000; text-decoration-color: #008000\">'l'</span>, <span style=\"color: #008000; text-decoration-color: #008000\">'d'</span><span style=\"font-weight: bold\">]</span>\n",
       "</pre>\n"
      ],
      "text/plain": [
       "\u001b[1m[\u001b[0m\u001b[32m'H'\u001b[0m, \u001b[32m'e'\u001b[0m, \u001b[32m'l'\u001b[0m, \u001b[32m'l'\u001b[0m, \u001b[32m'o'\u001b[0m, \u001b[32m' '\u001b[0m, \u001b[32m'W'\u001b[0m, \u001b[32m'o'\u001b[0m, \u001b[32m'r'\u001b[0m, \u001b[32m'l'\u001b[0m, \u001b[32m'd'\u001b[0m\u001b[1m]\u001b[0m\n"
      ]
     },
     "metadata": {},
     "output_type": "display_data"
    }
   ],
   "source": [
    "# 列表可以看成一个高级的数组\n",
    "list1 = ['baidu', 'google', 12, 34]\n",
    "list2 = [1, 2, 3, 4, 5 ]\n",
    "list3 = [\"a\", \"b\", \"c\", \"d\"]\n",
    "list4 = list(\"Hello World\")\n",
    "\n",
    "print(list1)\n",
    "print(list2)\n",
    "print(list3)\n",
    "print(list4)"
   ]
  },
  {
   "cell_type": "markdown",
   "id": "dd1d4967",
   "metadata": {},
   "source": [
    "## 函数"
   ]
  },
  {
   "cell_type": "code",
   "execution_count": 9,
   "id": "c6d9309b",
   "metadata": {
    "ExecuteTime": {
     "end_time": "2023-02-01T15:04:49.388926Z",
     "start_time": "2023-02-01T15:04:49.384249Z"
    }
   },
   "outputs": [],
   "source": [
    "### 函数定义与调用"
   ]
  },
  {
   "cell_type": "code",
   "execution_count": 10,
   "id": "f525585f",
   "metadata": {
    "ExecuteTime": {
     "end_time": "2023-02-01T15:04:49.400916Z",
     "start_time": "2023-02-01T15:04:49.391622Z"
    }
   },
   "outputs": [
    {
     "data": {
      "text/html": [
       "<pre style=\"white-space:pre;overflow-x:auto;line-height:normal;font-family:Menlo,'DejaVu Sans Mono',consolas,'Courier New',monospace\">Hello world\n",
       "</pre>\n"
      ],
      "text/plain": [
       "Hello world\n"
      ]
     },
     "metadata": {},
     "output_type": "display_data"
    },
    {
     "data": {
      "text/plain": [
       "True"
      ]
     },
     "execution_count": 10,
     "metadata": {},
     "output_type": "execute_result"
    }
   ],
   "source": [
    "# 1.1 定义普通函数\n",
    "def helloWorld():\n",
    "    print(\"Hello world\");\n",
    "    return True\n",
    "\n",
    "# 1.2 调用函数\n",
    "helloWorld()"
   ]
  },
  {
   "cell_type": "code",
   "execution_count": 11,
   "id": "a7344230",
   "metadata": {
    "ExecuteTime": {
     "end_time": "2023-02-01T15:04:49.429486Z",
     "start_time": "2023-02-01T15:04:49.403110Z"
    }
   },
   "outputs": [
    {
     "data": {
      "text/html": [
       "<pre style=\"white-space:pre;overflow-x:auto;line-height:normal;font-family:Menlo,'DejaVu Sans Mono',consolas,'Courier New',monospace\">funB\n",
       "</pre>\n"
      ],
      "text/plain": [
       "funB\n"
      ]
     },
     "metadata": {},
     "output_type": "display_data"
    },
    {
     "data": {
      "text/html": [
       "<pre style=\"white-space:pre;overflow-x:auto;line-height:normal;font-family:Menlo,'DejaVu Sans Mono',consolas,'Courier New',monospace\">funA\n",
       "</pre>\n"
      ],
      "text/plain": [
       "funA\n"
      ]
     },
     "metadata": {},
     "output_type": "display_data"
    },
    {
     "data": {
      "text/html": [
       "<pre style=\"white-space:pre;overflow-x:auto;line-height:normal;font-family:Menlo,'DejaVu Sans Mono',consolas,'Courier New',monospace\"><span style=\"color: #808000; text-decoration-color: #808000\">x</span>= <span style=\"color: #008080; text-decoration-color: #008080; font-weight: bold\">12</span>\n",
       "</pre>\n"
      ],
      "text/plain": [
       "\u001b[33mx\u001b[0m= \u001b[1;36m12\u001b[0m\n"
      ]
     },
     "metadata": {},
     "output_type": "display_data"
    },
    {
     "data": {
      "text/html": [
       "<pre style=\"white-space:pre;overflow-x:auto;line-height:normal;font-family:Menlo,'DejaVu Sans Mono',consolas,'Courier New',monospace\">x id = <span style=\"color: #008080; text-decoration-color: #008080; font-weight: bold\">140111057915528</span>\n",
       "</pre>\n"
      ],
      "text/plain": [
       "x id = \u001b[1;36m140111057915528\u001b[0m\n"
      ]
     },
     "metadata": {},
     "output_type": "display_data"
    },
    {
     "data": {
      "text/html": [
       "<pre style=\"white-space:pre;overflow-x:auto;line-height:normal;font-family:Menlo,'DejaVu Sans Mono',consolas,'Courier New',monospace\"><span style=\"color: #808000; text-decoration-color: #808000\">x</span>= <span style=\"color: #008080; text-decoration-color: #008080; font-weight: bold\">11</span>\n",
       "</pre>\n"
      ],
      "text/plain": [
       "\u001b[33mx\u001b[0m= \u001b[1;36m11\u001b[0m\n"
      ]
     },
     "metadata": {},
     "output_type": "display_data"
    },
    {
     "data": {
      "text/html": [
       "<pre style=\"white-space:pre;overflow-x:auto;line-height:normal;font-family:Menlo,'DejaVu Sans Mono',consolas,'Courier New',monospace\">x id = <span style=\"color: #008080; text-decoration-color: #008080; font-weight: bold\">140111057915496</span>\n",
       "</pre>\n"
      ],
      "text/plain": [
       "x id = \u001b[1;36m140111057915496\u001b[0m\n"
      ]
     },
     "metadata": {},
     "output_type": "display_data"
    },
    {
     "data": {
      "text/html": [
       "<pre style=\"white-space:pre;overflow-x:auto;line-height:normal;font-family:Menlo,'DejaVu Sans Mono',consolas,'Courier New',monospace\"><span style=\"color: #808000; text-decoration-color: #808000\">x</span>= <span style=\"color: #008080; text-decoration-color: #008080; font-weight: bold\">12</span>\n",
       "</pre>\n"
      ],
      "text/plain": [
       "\u001b[33mx\u001b[0m= \u001b[1;36m12\u001b[0m\n"
      ]
     },
     "metadata": {},
     "output_type": "display_data"
    },
    {
     "data": {
      "text/html": [
       "<pre style=\"white-space:pre;overflow-x:auto;line-height:normal;font-family:Menlo,'DejaVu Sans Mono',consolas,'Courier New',monospace\">x id = <span style=\"color: #008080; text-decoration-color: #008080; font-weight: bold\">140111057915528</span>\n",
       "</pre>\n"
      ],
      "text/plain": [
       "x id = \u001b[1;36m140111057915528\u001b[0m\n"
      ]
     },
     "metadata": {},
     "output_type": "display_data"
    }
   ],
   "source": [
    "# 2.1 嵌套函数\n",
    "\n",
    "def funcA():\n",
    "    def funB():\n",
    "        print(\"funB\");\n",
    "    funB()\n",
    "    print(\"funA\")\n",
    "\n",
    "# 2.2 嵌套函数调用\n",
    "\n",
    "funcA()\n",
    "\n",
    "# funcB() funB函数不可以进行调用\n",
    "\n",
    "# 2.3 调用nonlocal绑定\n",
    "\n",
    "# 与C语言一致,函数内部会形成新的变量,但是我们可以使用nonlocal关键字进行禁止,类似于extern\n",
    "def px():\n",
    "    x = 12                        # 定义x = 12\n",
    "    print(\"x=\", x)                # 打印12\n",
    "    print(\"x id =\", id(x))        # 打印x的ID\n",
    "    \n",
    "    def px_1():\n",
    "        x = 11\n",
    "        print(\"x=\", x)            # 打印11\n",
    "        print(\"x id =\", id(x))    # 打印x的ID\n",
    "    \n",
    "    def px_2():\n",
    "        nonlocal x                # 将x绑定到\n",
    "        print(\"x=\", x)            # 打印12\n",
    "        print(\"x id =\", id(x))    # 打印x的ID\n",
    "        \n",
    "    px_1()\n",
    "    px_2()\n",
    "\n",
    "px()\n",
    "\n",
    "# 根据下面的打印,我们可以确定出, nonlocal将外层变量绑定到内部函数中\n",
    "# 并且于global不同,gloabl绑定的是全局变量\n",
    "# 可以确定打印出的ID"
   ]
  },
  {
   "cell_type": "markdown",
   "id": "badacbed",
   "metadata": {},
   "source": [
    "python的变量解析机制, ***LEGB*规则\n",
    "\n",
    "1. Local     (局部作用域)\n",
    "2. Enclose   (嵌套函数外部)\n",
    "3. Global    (全局作用域)\n",
    "4. Build-In  (内置作用域)\n"
   ]
  },
  {
   "cell_type": "markdown",
   "id": "fc95a7d2",
   "metadata": {},
   "source": [
    "### 闭包\n",
    "\n",
    "> 闭包（closure）是一个函数以及其捆绑的周边环境状态（lexical environment，词法环境）的引用的组合。\n",
    "> 换而言之，闭包让开发者可以从内部函数访问外部函数的作用域。\n",
    "\n",
    "简而言之,就是外部调用内部函数"
   ]
  },
  {
   "cell_type": "code",
   "execution_count": 12,
   "id": "05c41c32",
   "metadata": {
    "ExecuteTime": {
     "end_time": "2023-02-01T15:04:49.470917Z",
     "start_time": "2023-02-01T15:04:49.443413Z"
    }
   },
   "outputs": [
    {
     "data": {
      "text/html": [
       "<pre style=\"white-space:pre;overflow-x:auto;line-height:normal;font-family:Menlo,'DejaVu Sans Mono',consolas,'Courier New',monospace\"><span style=\"color: #008080; text-decoration-color: #008080; font-weight: bold\">12</span>\n",
       "</pre>\n"
      ],
      "text/plain": [
       "\u001b[1;36m12\u001b[0m\n"
      ]
     },
     "metadata": {},
     "output_type": "display_data"
    },
    {
     "data": {
      "text/html": [
       "<pre style=\"white-space:pre;overflow-x:auto;line-height:normal;font-family:Menlo,'DejaVu Sans Mono',consolas,'Courier New',monospace\"><span style=\"color: #008080; text-decoration-color: #008080; font-weight: bold\">12</span>\n",
       "</pre>\n"
      ],
      "text/plain": [
       "\u001b[1;36m12\u001b[0m\n"
      ]
     },
     "metadata": {},
     "output_type": "display_data"
    },
    {
     "data": {
      "text/html": [
       "<pre style=\"white-space:pre;overflow-x:auto;line-height:normal;font-family:Menlo,'DejaVu Sans Mono',consolas,'Courier New',monospace\">4的平方 <span style=\"color: #008080; text-decoration-color: #008080; font-weight: bold\">16</span>\n",
       "</pre>\n"
      ],
      "text/plain": [
       "4的平方 \u001b[1;36m16\u001b[0m\n"
      ]
     },
     "metadata": {},
     "output_type": "display_data"
    },
    {
     "data": {
      "text/html": [
       "<pre style=\"white-space:pre;overflow-x:auto;line-height:normal;font-family:Menlo,'DejaVu Sans Mono',consolas,'Courier New',monospace\">4的立方 <span style=\"color: #008080; text-decoration-color: #008080; font-weight: bold\">64</span>\n",
       "</pre>\n"
      ],
      "text/plain": [
       "4的立方 \u001b[1;36m64\u001b[0m\n"
      ]
     },
     "metadata": {},
     "output_type": "display_data"
    }
   ],
   "source": [
    "# 3.1 闭包工作原理,将内部函数返回\n",
    "\n",
    "def funC():\n",
    "    x = 12\n",
    "    def funD():\n",
    "        print(x)\n",
    "    return funD\n",
    "\n",
    "# 下面的语句打印的结果\n",
    "# function __main__.funC.<locals>.funD()\n",
    "funC()\n",
    "\n",
    "# 3.2 调用funD\n",
    "\n",
    "# 3.2.1 直接调用\n",
    "\n",
    "funC()()\n",
    "\n",
    "# 3.2.2 临时接收\n",
    "f = funC()\n",
    "f()\n",
    "\n",
    "# 外部作用域中的变量会保存,不会消失,这就是闭包\n",
    "\n",
    "# 闭包的妙用\n",
    "def power(exp):\n",
    "    def expOf(base):\n",
    "        return base ** exp\n",
    "    return expOf\n",
    "\n",
    "square = power(2)\n",
    "cube = power(3)\n",
    "\n",
    "print(\"4的平方\", square(4))\n",
    "print(\"4的立方\", cube(4))"
   ]
  },
  {
   "cell_type": "markdown",
   "id": "3ea01ada",
   "metadata": {},
   "source": [
    "闭包详细理解\n",
    "如果一个函数定义在另一个函数的作用域内，并且引用了外层函数的变量，则该函数称为闭包。\n",
    "闭包是Python所支持的一种特性，它让在非global scope定义的函数可以引用其外围空间中的变量，这些外围空间中被引用的变量叫做这个函数的环境变量。\n",
    "**环境变量和这个非全局函数**一起构成了闭包。\n",
    "\n",
    "__注意是:变量和函数一起称之为闭包__,因此闭包是语言提供的功能\n"
   ]
  },
  {
   "cell_type": "markdown",
   "id": "7c0014c0",
   "metadata": {},
   "source": [
    "### 装饰器"
   ]
  },
  {
   "cell_type": "code",
   "execution_count": 13,
   "id": "00cb6cd8",
   "metadata": {
    "ExecuteTime": {
     "end_time": "2023-02-01T15:04:49.513484Z",
     "start_time": "2023-02-01T15:04:49.479103Z"
    }
   },
   "outputs": [
    {
     "data": {
      "text/html": [
       "<pre style=\"white-space:pre;overflow-x:auto;line-height:normal;font-family:Menlo,'DejaVu Sans Mono',consolas,'Courier New',monospace\"><span style=\"font-weight: bold\">[</span>DEBUG<span style=\"font-weight: bold\">]</span>: enter <span style=\"color: #800080; text-decoration-color: #800080; font-weight: bold\">hello1</span><span style=\"font-weight: bold\">()</span> start\n",
       "</pre>\n"
      ],
      "text/plain": [
       "\u001b[1m[\u001b[0mDEBUG\u001b[1m]\u001b[0m: enter \u001b[1;35mhello1\u001b[0m\u001b[1m(\u001b[0m\u001b[1m)\u001b[0m start\n"
      ]
     },
     "metadata": {},
     "output_type": "display_data"
    },
    {
     "data": {
      "text/html": [
       "<pre style=\"white-space:pre;overflow-x:auto;line-height:normal;font-family:Menlo,'DejaVu Sans Mono',consolas,'Courier New',monospace\">Hello1\n",
       "</pre>\n"
      ],
      "text/plain": [
       "Hello1\n"
      ]
     },
     "metadata": {},
     "output_type": "display_data"
    },
    {
     "data": {
      "text/html": [
       "<pre style=\"white-space:pre;overflow-x:auto;line-height:normal;font-family:Menlo,'DejaVu Sans Mono',consolas,'Courier New',monospace\"><span style=\"font-weight: bold\">[</span>DEBUG<span style=\"font-weight: bold\">]</span>: exit <span style=\"color: #800080; text-decoration-color: #800080; font-weight: bold\">hello1</span><span style=\"font-weight: bold\">()</span> stop\n",
       "</pre>\n"
      ],
      "text/plain": [
       "\u001b[1m[\u001b[0mDEBUG\u001b[1m]\u001b[0m: exit \u001b[1;35mhello1\u001b[0m\u001b[1m(\u001b[0m\u001b[1m)\u001b[0m stop\n"
      ]
     },
     "metadata": {},
     "output_type": "display_data"
    },
    {
     "data": {
      "text/html": [
       "<pre style=\"white-space:pre;overflow-x:auto;line-height:normal;font-family:Menlo,'DejaVu Sans Mono',consolas,'Courier New',monospace\"><span style=\"font-weight: bold\">[</span>DEBUG<span style=\"font-weight: bold\">]</span>: elapse <span style=\"color: #800080; text-decoration-color: #800080; font-weight: bold\">0.0012352466583251953</span><span style=\"font-weight: bold\">()</span>\n",
       "</pre>\n"
      ],
      "text/plain": [
       "\u001b[1m[\u001b[0mDEBUG\u001b[1m]\u001b[0m: elapse \u001b[1;35m0.0012352466583251953\u001b[0m\u001b[1m(\u001b[0m\u001b[1m)\u001b[0m\n"
      ]
     },
     "metadata": {},
     "output_type": "display_data"
    }
   ],
   "source": [
    "# 4.1 定义一个检查时间的函数\n",
    "import time\n",
    "def timeMaster(func):\n",
    "    print(\"[DEBUG]: enter {}() start\".format(func.__name__))\n",
    "    start = time.time()\n",
    "    func()\n",
    "    stop = time.time()\n",
    "    print(\"[DEBUG]: exit {}() stop\".format(func.__name__))\n",
    "    print(\"[DEBUG]: elapse {}()\".format(stop - start))\n",
    "\n",
    "def hello1():\n",
    "    print(\"Hello1\")\n",
    "\n",
    "timeMaster(hello1)"
   ]
  },
  {
   "cell_type": "code",
   "execution_count": 14,
   "id": "d5c2ed74",
   "metadata": {
    "ExecuteTime": {
     "end_time": "2023-02-01T15:04:49.534551Z",
     "start_time": "2023-02-01T15:04:49.516851Z"
    }
   },
   "outputs": [
    {
     "data": {
      "text/html": [
       "<pre style=\"white-space:pre;overflow-x:auto;line-height:normal;font-family:Menlo,'DejaVu Sans Mono',consolas,'Courier New',monospace\"><span style=\"font-weight: bold\">[</span>DEBUG<span style=\"font-weight: bold\">]</span>: enter <span style=\"color: #800080; text-decoration-color: #800080; font-weight: bold\">hello2</span><span style=\"font-weight: bold\">()</span> start\n",
       "</pre>\n"
      ],
      "text/plain": [
       "\u001b[1m[\u001b[0mDEBUG\u001b[1m]\u001b[0m: enter \u001b[1;35mhello2\u001b[0m\u001b[1m(\u001b[0m\u001b[1m)\u001b[0m start\n"
      ]
     },
     "metadata": {},
     "output_type": "display_data"
    },
    {
     "data": {
      "text/html": [
       "<pre style=\"white-space:pre;overflow-x:auto;line-height:normal;font-family:Menlo,'DejaVu Sans Mono',consolas,'Courier New',monospace\">Hello2\n",
       "</pre>\n"
      ],
      "text/plain": [
       "Hello2\n"
      ]
     },
     "metadata": {},
     "output_type": "display_data"
    },
    {
     "data": {
      "text/html": [
       "<pre style=\"white-space:pre;overflow-x:auto;line-height:normal;font-family:Menlo,'DejaVu Sans Mono',consolas,'Courier New',monospace\"><span style=\"font-weight: bold\">[</span>DEBUG<span style=\"font-weight: bold\">]</span>: exit <span style=\"color: #800080; text-decoration-color: #800080; font-weight: bold\">hello2</span><span style=\"font-weight: bold\">()</span> stop\n",
       "</pre>\n"
      ],
      "text/plain": [
       "\u001b[1m[\u001b[0mDEBUG\u001b[1m]\u001b[0m: exit \u001b[1;35mhello2\u001b[0m\u001b[1m(\u001b[0m\u001b[1m)\u001b[0m stop\n"
      ]
     },
     "metadata": {},
     "output_type": "display_data"
    },
    {
     "data": {
      "text/html": [
       "<pre style=\"white-space:pre;overflow-x:auto;line-height:normal;font-family:Menlo,'DejaVu Sans Mono',consolas,'Courier New',monospace\"><span style=\"font-weight: bold\">[</span>DEBUG<span style=\"font-weight: bold\">]</span>: elapse <span style=\"color: #800080; text-decoration-color: #800080; font-weight: bold\">0.0009949207305908203</span><span style=\"font-weight: bold\">()</span>\n",
       "</pre>\n"
      ],
      "text/plain": [
       "\u001b[1m[\u001b[0mDEBUG\u001b[1m]\u001b[0m: elapse \u001b[1;35m0.0009949207305908203\u001b[0m\u001b[1m(\u001b[0m\u001b[1m)\u001b[0m\n"
      ]
     },
     "metadata": {},
     "output_type": "display_data"
    }
   ],
   "source": [
    "# 4.2 使用装饰器\n",
    "import time\n",
    "def timeMasterDecorate(func):\n",
    "    def call():\n",
    "        print(\"[DEBUG]: enter {}() start\".format(func.__name__))\n",
    "        start = time.time()\n",
    "        func()\n",
    "        stop = time.time()\n",
    "        print(\"[DEBUG]: exit {}() stop\".format(func.__name__))\n",
    "        print(\"[DEBUG]: elapse {}()\".format(stop - start))\n",
    "    return call\n",
    "\n",
    "@timeMasterDecorate\n",
    "def hello2():\n",
    "    print(\"Hello2\")\n",
    "\n",
    "hello2() # timeMasterDecorate(hello2)()"
   ]
  },
  {
   "cell_type": "code",
   "execution_count": 15,
   "id": "3d556764",
   "metadata": {
    "ExecuteTime": {
     "end_time": "2023-02-01T15:04:49.551482Z",
     "start_time": "2023-02-01T15:04:49.537183Z"
    }
   },
   "outputs": [
    {
     "data": {
      "text/html": [
       "<pre style=\"white-space:pre;overflow-x:auto;line-height:normal;font-family:Menlo,'DejaVu Sans Mono',consolas,'Courier New',monospace\"><span style=\"font-weight: bold\">[</span>DEBUG<span style=\"font-weight: bold\">]</span>: enter <span style=\"color: #800080; text-decoration-color: #800080; font-weight: bold\">funcA</span><span style=\"font-weight: bold\">()</span> start\n",
       "</pre>\n"
      ],
      "text/plain": [
       "\u001b[1m[\u001b[0mDEBUG\u001b[1m]\u001b[0m: enter \u001b[1;35mfuncA\u001b[0m\u001b[1m(\u001b[0m\u001b[1m)\u001b[0m start\n"
      ]
     },
     "metadata": {},
     "output_type": "display_data"
    },
    {
     "data": {
      "text/html": [
       "<pre style=\"white-space:pre;overflow-x:auto;line-height:normal;font-family:Menlo,'DejaVu Sans Mono',consolas,'Courier New',monospace\">funcA\n",
       "</pre>\n"
      ],
      "text/plain": [
       "funcA\n"
      ]
     },
     "metadata": {},
     "output_type": "display_data"
    },
    {
     "data": {
      "text/html": [
       "<pre style=\"white-space:pre;overflow-x:auto;line-height:normal;font-family:Menlo,'DejaVu Sans Mono',consolas,'Courier New',monospace\"><span style=\"font-weight: bold\">[</span>DEBUG<span style=\"font-weight: bold\">]</span>: exit <span style=\"color: #800080; text-decoration-color: #800080; font-weight: bold\">funcA</span><span style=\"font-weight: bold\">()</span> stop\n",
       "</pre>\n"
      ],
      "text/plain": [
       "\u001b[1m[\u001b[0mDEBUG\u001b[1m]\u001b[0m: exit \u001b[1;35mfuncA\u001b[0m\u001b[1m(\u001b[0m\u001b[1m)\u001b[0m stop\n"
      ]
     },
     "metadata": {},
     "output_type": "display_data"
    },
    {
     "data": {
      "text/html": [
       "<pre style=\"white-space:pre;overflow-x:auto;line-height:normal;font-family:Menlo,'DejaVu Sans Mono',consolas,'Courier New',monospace\"><span style=\"font-weight: bold\">[</span>DEBUG<span style=\"font-weight: bold\">]</span>: elapse <span style=\"color: #800080; text-decoration-color: #800080; font-weight: bold\">0.000995635986328125</span><span style=\"font-weight: bold\">()</span>\n",
       "</pre>\n"
      ],
      "text/plain": [
       "\u001b[1m[\u001b[0mDEBUG\u001b[1m]\u001b[0m: elapse \u001b[1;35m0.000995635986328125\u001b[0m\u001b[1m(\u001b[0m\u001b[1m)\u001b[0m\n"
      ]
     },
     "metadata": {},
     "output_type": "display_data"
    }
   ],
   "source": [
    "# 4.3 装饰器传递参数\n",
    "import time\n",
    "def msgTimeMasterDecorate(msg):\n",
    "    def timeMasterDecorate(func):\n",
    "        def call():\n",
    "            print(\"[DEBUG]: enter {}() start\".format(func.__name__))\n",
    "            start = time.time()\n",
    "            func()\n",
    "            stop = time.time()\n",
    "            print(\"[DEBUG]: exit {}() stop\".format(func.__name__))\n",
    "            print(\"[DEBUG]: elapse {}()\".format(stop - start))\n",
    "        return call\n",
    "    return timeMasterDecorate\n",
    "\n",
    "@msgTimeMasterDecorate(msg=\"funcA\")\n",
    "def funcA():\n",
    "    print(\"funcA\")\n",
    "\n",
    "funcA()"
   ]
  },
  {
   "cell_type": "markdown",
   "id": "3fea352c",
   "metadata": {},
   "source": [
    "### lambda表达式"
   ]
  },
  {
   "cell_type": "code",
   "execution_count": 16,
   "id": "d0377cd3",
   "metadata": {
    "ExecuteTime": {
     "end_time": "2023-02-01T15:04:49.563595Z",
     "start_time": "2023-02-01T15:04:49.554141Z"
    }
   },
   "outputs": [
    {
     "data": {
      "text/html": [
       "<pre style=\"white-space:pre;overflow-x:auto;line-height:normal;font-family:Menlo,'DejaVu Sans Mono',consolas,'Courier New',monospace\"><span style=\"font-weight: bold\">&lt;</span><span style=\"color: #ff00ff; text-decoration-color: #ff00ff; font-weight: bold\">function</span><span style=\"color: #000000; text-decoration-color: #000000\"> square1 at </span><span style=\"color: #008080; text-decoration-color: #008080; font-weight: bold\">0x7f6da72ae700</span><span style=\"font-weight: bold\">&gt;</span>\n",
       "</pre>\n"
      ],
      "text/plain": [
       "\u001b[1m<\u001b[0m\u001b[1;95mfunction\u001b[0m\u001b[39m square1 at \u001b[0m\u001b[1;36m0x7f6da72ae700\u001b[0m\u001b[1m>\u001b[0m\n"
      ]
     },
     "metadata": {},
     "output_type": "display_data"
    },
    {
     "data": {
      "text/html": [
       "<pre style=\"white-space:pre;overflow-x:auto;line-height:normal;font-family:Menlo,'DejaVu Sans Mono',consolas,'Courier New',monospace\"><span style=\"font-weight: bold\">&lt;</span><span style=\"color: #ff00ff; text-decoration-color: #ff00ff; font-weight: bold\">function</span><span style=\"color: #000000; text-decoration-color: #000000\"> &lt;lambda&gt; at </span><span style=\"color: #008080; text-decoration-color: #008080; font-weight: bold\">0x7f6da72ae7a0</span><span style=\"font-weight: bold\">&gt;</span>\n",
       "</pre>\n"
      ],
      "text/plain": [
       "\u001b[1m<\u001b[0m\u001b[1;95mfunction\u001b[0m\u001b[39m <lambda> at \u001b[0m\u001b[1;36m0x7f6da72ae7a0\u001b[0m\u001b[1m>\u001b[0m\n"
      ]
     },
     "metadata": {},
     "output_type": "display_data"
    }
   ],
   "source": [
    "# 5.1 定义lambda表达式\n",
    "\n",
    "def square1(x):\n",
    "    return x * x\n",
    "\n",
    "square2 = lambda y : y * y\n",
    "\n",
    "print(square1)\n",
    "print(square2)"
   ]
  },
  {
   "cell_type": "code",
   "execution_count": 17,
   "id": "94d582af",
   "metadata": {
    "ExecuteTime": {
     "end_time": "2023-02-01T15:04:49.586011Z",
     "start_time": "2023-02-01T15:04:49.578156Z"
    }
   },
   "outputs": [
    {
     "data": {
      "text/plain": [
       "4"
      ]
     },
     "execution_count": 17,
     "metadata": {},
     "output_type": "execute_result"
    }
   ],
   "source": [
    "# 5.2 lambda的优秀之处\n",
    "\n",
    "L = [lambda x : x * x, 2, 3]\n",
    "\n",
    "L[0](L[1])"
   ]
  },
  {
   "cell_type": "code",
   "execution_count": 18,
   "id": "c2a0e27b",
   "metadata": {
    "ExecuteTime": {
     "end_time": "2023-02-01T15:04:49.595044Z",
     "start_time": "2023-02-01T15:04:49.588397Z"
    }
   },
   "outputs": [
    {
     "data": {
      "text/plain": [
       "[104, 101, 108, 108, 111, 87, 111, 114, 108, 100]"
      ]
     },
     "execution_count": 18,
     "metadata": {},
     "output_type": "execute_result"
    }
   ],
   "source": [
    "mapText = map(lambda x : ord(x), \"helloWorld\")\n",
    "list(mapText)"
   ]
  },
  {
   "cell_type": "code",
   "execution_count": 19,
   "id": "8fdc9692",
   "metadata": {
    "ExecuteTime": {
     "end_time": "2023-02-01T15:04:49.604006Z",
     "start_time": "2023-02-01T15:04:49.597359Z"
    }
   },
   "outputs": [
    {
     "data": {
      "text/plain": [
       "[1, 3, 5, 7, 9]"
      ]
     },
     "execution_count": 19,
     "metadata": {},
     "output_type": "execute_result"
    }
   ],
   "source": [
    "# 打印出10以内的奇数\n",
    "list(filter(lambda x : x % 2, range(10))) "
   ]
  },
  {
   "cell_type": "markdown",
   "id": "77e0e30b",
   "metadata": {},
   "source": [
    "### 生成器"
   ]
  },
  {
   "cell_type": "code",
   "execution_count": 20,
   "id": "ea4eb32b",
   "metadata": {
    "ExecuteTime": {
     "end_time": "2023-02-01T15:04:49.616083Z",
     "start_time": "2023-02-01T15:04:49.606891Z"
    }
   },
   "outputs": [
    {
     "data": {
      "text/html": [
       "<pre style=\"white-space:pre;overflow-x:auto;line-height:normal;font-family:Menlo,'DejaVu Sans Mono',consolas,'Courier New',monospace\"><span style=\"font-weight: bold\">&lt;</span><span style=\"color: #ff00ff; text-decoration-color: #ff00ff; font-weight: bold\">function</span><span style=\"color: #000000; text-decoration-color: #000000\"> counter at </span><span style=\"color: #008080; text-decoration-color: #008080; font-weight: bold\">0x7f6da72af880</span><span style=\"font-weight: bold\">&gt;</span>\n",
       "</pre>\n"
      ],
      "text/plain": [
       "\u001b[1m<\u001b[0m\u001b[1;95mfunction\u001b[0m\u001b[39m counter at \u001b[0m\u001b[1;36m0x7f6da72af880\u001b[0m\u001b[1m>\u001b[0m\n"
      ]
     },
     "metadata": {},
     "output_type": "display_data"
    }
   ],
   "source": [
    "# 6.1 定义生成器\n",
    "\n",
    "def counter():\n",
    "    i = 0\n",
    "    while i < 5:\n",
    "        yield i\n",
    "        i += 1\n",
    "        \n",
    "# 将return 换成为yield\n",
    "print(counter)"
   ]
  },
  {
   "cell_type": "code",
   "execution_count": 21,
   "id": "4815868b",
   "metadata": {
    "ExecuteTime": {
     "end_time": "2023-02-01T15:04:49.643964Z",
     "start_time": "2023-02-01T15:04:49.624613Z"
    }
   },
   "outputs": [
    {
     "data": {
      "text/html": [
       "<pre style=\"white-space:pre;overflow-x:auto;line-height:normal;font-family:Menlo,'DejaVu Sans Mono',consolas,'Courier New',monospace\"><span style=\"color: #008080; text-decoration-color: #008080; font-weight: bold\">0</span>\n",
       "</pre>\n"
      ],
      "text/plain": [
       "\u001b[1;36m0\u001b[0m\n"
      ]
     },
     "metadata": {},
     "output_type": "display_data"
    },
    {
     "data": {
      "text/html": [
       "<pre style=\"white-space:pre;overflow-x:auto;line-height:normal;font-family:Menlo,'DejaVu Sans Mono',consolas,'Courier New',monospace\"><span style=\"color: #008080; text-decoration-color: #008080; font-weight: bold\">1</span>\n",
       "</pre>\n"
      ],
      "text/plain": [
       "\u001b[1;36m1\u001b[0m\n"
      ]
     },
     "metadata": {},
     "output_type": "display_data"
    },
    {
     "data": {
      "text/html": [
       "<pre style=\"white-space:pre;overflow-x:auto;line-height:normal;font-family:Menlo,'DejaVu Sans Mono',consolas,'Courier New',monospace\"><span style=\"color: #008080; text-decoration-color: #008080; font-weight: bold\">2</span>\n",
       "</pre>\n"
      ],
      "text/plain": [
       "\u001b[1;36m2\u001b[0m\n"
      ]
     },
     "metadata": {},
     "output_type": "display_data"
    },
    {
     "data": {
      "text/html": [
       "<pre style=\"white-space:pre;overflow-x:auto;line-height:normal;font-family:Menlo,'DejaVu Sans Mono',consolas,'Courier New',monospace\"><span style=\"color: #008080; text-decoration-color: #008080; font-weight: bold\">3</span>\n",
       "</pre>\n"
      ],
      "text/plain": [
       "\u001b[1;36m3\u001b[0m\n"
      ]
     },
     "metadata": {},
     "output_type": "display_data"
    },
    {
     "data": {
      "text/html": [
       "<pre style=\"white-space:pre;overflow-x:auto;line-height:normal;font-family:Menlo,'DejaVu Sans Mono',consolas,'Courier New',monospace\"><span style=\"color: #008080; text-decoration-color: #008080; font-weight: bold\">4</span>\n",
       "</pre>\n"
      ],
      "text/plain": [
       "\u001b[1;36m4\u001b[0m\n"
      ]
     },
     "metadata": {},
     "output_type": "display_data"
    }
   ],
   "source": [
    "# 6.2 使用生成器\n",
    "for i in counter():\n",
    "    print(i)"
   ]
  },
  {
   "cell_type": "code",
   "execution_count": 22,
   "id": "12b06650",
   "metadata": {
    "ExecuteTime": {
     "end_time": "2023-02-01T15:04:49.651976Z",
     "start_time": "2023-02-01T15:04:49.646839Z"
    }
   },
   "outputs": [],
   "source": [
    "# 6.3 生成器支持next迭代器\n",
    "c = counter()"
   ]
  },
  {
   "cell_type": "code",
   "execution_count": 23,
   "id": "793d32c7",
   "metadata": {
    "ExecuteTime": {
     "end_time": "2023-02-01T15:04:49.660982Z",
     "start_time": "2023-02-01T15:04:49.654372Z"
    }
   },
   "outputs": [
    {
     "data": {
      "text/plain": [
       "0"
      ]
     },
     "execution_count": 23,
     "metadata": {},
     "output_type": "execute_result"
    }
   ],
   "source": [
    "# 6.3.1 生成器支持next迭代器\n",
    "next(c)"
   ]
  },
  {
   "cell_type": "code",
   "execution_count": 24,
   "id": "4c15aade",
   "metadata": {
    "ExecuteTime": {
     "end_time": "2023-02-01T15:04:49.670031Z",
     "start_time": "2023-02-01T15:04:49.663798Z"
    }
   },
   "outputs": [
    {
     "data": {
      "text/plain": [
       "1"
      ]
     },
     "execution_count": 24,
     "metadata": {},
     "output_type": "execute_result"
    }
   ],
   "source": [
    "# 6.3.2 生成器支持next迭代器\n",
    "next(c)"
   ]
  },
  {
   "cell_type": "code",
   "execution_count": 25,
   "id": "459b4afc",
   "metadata": {
    "ExecuteTime": {
     "end_time": "2023-02-01T15:04:49.682007Z",
     "start_time": "2023-02-01T15:04:49.673849Z"
    }
   },
   "outputs": [],
   "source": [
    "# 6.4.1 计算斐波那契数列\n",
    "def fib():\n",
    "    back1, back2 = 0, 1\n",
    "    while True:\n",
    "        yield back1\n",
    "        back1, back2  = back2, back1 + back2\n",
    "f = fib()"
   ]
  },
  {
   "cell_type": "code",
   "execution_count": 26,
   "id": "8fa1880f",
   "metadata": {
    "ExecuteTime": {
     "end_time": "2023-02-01T15:04:49.728937Z",
     "start_time": "2023-02-01T15:04:49.687590Z"
    }
   },
   "outputs": [
    {
     "data": {
      "text/html": [
       "<pre style=\"white-space:pre;overflow-x:auto;line-height:normal;font-family:Menlo,'DejaVu Sans Mono',consolas,'Courier New',monospace\"><span style=\"color: #008080; text-decoration-color: #008080; font-weight: bold\">0</span>\n",
       "</pre>\n"
      ],
      "text/plain": [
       "\u001b[1;36m0\u001b[0m\n"
      ]
     },
     "metadata": {},
     "output_type": "display_data"
    },
    {
     "data": {
      "text/html": [
       "<pre style=\"white-space:pre;overflow-x:auto;line-height:normal;font-family:Menlo,'DejaVu Sans Mono',consolas,'Courier New',monospace\"><span style=\"color: #008080; text-decoration-color: #008080; font-weight: bold\">1</span>\n",
       "</pre>\n"
      ],
      "text/plain": [
       "\u001b[1;36m1\u001b[0m\n"
      ]
     },
     "metadata": {},
     "output_type": "display_data"
    },
    {
     "data": {
      "text/html": [
       "<pre style=\"white-space:pre;overflow-x:auto;line-height:normal;font-family:Menlo,'DejaVu Sans Mono',consolas,'Courier New',monospace\"><span style=\"color: #008080; text-decoration-color: #008080; font-weight: bold\">1</span>\n",
       "</pre>\n"
      ],
      "text/plain": [
       "\u001b[1;36m1\u001b[0m\n"
      ]
     },
     "metadata": {},
     "output_type": "display_data"
    },
    {
     "data": {
      "text/html": [
       "<pre style=\"white-space:pre;overflow-x:auto;line-height:normal;font-family:Menlo,'DejaVu Sans Mono',consolas,'Courier New',monospace\"><span style=\"color: #008080; text-decoration-color: #008080; font-weight: bold\">2</span>\n",
       "</pre>\n"
      ],
      "text/plain": [
       "\u001b[1;36m2\u001b[0m\n"
      ]
     },
     "metadata": {},
     "output_type": "display_data"
    },
    {
     "data": {
      "text/html": [
       "<pre style=\"white-space:pre;overflow-x:auto;line-height:normal;font-family:Menlo,'DejaVu Sans Mono',consolas,'Courier New',monospace\"><span style=\"color: #008080; text-decoration-color: #008080; font-weight: bold\">3</span>\n",
       "</pre>\n"
      ],
      "text/plain": [
       "\u001b[1;36m3\u001b[0m\n"
      ]
     },
     "metadata": {},
     "output_type": "display_data"
    },
    {
     "data": {
      "text/html": [
       "<pre style=\"white-space:pre;overflow-x:auto;line-height:normal;font-family:Menlo,'DejaVu Sans Mono',consolas,'Courier New',monospace\"><span style=\"color: #008080; text-decoration-color: #008080; font-weight: bold\">5</span>\n",
       "</pre>\n"
      ],
      "text/plain": [
       "\u001b[1;36m5\u001b[0m\n"
      ]
     },
     "metadata": {},
     "output_type": "display_data"
    },
    {
     "data": {
      "text/html": [
       "<pre style=\"white-space:pre;overflow-x:auto;line-height:normal;font-family:Menlo,'DejaVu Sans Mono',consolas,'Courier New',monospace\"><span style=\"color: #008080; text-decoration-color: #008080; font-weight: bold\">8</span>\n",
       "</pre>\n"
      ],
      "text/plain": [
       "\u001b[1;36m8\u001b[0m\n"
      ]
     },
     "metadata": {},
     "output_type": "display_data"
    },
    {
     "data": {
      "text/html": [
       "<pre style=\"white-space:pre;overflow-x:auto;line-height:normal;font-family:Menlo,'DejaVu Sans Mono',consolas,'Courier New',monospace\"><span style=\"color: #008080; text-decoration-color: #008080; font-weight: bold\">13</span>\n",
       "</pre>\n"
      ],
      "text/plain": [
       "\u001b[1;36m13\u001b[0m\n"
      ]
     },
     "metadata": {},
     "output_type": "display_data"
    },
    {
     "data": {
      "text/html": [
       "<pre style=\"white-space:pre;overflow-x:auto;line-height:normal;font-family:Menlo,'DejaVu Sans Mono',consolas,'Courier New',monospace\"><span style=\"color: #008080; text-decoration-color: #008080; font-weight: bold\">21</span>\n",
       "</pre>\n"
      ],
      "text/plain": [
       "\u001b[1;36m21\u001b[0m\n"
      ]
     },
     "metadata": {},
     "output_type": "display_data"
    },
    {
     "data": {
      "text/html": [
       "<pre style=\"white-space:pre;overflow-x:auto;line-height:normal;font-family:Menlo,'DejaVu Sans Mono',consolas,'Courier New',monospace\"><span style=\"color: #008080; text-decoration-color: #008080; font-weight: bold\">34</span>\n",
       "</pre>\n"
      ],
      "text/plain": [
       "\u001b[1;36m34\u001b[0m\n"
      ]
     },
     "metadata": {},
     "output_type": "display_data"
    }
   ],
   "source": [
    "# 6.4.2 测试生成情况\n",
    "i = 0\n",
    "while i < 10:\n",
    "    i += 1\n",
    "    print(next(f))"
   ]
  },
  {
   "cell_type": "code",
   "execution_count": 27,
   "id": "31125116",
   "metadata": {
    "ExecuteTime": {
     "end_time": "2023-02-01T15:04:49.743930Z",
     "start_time": "2023-02-01T15:04:49.734662Z"
    }
   },
   "outputs": [
    {
     "data": {
      "text/html": [
       "<pre style=\"white-space:pre;overflow-x:auto;line-height:normal;font-family:Menlo,'DejaVu Sans Mono',consolas,'Courier New',monospace\"><span style=\"font-weight: bold\">&lt;</span><span style=\"color: #ff00ff; text-decoration-color: #ff00ff; font-weight: bold\">generator</span><span style=\"color: #000000; text-decoration-color: #000000\"> object &lt;genexpr&gt; at </span><span style=\"color: #008080; text-decoration-color: #008080; font-weight: bold\">0x7f6da7279970</span><span style=\"font-weight: bold\">&gt;</span> <span style=\"font-weight: bold\">&lt;</span><span style=\"color: #ff00ff; text-decoration-color: #ff00ff; font-weight: bold\">class</span><span style=\"color: #000000; text-decoration-color: #000000\"> </span><span style=\"color: #008000; text-decoration-color: #008000\">'generator'</span><span style=\"font-weight: bold\">&gt;</span>\n",
       "</pre>\n"
      ],
      "text/plain": [
       "\u001b[1m<\u001b[0m\u001b[1;95mgenerator\u001b[0m\u001b[39m object <genexpr> at \u001b[0m\u001b[1;36m0x7f6da7279970\u001b[0m\u001b[1m>\u001b[0m \u001b[1m<\u001b[0m\u001b[1;95mclass\u001b[0m\u001b[39m \u001b[0m\u001b[32m'generator'\u001b[0m\u001b[1m>\u001b[0m\n"
      ]
     },
     "metadata": {},
     "output_type": "display_data"
    }
   ],
   "source": [
    "# 6.5.1 生成器表达式\n",
    "t = (i ** 2 for i in range(10))\n",
    "print(t, type(t))"
   ]
  },
  {
   "cell_type": "code",
   "execution_count": 28,
   "id": "d6ea1fb2",
   "metadata": {
    "ExecuteTime": {
     "end_time": "2023-02-01T15:04:49.754937Z",
     "start_time": "2023-02-01T15:04:49.748079Z"
    }
   },
   "outputs": [
    {
     "data": {
      "text/plain": [
       "0"
      ]
     },
     "execution_count": 28,
     "metadata": {},
     "output_type": "execute_result"
    }
   ],
   "source": [
    "# 6.5.2 生成器表达式\n",
    "next(t)"
   ]
  },
  {
   "cell_type": "code",
   "execution_count": 29,
   "id": "c414d17e",
   "metadata": {
    "ExecuteTime": {
     "end_time": "2023-02-01T15:04:49.765512Z",
     "start_time": "2023-02-01T15:04:49.758564Z"
    }
   },
   "outputs": [
    {
     "data": {
      "text/plain": [
       "1"
      ]
     },
     "execution_count": 29,
     "metadata": {},
     "output_type": "execute_result"
    }
   ],
   "source": [
    "# 6.5.2 生成器表达式\n",
    "next(t)"
   ]
  },
  {
   "cell_type": "code",
   "execution_count": 30,
   "id": "bb1e2a93",
   "metadata": {
    "ExecuteTime": {
     "end_time": "2023-02-01T15:04:49.782553Z",
     "start_time": "2023-02-01T15:04:49.768857Z"
    }
   },
   "outputs": [
    {
     "data": {
      "text/html": [
       "<pre style=\"white-space:pre;overflow-x:auto;line-height:normal;font-family:Menlo,'DejaVu Sans Mono',consolas,'Courier New',monospace\"><span style=\"font-weight: bold\">[</span><span style=\"color: #008080; text-decoration-color: #008080; font-weight: bold\">0</span>, <span style=\"color: #008080; text-decoration-color: #008080; font-weight: bold\">1</span>, <span style=\"color: #008080; text-decoration-color: #008080; font-weight: bold\">4</span>, <span style=\"color: #008080; text-decoration-color: #008080; font-weight: bold\">9</span>, <span style=\"color: #008080; text-decoration-color: #008080; font-weight: bold\">16</span>, <span style=\"color: #008080; text-decoration-color: #008080; font-weight: bold\">25</span>, <span style=\"color: #008080; text-decoration-color: #008080; font-weight: bold\">36</span>, <span style=\"color: #008080; text-decoration-color: #008080; font-weight: bold\">49</span>, <span style=\"color: #008080; text-decoration-color: #008080; font-weight: bold\">64</span>, <span style=\"color: #008080; text-decoration-color: #008080; font-weight: bold\">81</span><span style=\"font-weight: bold\">]</span>\n",
       "<span style=\"font-weight: bold\">&lt;</span><span style=\"color: #ff00ff; text-decoration-color: #ff00ff; font-weight: bold\">generator</span><span style=\"color: #000000; text-decoration-color: #000000\"> object &lt;genexpr&gt; at </span><span style=\"color: #008080; text-decoration-color: #008080; font-weight: bold\">0x7f6da727ab50</span><span style=\"font-weight: bold\">&gt;</span>\n",
       "</pre>\n"
      ],
      "text/plain": [
       "\u001b[1m[\u001b[0m\u001b[1;36m0\u001b[0m, \u001b[1;36m1\u001b[0m, \u001b[1;36m4\u001b[0m, \u001b[1;36m9\u001b[0m, \u001b[1;36m16\u001b[0m, \u001b[1;36m25\u001b[0m, \u001b[1;36m36\u001b[0m, \u001b[1;36m49\u001b[0m, \u001b[1;36m64\u001b[0m, \u001b[1;36m81\u001b[0m\u001b[1m]\u001b[0m\n",
       "\u001b[1m<\u001b[0m\u001b[1;95mgenerator\u001b[0m\u001b[39m object <genexpr> at \u001b[0m\u001b[1;36m0x7f6da727ab50\u001b[0m\u001b[1m>\u001b[0m\n"
      ]
     },
     "metadata": {},
     "output_type": "display_data"
    }
   ],
   "source": [
    "# 列表推导式与生成器表达式\n",
    "t = (i ** 2 for i in range(10))\n",
    "l = [i ** 2 for i in range(10)]\n",
    "print(l, t)"
   ]
  },
  {
   "cell_type": "code",
   "execution_count": 31,
   "id": "363813be",
   "metadata": {
    "ExecuteTime": {
     "end_time": "2023-02-01T15:04:49.797297Z",
     "start_time": "2023-02-01T15:04:49.787177Z"
    }
   },
   "outputs": [
    {
     "name": "stdout",
     "output_type": "stream",
     "text": [
      "Help on built-in function max in module builtins:\n",
      "\n",
      "max(...)\n",
      "    max(iterable, *[, default=obj, key=func]) -> value\n",
      "    max(arg1, arg2, *args, *[, key=func]) -> value\n",
      "    \n",
      "    With a single iterable argument, return its biggest item. The\n",
      "    default keyword-only argument specifies an object to return if\n",
      "    the provided iterable is empty.\n",
      "    With two or more arguments, return the largest argument.\n",
      "\n"
     ]
    }
   ],
   "source": [
    "# 7.1 函数文档\n",
    "help(max)"
   ]
  },
  {
   "cell_type": "code",
   "execution_count": 32,
   "id": "10d7414f",
   "metadata": {
    "ExecuteTime": {
     "end_time": "2023-02-01T15:04:49.805536Z",
     "start_time": "2023-02-01T15:04:49.800649Z"
    }
   },
   "outputs": [],
   "source": [
    "# 7.2 定义函数文档\n",
    "def hello(s):\n",
    "    \"\"\"\n",
    "    功能: 打印欢迎语\n",
    "    参数:\n",
    "        - s 打印的字符串\n",
    "    返回值:\n",
    "        - 打印结果\n",
    "    \"\"\"\n",
    "    print(s)\n",
    "    return True"
   ]
  },
  {
   "cell_type": "code",
   "execution_count": 33,
   "id": "56131da7",
   "metadata": {
    "ExecuteTime": {
     "end_time": "2023-02-01T15:04:49.827172Z",
     "start_time": "2023-02-01T15:04:49.808567Z"
    }
   },
   "outputs": [
    {
     "name": "stdout",
     "output_type": "stream",
     "text": [
      "Help on function hello in module __main__:\n",
      "\n",
      "hello(s)\n",
      "    功能: 打印欢迎语\n",
      "    参数:\n",
      "        - s 打印的字符串\n",
      "    返回值:\n",
      "        - 打印结果\n",
      "\n"
     ]
    }
   ],
   "source": [
    "help(hello)"
   ]
  },
  {
   "cell_type": "code",
   "execution_count": 34,
   "id": "1a1b7b92",
   "metadata": {
    "ExecuteTime": {
     "end_time": "2023-02-01T15:04:49.837167Z",
     "start_time": "2023-02-01T15:04:49.830934Z"
    }
   },
   "outputs": [],
   "source": [
    "# 8 类型注释\n",
    "def times(s:str, n:int) -> str:\n",
    "    return s * n"
   ]
  },
  {
   "cell_type": "code",
   "execution_count": 35,
   "id": "f361cfb3",
   "metadata": {
    "ExecuteTime": {
     "end_time": "2023-02-01T15:04:49.861156Z",
     "start_time": "2023-02-01T15:04:49.840892Z"
    }
   },
   "outputs": [
    {
     "data": {
      "text/plain": [
       "'hellohellohello'"
      ]
     },
     "execution_count": 35,
     "metadata": {},
     "output_type": "execute_result"
    }
   ],
   "source": [
    "times('hello', 3)"
   ]
  },
  {
   "cell_type": "code",
   "execution_count": 36,
   "id": "42e24493",
   "metadata": {
    "ExecuteTime": {
     "end_time": "2023-02-01T15:04:49.870160Z",
     "start_time": "2023-02-01T15:04:49.864198Z"
    }
   },
   "outputs": [],
   "source": [
    "# 9 内省\n",
    "\n",
    "def hello(s):\n",
    "    \"\"\"\n",
    "    功能: 打印欢迎语\n",
    "    参数:\n",
    "        - s 打印的字符串\n",
    "    返回值:\n",
    "        - 打印结果\n",
    "    \"\"\"\n",
    "    print(s)\n",
    "    return True\n",
    "\n",
    "f = hello"
   ]
  },
  {
   "cell_type": "code",
   "execution_count": 37,
   "id": "77554054",
   "metadata": {
    "ExecuteTime": {
     "end_time": "2023-02-01T15:04:49.880348Z",
     "start_time": "2023-02-01T15:04:49.872486Z"
    }
   },
   "outputs": [
    {
     "data": {
      "text/plain": [
       "'hello'"
      ]
     },
     "execution_count": 37,
     "metadata": {},
     "output_type": "execute_result"
    }
   ],
   "source": [
    "# 9.1 __name__ 确定函数名字\n",
    "f.__name__"
   ]
  },
  {
   "cell_type": "code",
   "execution_count": 38,
   "id": "93312748",
   "metadata": {
    "ExecuteTime": {
     "end_time": "2023-02-01T15:04:49.903186Z",
     "start_time": "2023-02-01T15:04:49.892707Z"
    }
   },
   "outputs": [
    {
     "data": {
      "text/plain": [
       "{}"
      ]
     },
     "execution_count": 38,
     "metadata": {},
     "output_type": "execute_result"
    }
   ],
   "source": [
    "# 9.2 __annotations__ 查看函数类型注释\n",
    "f.__annotations__"
   ]
  },
  {
   "cell_type": "code",
   "execution_count": 39,
   "id": "0e2ea6f0",
   "metadata": {
    "ExecuteTime": {
     "end_time": "2023-02-01T15:04:49.941132Z",
     "start_time": "2023-02-01T15:04:49.932005Z"
    }
   },
   "outputs": [
    {
     "data": {
      "text/html": [
       "<pre style=\"white-space:pre;overflow-x:auto;line-height:normal;font-family:Menlo,'DejaVu Sans Mono',consolas,'Courier New',monospace\">\n",
       "    功能: 打印欢迎语\n",
       "    参数:\n",
       "        - s 打印的字符串\n",
       "    返回值:\n",
       "        - 打印结果\n",
       "    \n",
       "</pre>\n"
      ],
      "text/plain": [
       "\n",
       "    功能: 打印欢迎语\n",
       "    参数:\n",
       "        - s 打印的字符串\n",
       "    返回值:\n",
       "        - 打印结果\n",
       "    \n"
      ]
     },
     "metadata": {},
     "output_type": "display_data"
    }
   ],
   "source": [
    "# 9.3 __annotations__ 查看函数类型注释\n",
    "print(f.__doc__)"
   ]
  },
  {
   "cell_type": "code",
   "execution_count": 40,
   "id": "0404ac78",
   "metadata": {
    "ExecuteTime": {
     "end_time": "2023-02-01T15:04:49.949129Z",
     "start_time": "2023-02-01T15:04:49.944178Z"
    }
   },
   "outputs": [],
   "source": [
    "# 10 高阶函数\n",
    "import functools"
   ]
  },
  {
   "cell_type": "code",
   "execution_count": 41,
   "id": "8b86f3ea",
   "metadata": {
    "ExecuteTime": {
     "end_time": "2023-02-01T15:04:49.959063Z",
     "start_time": "2023-02-01T15:04:49.952197Z"
    }
   },
   "outputs": [
    {
     "data": {
      "text/plain": [
       "10"
      ]
     },
     "execution_count": 41,
     "metadata": {},
     "output_type": "execute_result"
    }
   ],
   "source": [
    "# 10.1 reduce\n",
    "def add(x, y):\n",
    "    return x + y\n",
    "\n",
    "functools.reduce(add, [1, 2, 3, 4]) # 1 + 2 + 3 + 4"
   ]
  },
  {
   "cell_type": "code",
   "execution_count": 42,
   "id": "c53eba74",
   "metadata": {
    "ExecuteTime": {
     "end_time": "2023-02-01T15:04:49.970145Z",
     "start_time": "2023-02-01T15:04:49.962302Z"
    }
   },
   "outputs": [
    {
     "data": {
      "text/plain": [
       "10"
      ]
     },
     "execution_count": 42,
     "metadata": {},
     "output_type": "execute_result"
    }
   ],
   "source": [
    "functools.reduce(lambda x, y : x + y, [1, 2, 3, 4]) # 1 + 2 + 3 + 4"
   ]
  },
  {
   "cell_type": "code",
   "execution_count": 43,
   "id": "b8106b40",
   "metadata": {
    "ExecuteTime": {
     "end_time": "2023-02-01T15:04:49.979236Z",
     "start_time": "2023-02-01T15:04:49.973189Z"
    }
   },
   "outputs": [
    {
     "data": {
      "text/plain": [
       "100"
      ]
     },
     "execution_count": 43,
     "metadata": {},
     "output_type": "execute_result"
    }
   ],
   "source": [
    "# 10.2 偏函数\n",
    "square = functools.partial(pow, exp = 2)\n",
    "square(10)"
   ]
  },
  {
   "cell_type": "markdown",
   "id": "4575566a",
   "metadata": {},
   "source": [
    "## 面向对象"
   ]
  },
  {
   "cell_type": "markdown",
   "id": "a8b94524-7b80-4ccb-a4a8-db855fc96cd4",
   "metadata": {},
   "source": [
    "### 对象与类"
   ]
  },
  {
   "cell_type": "code",
   "execution_count": 44,
   "id": "8c859ecb",
   "metadata": {
    "ExecuteTime": {
     "end_time": "2023-02-01T15:04:49.988086Z",
     "start_time": "2023-02-01T15:04:49.982659Z"
    }
   },
   "outputs": [],
   "source": [
    "# 1.1 定义类\n",
    "class clsTest:\n",
    "    clsNum = 0\n",
    "    \n",
    "    def clsFunc(self):\n",
    "        print(\"执行方法\")"
   ]
  },
  {
   "cell_type": "code",
   "execution_count": 45,
   "id": "3af0cf51",
   "metadata": {
    "ExecuteTime": {
     "end_time": "2023-02-01T15:04:50.001089Z",
     "start_time": "2023-02-01T15:04:49.991287Z"
    }
   },
   "outputs": [
    {
     "data": {
      "text/html": [
       "<pre style=\"white-space:pre;overflow-x:auto;line-height:normal;font-family:Menlo,'DejaVu Sans Mono',consolas,'Courier New',monospace\">执行方法\n",
       "</pre>\n"
      ],
      "text/plain": [
       "执行方法\n"
      ]
     },
     "metadata": {},
     "output_type": "display_data"
    }
   ],
   "source": [
    "# 1.2 实例化对象\n",
    "t = clsTest()\n",
    "\n",
    "t.clsFunc()"
   ]
  },
  {
   "cell_type": "code",
   "execution_count": 46,
   "id": "7ffd1bc4",
   "metadata": {
    "ExecuteTime": {
     "end_time": "2023-02-01T15:04:50.011664Z",
     "start_time": "2023-02-01T15:04:50.003901Z"
    }
   },
   "outputs": [
    {
     "data": {
      "text/html": [
       "<pre style=\"white-space:pre;overflow-x:auto;line-height:normal;font-family:Menlo,'DejaVu Sans Mono',consolas,'Courier New',monospace\">新增属性 <span style=\"color: #008080; text-decoration-color: #008080; font-weight: bold\">12</span>\n",
       "</pre>\n"
      ],
      "text/plain": [
       "新增属性 \u001b[1;36m12\u001b[0m\n"
      ]
     },
     "metadata": {},
     "output_type": "display_data"
    }
   ],
   "source": [
    "# 3 添加属性\n",
    "t.clsMem = 12\n",
    "print(\"新增属性\", t.clsMem)"
   ]
  },
  {
   "cell_type": "code",
   "execution_count": 47,
   "id": "4f5affef",
   "metadata": {
    "ExecuteTime": {
     "end_time": "2023-02-01T15:04:50.022107Z",
     "start_time": "2023-02-01T15:04:50.015499Z"
    }
   },
   "outputs": [
    {
     "data": {
      "text/plain": [
       "__main__.clsTest"
      ]
     },
     "execution_count": 47,
     "metadata": {},
     "output_type": "execute_result"
    }
   ],
   "source": [
    "type(t)"
   ]
  },
  {
   "cell_type": "code",
   "execution_count": 48,
   "id": "d3d04130",
   "metadata": {
    "ExecuteTime": {
     "end_time": "2023-02-01T15:04:50.038089Z",
     "start_time": "2023-02-01T15:04:50.024371Z"
    }
   },
   "outputs": [
    {
     "data": {
      "text/html": [
       "<pre style=\"white-space:pre;overflow-x:auto;line-height:normal;font-family:Menlo,'DejaVu Sans Mono',consolas,'Courier New',monospace\"><span style=\"font-weight: bold\">&lt;</span><span style=\"color: #ff00ff; text-decoration-color: #ff00ff; font-weight: bold\">__main__.C</span><span style=\"color: #000000; text-decoration-color: #000000\"> object at </span><span style=\"color: #008080; text-decoration-color: #008080; font-weight: bold\">0x7f6da72ee110</span><span style=\"font-weight: bold\">&gt;</span> <span style=\"color: #008080; text-decoration-color: #008080; font-weight: bold\">140108933030160</span>\n",
       "</pre>\n"
      ],
      "text/plain": [
       "\u001b[1m<\u001b[0m\u001b[1;95m__main__.C\u001b[0m\u001b[39m object at \u001b[0m\u001b[1;36m0x7f6da72ee110\u001b[0m\u001b[1m>\u001b[0m \u001b[1;36m140108933030160\u001b[0m\n"
      ]
     },
     "metadata": {},
     "output_type": "display_data"
    },
    {
     "data": {
      "text/html": [
       "<pre style=\"white-space:pre;overflow-x:auto;line-height:normal;font-family:Menlo,'DejaVu Sans Mono',consolas,'Courier New',monospace\"><span style=\"font-weight: bold\">&lt;</span><span style=\"color: #ff00ff; text-decoration-color: #ff00ff; font-weight: bold\">__main__.C</span><span style=\"color: #000000; text-decoration-color: #000000\"> object at </span><span style=\"color: #008080; text-decoration-color: #008080; font-weight: bold\">0x7f6da72edf50</span><span style=\"font-weight: bold\">&gt;</span> <span style=\"color: #008080; text-decoration-color: #008080; font-weight: bold\">140108933029712</span>\n",
       "</pre>\n"
      ],
      "text/plain": [
       "\u001b[1m<\u001b[0m\u001b[1;95m__main__.C\u001b[0m\u001b[39m object at \u001b[0m\u001b[1;36m0x7f6da72edf50\u001b[0m\u001b[1m>\u001b[0m \u001b[1;36m140108933029712\u001b[0m\n"
      ]
     },
     "metadata": {},
     "output_type": "display_data"
    }
   ],
   "source": [
    "# 4 self参数\n",
    "class C:\n",
    "    def get_self(self):\n",
    "        return self\n",
    "    \n",
    "t1 = C()\n",
    "t2 = C()\n",
    "\n",
    "print(t1.get_self(), id(t1))\n",
    "print(t2.get_self(), id(t2))"
   ]
  },
  {
   "cell_type": "markdown",
   "id": "80688a0c-9896-473c-98bb-94ed1702c9f9",
   "metadata": {},
   "source": [
    "### 继承"
   ]
  },
  {
   "cell_type": "code",
   "execution_count": 49,
   "id": "96416c2c",
   "metadata": {
    "ExecuteTime": {
     "end_time": "2023-02-01T15:04:50.054126Z",
     "start_time": "2023-02-01T15:04:50.042151Z"
    }
   },
   "outputs": [
    {
     "data": {
      "text/html": [
       "<pre style=\"white-space:pre;overflow-x:auto;line-height:normal;font-family:Menlo,'DejaVu Sans Mono',consolas,'Courier New',monospace\">hello\n",
       "</pre>\n"
      ],
      "text/plain": [
       "hello\n"
      ]
     },
     "metadata": {},
     "output_type": "display_data"
    }
   ],
   "source": [
    "# 5 继承\n",
    "# 继承语法\n",
    "# class 派生类(基类)\n",
    "\n",
    "# 定义一个基类\n",
    "class ClassBase:\n",
    "    def hello(self):\n",
    "        print(\"hello\")\n",
    "        \n",
    "# 派生类继承\n",
    "class ClassDerived(ClassBase):\n",
    "    pass\n",
    "\n",
    "c = ClassDerived()\n",
    "c.hello()"
   ]
  },
  {
   "cell_type": "code",
   "execution_count": 50,
   "id": "b3529d5b",
   "metadata": {
    "ExecuteTime": {
     "end_time": "2023-02-01T15:04:50.073581Z",
     "start_time": "2023-02-01T15:04:50.058528Z"
    }
   },
   "outputs": [
    {
     "data": {
      "text/html": [
       "<pre style=\"white-space:pre;overflow-x:auto;line-height:normal;font-family:Menlo,'DejaVu Sans Mono',consolas,'Courier New',monospace\"><span style=\"color: #008080; text-decoration-color: #008080; font-weight: bold\">10</span> <span style=\"color: #008080; text-decoration-color: #008080; font-weight: bold\">11</span>\n",
       "</pre>\n"
      ],
      "text/plain": [
       "\u001b[1;36m10\u001b[0m \u001b[1;36m11\u001b[0m\n"
      ]
     },
     "metadata": {},
     "output_type": "display_data"
    },
    {
     "data": {
      "text/html": [
       "<pre style=\"white-space:pre;overflow-x:auto;line-height:normal;font-family:Menlo,'DejaVu Sans Mono',consolas,'Courier New',monospace\">我是A\n",
       "</pre>\n"
      ],
      "text/plain": [
       "我是A\n"
      ]
     },
     "metadata": {},
     "output_type": "display_data"
    },
    {
     "data": {
      "text/html": [
       "<pre style=\"white-space:pre;overflow-x:auto;line-height:normal;font-family:Menlo,'DejaVu Sans Mono',consolas,'Courier New',monospace\">我是B\n",
       "</pre>\n"
      ],
      "text/plain": [
       "我是B\n"
      ]
     },
     "metadata": {},
     "output_type": "display_data"
    }
   ],
   "source": [
    "# 6 继承的顺序\n",
    "# 继承是从左向右执行的，\n",
    "# 先使用左边的，找不到在找右边的\n",
    "\n",
    "class A:\n",
    "    x = 10\n",
    "    def hello(self):\n",
    "        print(\"我是A\")\n",
    "\n",
    "class B:\n",
    "    x = 11\n",
    "    def hello(self):\n",
    "        print(\"我是B\")\n",
    "\n",
    "class C(A, B):\n",
    "    pass\n",
    "\n",
    "class D(B, A):\n",
    "    pass\n",
    "\n",
    "c = C()\n",
    "d = D()\n",
    "\n",
    "print(c.x, d.x)\n",
    "\n",
    "c.hello()\n",
    "d.hello()"
   ]
  },
  {
   "cell_type": "markdown",
   "id": "56da5bfa-4d2f-40ad-83f9-8d01a9a17f80",
   "metadata": {},
   "source": [
    "### 组合语法"
   ]
  },
  {
   "cell_type": "code",
   "execution_count": 51,
   "id": "e051fb37",
   "metadata": {
    "ExecuteTime": {
     "end_time": "2023-02-01T15:04:50.095818Z",
     "start_time": "2023-02-01T15:04:50.076187Z"
    }
   },
   "outputs": [
    {
     "data": {
      "text/html": [
       "<pre style=\"white-space:pre;overflow-x:auto;line-height:normal;font-family:Menlo,'DejaVu Sans Mono',consolas,'Courier New',monospace\">我是A17\n",
       "</pre>\n"
      ],
      "text/plain": [
       "我是A17\n"
      ]
     },
     "metadata": {},
     "output_type": "display_data"
    },
    {
     "data": {
      "text/html": [
       "<pre style=\"white-space:pre;overflow-x:auto;line-height:normal;font-family:Menlo,'DejaVu Sans Mono',consolas,'Courier New',monospace\">我是B17\n",
       "</pre>\n"
      ],
      "text/plain": [
       "我是B17\n"
      ]
     },
     "metadata": {},
     "output_type": "display_data"
    }
   ],
   "source": [
    "# 7 组合语法\n",
    "\n",
    "class A17:\n",
    "    x = 10\n",
    "    def hello(self):\n",
    "        print(\"我是A17\")\n",
    "\n",
    "class B17:\n",
    "    x = 11\n",
    "    def hello(self):\n",
    "        print(\"我是B17\")\n",
    "\n",
    "class C17:\n",
    "    a = A17()\n",
    "    b = B17()\n",
    "    def hello(self):\n",
    "        self.a.hello()\n",
    "        self.b.hello()\n",
    "        return\n",
    "    pass\n",
    "\n",
    "c17 = C17()\n",
    "c17.hello()"
   ]
  },
  {
   "cell_type": "markdown",
   "id": "d2886d31-72d3-4dda-a92a-c2f1d7a62347",
   "metadata": {},
   "source": [
    "### 绑定语法"
   ]
  },
  {
   "cell_type": "code",
   "execution_count": 52,
   "id": "e2ef831f",
   "metadata": {
    "ExecuteTime": {
     "end_time": "2023-02-01T15:04:50.115182Z",
     "start_time": "2023-02-01T15:04:50.100276Z"
    }
   },
   "outputs": [
    {
     "data": {
      "text/html": [
       "<pre style=\"white-space:pre;overflow-x:auto;line-height:normal;font-family:Menlo,'DejaVu Sans Mono',consolas,'Courier New',monospace\"><span style=\"color: #008080; text-decoration-color: #008080; font-weight: bold\">12</span>\n",
       "</pre>\n"
      ],
      "text/plain": [
       "\u001b[1;36m12\u001b[0m\n"
      ]
     },
     "metadata": {},
     "output_type": "display_data"
    },
    {
     "data": {
      "text/html": [
       "<pre style=\"white-space:pre;overflow-x:auto;line-height:normal;font-family:Menlo,'DejaVu Sans Mono',consolas,'Courier New',monospace\"><span style=\"color: #008080; text-decoration-color: #008080; font-weight: bold\">10</span>\n",
       "</pre>\n"
      ],
      "text/plain": [
       "\u001b[1;36m10\u001b[0m\n"
      ]
     },
     "metadata": {},
     "output_type": "display_data"
    }
   ],
   "source": [
    "# 8.1 绑定语法\n",
    "a = 12\n",
    "class A8:\n",
    "    a = 10\n",
    "    def hi(self):\n",
    "        print(a)\n",
    "        print(self.a)\n",
    "\n",
    "a8 = A8()\n",
    "a8.hi()\n",
    "\n",
    "# self將类的变量绑定到类上\n",
    "# 如果不加self,那么则访问的全局变量或者构造局部变量"
   ]
  },
  {
   "cell_type": "code",
   "execution_count": 53,
   "id": "c29883bc",
   "metadata": {
    "ExecuteTime": {
     "end_time": "2023-02-01T15:04:50.135213Z",
     "start_time": "2023-02-01T15:04:50.118605Z"
    }
   },
   "outputs": [
    {
     "data": {
      "text/html": [
       "<pre style=\"white-space:pre;overflow-x:auto;line-height:normal;font-family:Menlo,'DejaVu Sans Mono',consolas,'Courier New',monospace\"><span style=\"font-weight: bold\">{</span><span style=\"color: #008000; text-decoration-color: #008000\">'b'</span>: <span style=\"color: #008080; text-decoration-color: #008080; font-weight: bold\">12</span><span style=\"font-weight: bold\">}</span>\n",
       "</pre>\n"
      ],
      "text/plain": [
       "\u001b[1m{\u001b[0m\u001b[32m'b'\u001b[0m: \u001b[1;36m12\u001b[0m\u001b[1m}\u001b[0m\n"
      ]
     },
     "metadata": {},
     "output_type": "display_data"
    },
    {
     "data": {
      "text/html": [
       "<pre style=\"white-space:pre;overflow-x:auto;line-height:normal;font-family:Menlo,'DejaVu Sans Mono',consolas,'Courier New',monospace\"><span style=\"font-weight: bold\">{</span><span style=\"color: #008000; text-decoration-color: #008000\">'c'</span>: <span style=\"color: #008080; text-decoration-color: #008080; font-weight: bold\">12</span><span style=\"font-weight: bold\">}</span>\n",
       "</pre>\n"
      ],
      "text/plain": [
       "\u001b[1m{\u001b[0m\u001b[32m'c'\u001b[0m: \u001b[1;36m12\u001b[0m\u001b[1m}\u001b[0m\n"
      ]
     },
     "metadata": {},
     "output_type": "display_data"
    },
    {
     "data": {
      "text/html": [
       "<pre style=\"white-space:pre;overflow-x:auto;line-height:normal;font-family:Menlo,'DejaVu Sans Mono',consolas,'Courier New',monospace\"><span style=\"font-weight: bold\">{</span><span style=\"color: #008000; text-decoration-color: #008000\">'a'</span>: <span style=\"color: #008080; text-decoration-color: #008080; font-weight: bold\">12</span><span style=\"font-weight: bold\">}</span>\n",
       "</pre>\n"
      ],
      "text/plain": [
       "\u001b[1m{\u001b[0m\u001b[32m'a'\u001b[0m: \u001b[1;36m12\u001b[0m\u001b[1m}\u001b[0m\n"
      ]
     },
     "metadata": {},
     "output_type": "display_data"
    }
   ],
   "source": [
    "# 8.2 绑定语法\n",
    "# 这个操作真邪门\n",
    "\n",
    "class A8:\n",
    "    a = 12\n",
    "    def hello(self):\n",
    "        self.a = self.a\n",
    "\n",
    "    def hi(self):\n",
    "        print(self.__dict__)\n",
    "\n",
    "a8 = A8()        \n",
    "a81 = A8()\n",
    "a82 = A8()\n",
    "\n",
    "# 如果不执行绑定\n",
    "a81.b = 12\n",
    "a82.c = 12\n",
    "\n",
    "a81.hi()\n",
    "a82.hi()\n",
    "\n",
    "# 执行一次绑定\n",
    "a8.hello()\n",
    "a8.hi()"
   ]
  },
  {
   "cell_type": "markdown",
   "id": "075472d0-1fbb-4ba7-ad74-9f6b8a5c4401",
   "metadata": {},
   "source": [
    "### 构造函数"
   ]
  },
  {
   "cell_type": "code",
   "execution_count": 54,
   "id": "59eeca7a",
   "metadata": {
    "ExecuteTime": {
     "end_time": "2023-02-01T15:04:50.173682Z",
     "start_time": "2023-02-01T15:04:50.151007Z"
    }
   },
   "outputs": [
    {
     "data": {
      "text/html": [
       "<pre style=\"white-space:pre;overflow-x:auto;line-height:normal;font-family:Menlo,'DejaVu Sans Mono',consolas,'Courier New',monospace\"><span style=\"font-weight: bold\">{</span><span style=\"color: #008000; text-decoration-color: #008000\">'x'</span>: <span style=\"color: #008080; text-decoration-color: #008080; font-weight: bold\">1</span>, <span style=\"color: #008000; text-decoration-color: #008000\">'y'</span>: <span style=\"color: #008080; text-decoration-color: #008080; font-weight: bold\">2</span><span style=\"font-weight: bold\">}</span>\n",
       "</pre>\n"
      ],
      "text/plain": [
       "\u001b[1m{\u001b[0m\u001b[32m'x'\u001b[0m: \u001b[1;36m1\u001b[0m, \u001b[32m'y'\u001b[0m: \u001b[1;36m2\u001b[0m\u001b[1m}\u001b[0m\n"
      ]
     },
     "metadata": {},
     "output_type": "display_data"
    }
   ],
   "source": [
    "class A9:\n",
    "    def __init__(self, x, y):\n",
    "        self.x = x\n",
    "        self.y = y\n",
    "    def hello(self):\n",
    "        print(self.__dict__)\n",
    "\n",
    "# 在初始化的直接绑定,就不会出现上绑定异常的问题了\n",
    "a9 = A9(1, 2)\n",
    "a9.hello()"
   ]
  },
  {
   "cell_type": "markdown",
   "id": "eb1379af-429e-4495-b1cd-2e04f57e3c43",
   "metadata": {},
   "source": [
    "### 重写"
   ]
  },
  {
   "cell_type": "code",
   "execution_count": 55,
   "id": "303cfd56",
   "metadata": {
    "ExecuteTime": {
     "end_time": "2023-02-01T15:04:50.186061Z",
     "start_time": "2023-02-01T15:04:50.177156Z"
    }
   },
   "outputs": [
    {
     "data": {
      "text/html": [
       "<pre style=\"white-space:pre;overflow-x:auto;line-height:normal;font-family:Menlo,'DejaVu Sans Mono',consolas,'Courier New',monospace\"><span style=\"font-weight: bold\">{</span><span style=\"color: #008000; text-decoration-color: #008000\">'x'</span>: <span style=\"color: #008080; text-decoration-color: #008080; font-weight: bold\">1</span><span style=\"font-weight: bold\">}</span>\n",
       "</pre>\n"
      ],
      "text/plain": [
       "\u001b[1m{\u001b[0m\u001b[32m'x'\u001b[0m: \u001b[1;36m1\u001b[0m\u001b[1m}\u001b[0m\n"
      ]
     },
     "metadata": {},
     "output_type": "display_data"
    }
   ],
   "source": [
    "# 10.1 重写\n",
    "class A10:\n",
    "    def __init__(self, x, y):\n",
    "        self.x = x\n",
    "        self.y = y\n",
    "    def hello(self):\n",
    "        print(self.__dict__)\n",
    "\n",
    "class B10(A10):\n",
    "    def __init__(self, x):\n",
    "        self.x = x\n",
    "\n",
    "b10 = B10(1)\n",
    "b10.hello()"
   ]
  },
  {
   "cell_type": "code",
   "execution_count": 56,
   "id": "d5d2e3fb",
   "metadata": {
    "ExecuteTime": {
     "end_time": "2023-02-01T15:04:50.204633Z",
     "start_time": "2023-02-01T15:04:50.196462Z"
    }
   },
   "outputs": [
    {
     "data": {
      "text/html": [
       "<pre style=\"white-space:pre;overflow-x:auto;line-height:normal;font-family:Menlo,'DejaVu Sans Mono',consolas,'Courier New',monospace\"><span style=\"font-weight: bold\">{</span><span style=\"color: #008000; text-decoration-color: #008000\">'x'</span>: <span style=\"color: #008080; text-decoration-color: #008080; font-weight: bold\">1</span>, <span style=\"color: #008000; text-decoration-color: #008000\">'y'</span>: <span style=\"color: #008080; text-decoration-color: #008080; font-weight: bold\">2</span>, <span style=\"color: #008000; text-decoration-color: #008000\">'z'</span>: <span style=\"color: #008080; text-decoration-color: #008080; font-weight: bold\">3</span><span style=\"font-weight: bold\">}</span>\n",
       "</pre>\n"
      ],
      "text/plain": [
       "\u001b[1m{\u001b[0m\u001b[32m'x'\u001b[0m: \u001b[1;36m1\u001b[0m, \u001b[32m'y'\u001b[0m: \u001b[1;36m2\u001b[0m, \u001b[32m'z'\u001b[0m: \u001b[1;36m3\u001b[0m\u001b[1m}\u001b[0m\n"
      ]
     },
     "metadata": {},
     "output_type": "display_data"
    }
   ],
   "source": [
    "# 10.2 重写\n",
    "class A10:\n",
    "    def __init__(self, x, y):\n",
    "        self.x = x\n",
    "        self.y = y\n",
    "    def hello(self):\n",
    "        print(self.__dict__)\n",
    "\n",
    "class B10(A10):\n",
    "    def __init__(self, x, y, z):\n",
    "        A10.__init__(self, x, y)\n",
    "        self.z = z\n",
    "\n",
    "b10 = B10(1, 2, 3)\n",
    "b10.hello()"
   ]
  },
  {
   "cell_type": "markdown",
   "id": "fad23c7b-b54c-48f8-aaeb-63db03a69abd",
   "metadata": {},
   "source": [
    "### 钻石继承"
   ]
  },
  {
   "cell_type": "code",
   "execution_count": 57,
   "id": "4323338e",
   "metadata": {
    "ExecuteTime": {
     "end_time": "2023-02-01T15:04:50.224672Z",
     "start_time": "2023-02-01T15:04:50.207660Z"
    }
   },
   "outputs": [
    {
     "data": {
      "text/html": [
       "<pre style=\"white-space:pre;overflow-x:auto;line-height:normal;font-family:Menlo,'DejaVu Sans Mono',consolas,'Courier New',monospace\"><span style=\"font-weight: bold\">{</span><span style=\"color: #008000; text-decoration-color: #008000\">'x'</span>: <span style=\"color: #008080; text-decoration-color: #008080; font-weight: bold\">1</span>, <span style=\"color: #008000; text-decoration-color: #008000\">'y'</span>: <span style=\"color: #008080; text-decoration-color: #008080; font-weight: bold\">2</span>, <span style=\"color: #008000; text-decoration-color: #008000\">'z'</span>: <span style=\"color: #008080; text-decoration-color: #008080; font-weight: bold\">3</span><span style=\"font-weight: bold\">}</span>\n",
       "</pre>\n"
      ],
      "text/plain": [
       "\u001b[1m{\u001b[0m\u001b[32m'x'\u001b[0m: \u001b[1;36m1\u001b[0m, \u001b[32m'y'\u001b[0m: \u001b[1;36m2\u001b[0m, \u001b[32m'z'\u001b[0m: \u001b[1;36m3\u001b[0m\u001b[1m}\u001b[0m\n"
      ]
     },
     "metadata": {},
     "output_type": "display_data"
    },
    {
     "data": {
      "text/plain": [
       "[__main__.B11, __main__.A11, object]"
      ]
     },
     "execution_count": 57,
     "metadata": {},
     "output_type": "execute_result"
    }
   ],
   "source": [
    "# super 查找父类的方法,MRO原则\n",
    "class A11:\n",
    "    def __init__(self, x, y):\n",
    "        self.x = x\n",
    "        self.y = y\n",
    "    def hello(self):\n",
    "        print(self.__dict__)\n",
    "\n",
    "class B11(A11):\n",
    "    def __init__(self, x, y, z):\n",
    "        super().__init__(x, y)\n",
    "        self.z = z\n",
    "\n",
    "b11 = B11(1, 2, 3)\n",
    "b11.hello()\n",
    "\n",
    "B11.mro()"
   ]
  },
  {
   "cell_type": "markdown",
   "id": "0197f6e8-f4f4-49cc-bdab-54bbc2be88c8",
   "metadata": {},
   "source": [
    "### mixin"
   ]
  },
  {
   "cell_type": "code",
   "execution_count": 58,
   "id": "10d0910f",
   "metadata": {
    "ExecuteTime": {
     "end_time": "2023-02-01T15:04:50.234772Z",
     "start_time": "2023-02-01T15:04:50.229630Z"
    }
   },
   "outputs": [],
   "source": [
    "# 暂时跳过,后面再行研究\n"
   ]
  },
  {
   "cell_type": "markdown",
   "id": "893f1a8d-21d9-4061-af7f-acb6db64ce8b",
   "metadata": {},
   "source": [
    "###多态"
   ]
  },
  {
   "cell_type": "code",
   "execution_count": 59,
   "id": "896a7c0c",
   "metadata": {
    "ExecuteTime": {
     "end_time": "2023-02-01T15:04:50.251644Z",
     "start_time": "2023-02-01T15:04:50.239763Z"
    }
   },
   "outputs": [
    {
     "data": {
      "text/html": [
       "<pre style=\"white-space:pre;overflow-x:auto;line-height:normal;font-family:Menlo,'DejaVu Sans Mono',consolas,'Courier New',monospace\">图形的名字正方形,面积4\n",
       "</pre>\n"
      ],
      "text/plain": [
       "图形的名字正方形,面积4\n"
      ]
     },
     "metadata": {},
     "output_type": "display_data"
    },
    {
     "data": {
      "text/html": [
       "<pre style=\"white-space:pre;overflow-x:auto;line-height:normal;font-family:Menlo,'DejaVu Sans Mono',consolas,'Courier New',monospace\">图形的名字圆形,面积12.<span style=\"color: #008080; text-decoration-color: #008080; font-weight: bold\">56</span>\n",
       "</pre>\n"
      ],
      "text/plain": [
       "图形的名字圆形,面积12.\u001b[1;36m56\u001b[0m\n"
      ]
     },
     "metadata": {},
     "output_type": "display_data"
    }
   ],
   "source": [
    "class Shape:\n",
    "    def __init__(self, name):\n",
    "        self.name = name\n",
    "        \n",
    "    def area(self):\n",
    "        pass\n",
    "    \n",
    "class Square(Shape):\n",
    "    def __init__(self, length):\n",
    "        super().__init__(\"正方形\")\n",
    "        self.length = length\n",
    "        \n",
    "    def area(self):\n",
    "        return self.length * self.length\n",
    "\n",
    "class Circle(Shape):\n",
    "    def __init__(self, radius):\n",
    "        super().__init__(\"圆形\")\n",
    "        self.radius = radius\n",
    "        \n",
    "    def area(self):\n",
    "        return self.radius ** 2 * 3.14\n",
    "\n",
    "# 定义接口\n",
    "def hello(x):\n",
    "    print(f\"图形的名字{x.name},面积{x.area()}\")\n",
    "\n",
    "s = Square(2)\n",
    "c = Circle(2)\n",
    "\n",
    "hello(s)\n",
    "hello(c)"
   ]
  },
  {
   "cell_type": "code",
   "execution_count": 60,
   "id": "e494807f",
   "metadata": {
    "ExecuteTime": {
     "end_time": "2023-02-01T15:04:50.265613Z",
     "start_time": "2023-02-01T15:04:50.254501Z"
    }
   },
   "outputs": [
    {
     "data": {
      "text/html": [
       "<pre style=\"white-space:pre;overflow-x:auto;line-height:normal;font-family:Menlo,'DejaVu Sans Mono',consolas,'Courier New',monospace\"><span style=\"font-weight: bold\">{</span><span style=\"color: #008000; text-decoration-color: #008000\">'__x__'</span>: <span style=\"color: #008080; text-decoration-color: #008080; font-weight: bold\">1</span>, <span style=\"color: #008000; text-decoration-color: #008000\">'__y__'</span>: <span style=\"color: #008080; text-decoration-color: #008080; font-weight: bold\">2</span><span style=\"font-weight: bold\">}</span>\n",
       "</pre>\n"
      ],
      "text/plain": [
       "\u001b[1m{\u001b[0m\u001b[32m'__x__'\u001b[0m: \u001b[1;36m1\u001b[0m, \u001b[32m'__y__'\u001b[0m: \u001b[1;36m2\u001b[0m\u001b[1m}\u001b[0m\n"
      ]
     },
     "metadata": {},
     "output_type": "display_data"
    }
   ],
   "source": [
    "# 14 私有变量\n",
    "class A14:\n",
    "    def __init__(self, x, y):\n",
    "        self.__x__ = x\n",
    "        self.__y__ = y\n",
    "        \n",
    "    def hello(self):\n",
    "        print(f\"__x__{__x__}\")\n",
    "        print(f\"__x__{__x__}\")\n",
    "\n",
    "a14 = A14(1, 2)\n",
    "print(a14.__dict__)"
   ]
  },
  {
   "cell_type": "code",
   "execution_count": 61,
   "id": "e43a0001",
   "metadata": {
    "ExecuteTime": {
     "end_time": "2023-02-01T15:04:50.277602Z",
     "start_time": "2023-02-01T15:04:50.269681Z"
    }
   },
   "outputs": [
    {
     "data": {
      "text/html": [
       "<pre style=\"white-space:pre;overflow-x:auto;line-height:normal;font-family:Menlo,'DejaVu Sans Mono',consolas,'Courier New',monospace\"><span style=\"color: #008080; text-decoration-color: #008080; font-weight: bold\">1</span> <span style=\"color: #008080; text-decoration-color: #008080; font-weight: bold\">2</span>\n",
       "</pre>\n"
      ],
      "text/plain": [
       "\u001b[1;36m1\u001b[0m \u001b[1;36m2\u001b[0m\n"
      ]
     },
     "metadata": {},
     "output_type": "display_data"
    }
   ],
   "source": [
    "# 15 __slot__\n",
    "\n",
    "# 使用此种方法,不允许动态添加的\n",
    "\n",
    "class A15:\n",
    "    __slot__ = ['x', 'y']\n",
    "    def __init__(self, x, y):\n",
    "        self.x = x\n",
    "        self.y = y\n",
    "\n",
    "a15 = A15(1, 2)\n",
    "print(a15.x, a15.y)"
   ]
  },
  {
   "cell_type": "markdown",
   "id": "aa9ce5fb-d8bd-4417-a7dc-022ed0061317",
   "metadata": {},
   "source": [
    "### 魔法方法"
   ]
  },
  {
   "cell_type": "code",
   "execution_count": 62,
   "id": "dac92734",
   "metadata": {
    "ExecuteTime": {
     "end_time": "2023-02-01T15:04:50.294330Z",
     "start_time": "2023-02-01T15:04:50.281574Z"
    }
   },
   "outputs": [
    {
     "data": {
      "text/html": [
       "<pre style=\"white-space:pre;overflow-x:auto;line-height:normal;font-family:Menlo,'DejaVu Sans Mono',consolas,'Courier New',monospace\">初始化\n",
       "</pre>\n"
      ],
      "text/plain": [
       "初始化\n"
      ]
     },
     "metadata": {},
     "output_type": "display_data"
    },
    {
     "data": {
      "text/html": [
       "<pre style=\"white-space:pre;overflow-x:auto;line-height:normal;font-family:Menlo,'DejaVu Sans Mono',consolas,'Courier New',monospace\">销毁\n",
       "</pre>\n"
      ],
      "text/plain": [
       "销毁\n"
      ]
     },
     "metadata": {},
     "output_type": "display_data"
    }
   ],
   "source": [
    "# + __init__\n",
    "# + __new__\n",
    "# + __del__\n",
    "\n",
    "class A16:\n",
    "    def __init__(self):\n",
    "        print(\"初始化\")\n",
    "    def __del__(self):\n",
    "        print(\"销毁\")\n",
    "\n",
    "a16 = A16()\n",
    "del a16"
   ]
  },
  {
   "cell_type": "markdown",
   "id": "0cccaaa2",
   "metadata": {},
   "source": [
    "魔法方法总结\n",
    "\n",
    "| 魔术方法               | 调用方式                   | 解释        |\n",
    "| :-------------------- | :-------------------------------- | :------------------------------ |\n",
    "| __new__(cls [,...])            | instance = MyClass(arg1, arg2)    | __new__ 在创建实例的时候被调用  |\n",
    "| __init__(self [,...])          | instance = MyClass(arg1, arg2)    | __init__ 在创建实例的时候被调用 |\n",
    "| __cmp__(self, other)           | self == other, self > other, 等。 | 在比较的时候调用                |\n",
    "| __pos__(self)                   | +self                             | 一元加运算符                    |\n",
    "| __neg__(self)                   | -self                             | 一元减运算符                    |\n",
    "| __invert__(self)                | ~self                             | 取反运算符                      |\n",
    "| __index__(self)                 | x[self]                           | 对象被作为索引使用的时候        |\n",
    "| __nonzero__(self)               | bool(self)                        | 对象的布尔值                    |\n",
    "| __getattr__(self, name)         | self.name # name 不存在           | 访问一个不存在的属性时          |\n",
    "| __setattr__(self, name, val)    | self.name = val                   | 对一个属性赋值时                |\n",
    "| __delattr__(self, name)         | del self.name                     | 删除一个属性时                  |\n",
    "| __getattribute(self, name)      | self.name                         | 访问任何属性时                  |\n",
    "| __getitem__(self, key)          | self[key]                         | 使用索引访问元素时              |\n",
    "| __setitem__(self, key, val)     | self[key] = val                   | 对某个索引值赋值时              |\n",
    "| __delitem__(self, key)          | del self[key]                     | 删除某个索引值时                |\n",
    "| __iter__(self)                  | for x in self                     | 迭代时                          |\n",
    "| __contains__(self, value)       | value in self, value not in self  | 使用 in 操作测试关系时          |\n",
    "| __concat__(self, value)         | self + other                      | 连接两个对象时                  |\n",
    "| __call__(self [,...])           | self(args)                        | “调用”对象时                    |\n",
    "| __enter__(self)                 | with self as x:                   | with 语句环境管理               |\n",
    "| __exit__(self, exc, val, trace) | with self as x:                   | with 语句环境管理               |\n",
    "| __getstate__(self)              | pickle.dump(pkl_file, self)       | 序列化                          |\n",
    "| __setstate__(self)              | data = pickle.load(pkl_file)      | 序列化                          |\n"
   ]
  },
  {
   "cell_type": "code",
   "execution_count": 63,
   "id": "23b4369f",
   "metadata": {
    "ExecuteTime": {
     "end_time": "2023-02-01T15:04:50.312245Z",
     "start_time": "2023-02-01T15:04:50.297693Z"
    }
   },
   "outputs": [
    {
     "data": {
      "text/html": [
       "<pre style=\"white-space:pre;overflow-x:auto;line-height:normal;font-family:Menlo,'DejaVu Sans Mono',consolas,'Courier New',monospace\"><span style=\"color: #008080; text-decoration-color: #008080; font-weight: bold\">10</span>\n",
       "</pre>\n"
      ],
      "text/plain": [
       "\u001b[1;36m10\u001b[0m\n"
      ]
     },
     "metadata": {},
     "output_type": "display_data"
    },
    {
     "data": {
      "text/html": [
       "<pre style=\"white-space:pre;overflow-x:auto;line-height:normal;font-family:Menlo,'DejaVu Sans Mono',consolas,'Courier New',monospace\"><span style=\"color: #008080; text-decoration-color: #008080; font-weight: bold\">9</span>\n",
       "</pre>\n"
      ],
      "text/plain": [
       "\u001b[1;36m9\u001b[0m\n"
      ]
     },
     "metadata": {},
     "output_type": "display_data"
    },
    {
     "data": {
      "text/html": [
       "<pre style=\"white-space:pre;overflow-x:auto;line-height:normal;font-family:Menlo,'DejaVu Sans Mono',consolas,'Courier New',monospace\">LoveHello\n",
       "</pre>\n"
      ],
      "text/plain": [
       "LoveHello\n"
      ]
     },
     "metadata": {},
     "output_type": "display_data"
    },
    {
     "data": {
      "text/html": [
       "<pre style=\"white-space:pre;overflow-x:auto;line-height:normal;font-family:Menlo,'DejaVu Sans Mono',consolas,'Courier New',monospace\"><span style=\"color: #008080; text-decoration-color: #008080; font-weight: bold\">10</span>\n",
       "</pre>\n"
      ],
      "text/plain": [
       "\u001b[1;36m10\u001b[0m\n"
      ]
     },
     "metadata": {},
     "output_type": "display_data"
    }
   ],
   "source": [
    "# 16.2 __add__ \n",
    "\n",
    "class S(str):\n",
    "    def __add__(self, other):\n",
    "        return len(self) + len(other)\n",
    "\n",
    "class X(str):\n",
    "    def __add__(self, other):\n",
    "        return NotImplemented\n",
    "    \n",
    "s1 = S(\"Hello\")\n",
    "s2 = S(\"World\")\n",
    "print(s1 + s2)\n",
    "\n",
    "# 但是调用的哪一个呢\n",
    "s3 = \"Love\"\n",
    "print(s1 + s3)\n",
    "print(s3 + s1)\n",
    "\n",
    "# 左边没有定义魔法方法呢\n",
    "x = X(\"Apple\")\n",
    "print(s1 + x)\n",
    "# print(x + s1)"
   ]
  },
  {
   "cell_type": "markdown",
   "id": "012a9397-d1df-4fe8-8f36-eaf0cb7319b3",
   "metadata": {},
   "source": [
    "### property机制"
   ]
  },
  {
   "cell_type": "code",
   "execution_count": 64,
   "id": "a6f449b6",
   "metadata": {
    "ExecuteTime": {
     "end_time": "2023-02-01T15:04:50.324255Z",
     "start_time": "2023-02-01T15:04:50.315749Z"
    }
   },
   "outputs": [],
   "source": [
    "class C:\n",
    "    def __init__(self):\n",
    "        self.__x = 12\n",
    "        \n",
    "    def getx(self):\n",
    "        return self.__x\n",
    "    def setx(self, x):\n",
    "        self.__x = x\n",
    "    def delx(self):\n",
    "        del self.__x\n",
    "    x = property(getx, setx, delx)\n",
    "\n",
    "c = C()\n",
    "c.x\n",
    "c.x = 12\n",
    "del c.x"
   ]
  },
  {
   "cell_type": "markdown",
   "id": "6feeb78d-7bbb-46ef-b655-dd1eadf74f2c",
   "metadata": {},
   "source": [
    "### 类方法"
   ]
  },
  {
   "cell_type": "code",
   "execution_count": 65,
   "id": "18b8dda5",
   "metadata": {
    "ExecuteTime": {
     "end_time": "2023-02-01T15:04:50.338830Z",
     "start_time": "2023-02-01T15:04:50.327622Z"
    }
   },
   "outputs": [
    {
     "data": {
      "text/html": [
       "<pre style=\"white-space:pre;overflow-x:auto;line-height:normal;font-family:Menlo,'DejaVu Sans Mono',consolas,'Courier New',monospace\"><span style=\"font-weight: bold\">&lt;</span><span style=\"color: #ff00ff; text-decoration-color: #ff00ff; font-weight: bold\">class</span><span style=\"color: #000000; text-decoration-color: #000000\"> </span><span style=\"color: #008000; text-decoration-color: #008000\">'method'</span><span style=\"font-weight: bold\">&gt;</span>\n",
       "</pre>\n"
      ],
      "text/plain": [
       "\u001b[1m<\u001b[0m\u001b[1;95mclass\u001b[0m\u001b[39m \u001b[0m\u001b[32m'method'\u001b[0m\u001b[1m>\u001b[0m\n"
      ]
     },
     "metadata": {},
     "output_type": "display_data"
    },
    {
     "data": {
      "text/html": [
       "<pre style=\"white-space:pre;overflow-x:auto;line-height:normal;font-family:Menlo,'DejaVu Sans Mono',consolas,'Courier New',monospace\"><span style=\"font-weight: bold\">&lt;</span><span style=\"color: #ff00ff; text-decoration-color: #ff00ff; font-weight: bold\">class</span><span style=\"color: #000000; text-decoration-color: #000000\"> </span><span style=\"color: #008000; text-decoration-color: #008000\">'__main__.C'</span><span style=\"font-weight: bold\">&gt;</span>\n",
       "</pre>\n"
      ],
      "text/plain": [
       "\u001b[1m<\u001b[0m\u001b[1;95mclass\u001b[0m\u001b[39m \u001b[0m\u001b[32m'__main__.C'\u001b[0m\u001b[1m>\u001b[0m\n"
      ]
     },
     "metadata": {},
     "output_type": "display_data"
    }
   ],
   "source": [
    "# classmethod装饰器\n",
    "class C:\n",
    "    @classmethod\n",
    "    def classMethod(cls):\n",
    "        print(cls)\n",
    "\n",
    "c = C()\n",
    "\n",
    "print(type(c.classMethod))\n",
    "c.classMethod()"
   ]
  },
  {
   "cell_type": "markdown",
   "id": "2af137de-57c5-4915-9be9-1f8a5338e289",
   "metadata": {},
   "source": [
    "### 静态方法"
   ]
  },
  {
   "cell_type": "code",
   "execution_count": 66,
   "id": "a7ccaa11",
   "metadata": {
    "ExecuteTime": {
     "end_time": "2023-02-01T15:04:50.356797Z",
     "start_time": "2023-02-01T15:04:50.342258Z"
    }
   },
   "outputs": [
    {
     "data": {
      "text/html": [
       "<pre style=\"white-space:pre;overflow-x:auto;line-height:normal;font-family:Menlo,'DejaVu Sans Mono',consolas,'Courier New',monospace\"><span style=\"font-weight: bold\">&lt;</span><span style=\"color: #ff00ff; text-decoration-color: #ff00ff; font-weight: bold\">class</span><span style=\"color: #000000; text-decoration-color: #000000\"> </span><span style=\"color: #008000; text-decoration-color: #008000\">'function'</span><span style=\"font-weight: bold\">&gt;</span>\n",
       "</pre>\n"
      ],
      "text/plain": [
       "\u001b[1m<\u001b[0m\u001b[1;95mclass\u001b[0m\u001b[39m \u001b[0m\u001b[32m'function'\u001b[0m\u001b[1m>\u001b[0m\n"
      ]
     },
     "metadata": {},
     "output_type": "display_data"
    },
    {
     "data": {
      "text/html": [
       "<pre style=\"white-space:pre;overflow-x:auto;line-height:normal;font-family:Menlo,'DejaVu Sans Mono',consolas,'Courier New',monospace\">Hello World\n",
       "</pre>\n"
      ],
      "text/plain": [
       "Hello World\n"
      ]
     },
     "metadata": {},
     "output_type": "display_data"
    }
   ],
   "source": [
    "# staticmethod装饰器\n",
    "class C:\n",
    "    @staticmethod\n",
    "    def staticMethod():\n",
    "        print(\"Hello World\")\n",
    "\n",
    "c = C()\n",
    "\n",
    "print(type(c.staticMethod))\n",
    "c.staticMethod()"
   ]
  },
  {
   "cell_type": "markdown",
   "id": "0accb29b-462c-4793-bc99-32afeda834d7",
   "metadata": {},
   "source": [
    "### 类装饰器"
   ]
  },
  {
   "cell_type": "code",
   "execution_count": 67,
   "id": "eb52e92c",
   "metadata": {
    "ExecuteTime": {
     "end_time": "2023-02-01T15:04:50.369800Z",
     "start_time": "2023-02-01T15:04:50.359479Z"
    },
    "editable": true,
    "slideshow": {
     "slide_type": ""
    },
    "tags": []
   },
   "outputs": [
    {
     "data": {
      "text/html": [
       "<pre style=\"white-space:pre;overflow-x:auto;line-height:normal;font-family:Menlo,'DejaVu Sans Mono',consolas,'Courier New',monospace\">decorator Test\n",
       "</pre>\n"
      ],
      "text/plain": [
       "decorator Test\n"
      ]
     },
     "metadata": {},
     "output_type": "display_data"
    }
   ],
   "source": [
    "# 定义一个装饰器\n",
    "def decorator(cls):\n",
    "    print(\"decorator Test\") \n",
    "    return cls\n",
    "\n",
    "@decorator \n",
    "class A(object):\n",
    "    def __init__(self):\n",
    "        pass\n",
    "\n",
    "    def test(self):\n",
    "        print(\"test\")\n",
    "\n",
    "a = A()"
   ]
  },
  {
   "cell_type": "markdown",
   "id": "d34706ba-5e15-4ec8-b82d-8dbdf3d0430e",
   "metadata": {},
   "source": [
    "### 元类"
   ]
  },
  {
   "cell_type": "markdown",
   "id": "2b1cf971-deea-41b5-96fe-4f09871097db",
   "metadata": {
    "ExecuteTime": {
     "end_time": "2023-02-01T15:04:50.376793Z",
     "start_time": "2023-02-01T15:04:50.372427Z"
    },
    "editable": true,
    "slideshow": {
     "slide_type": ""
    },
    "tags": []
   },
   "source": [
    "#### 元类基础"
   ]
  },
  {
   "cell_type": "markdown",
   "id": "8ebd6cbb-0c5f-4c54-bac9-0138773d656f",
   "metadata": {},
   "source": [
    "> 元类（metaclass) 就是创建类的类\n",
    "> 类对象是用什么创建和生成的呢？答案是元类，元类就是一种知道如何创建和管理类的对象，也可以叫做类生成器\n",
    "\n",
    "元类（Metaclass）是 Python 中的一种高级特性，用于创建和管理类。元类在 Python 中通常用于创建框架、库或工具，以简化类的创建和管理。\n",
    "元类是类的类，即它们是用来创建类的类。在 Python 中，所有类都是元类的实例。当你定义一个类时，你其实是在实例化一个元类。默认情况下，Python 使用内置的 `type` 元类来创建类，但你可以自定义自己的元类来自定义类的创建过程。\n",
    "\n",
    "元类的主要用途包括：\n",
    "\n",
    "1. 修改类的创建过程：你可以在元类中定义方法，并在创建类时自动调用它们。例如，你可以在元类中定义一个 `__new__` 方法来控制类的创建过程。\n",
    "2. 添加元数据：元类可以用来添加关于类的元数据，例如类的版本号、文档字符串等。\n",
    "3. 添加自动化的属性和方法：元类可以用来自动添加属性和方法到类中，例如自动添加缓存、序列化等。\n",
    "\n",
    "下面是一个简单的元类示例，用于自动为类添加一个 `count` 属性："
   ]
  },
  {
   "cell_type": "code",
   "execution_count": 1,
   "id": "09a74401",
   "metadata": {},
   "outputs": [],
   "source": [
    "class Meta(type):\n",
    "    def __init__(cls, name, bases, attrs):\n",
    "        super().__init__(name, bases, attrs)\n",
    "        cls.count = 0\n",
    "\n",
    "    def increment_count(cls):\n",
    "        cls.count += 1"
   ]
  },
  {
   "cell_type": "markdown",
   "id": "e7f19562-b4d2-4b9d-98b9-456e69e4ad53",
   "metadata": {},
   "source": [
    "这个元类定义了一个 `Meta` 类，它继承自内置的 `type` 类。在 `__init__` 方法中，我们定义了一个 `count` 属性并初始化为 0。我们还定义了一个 `increment_count` 方法来增加 `count` 的值。\n",
    "\n",
    "现在我们可以使用这个元类来创建一个类，并自动添加 `count` 属性和 `increment_count` 方法："
   ]
  },
  {
   "cell_type": "code",
   "execution_count": 2,
   "id": "1762dcda-2b96-4485-897d-3da17d3360b4",
   "metadata": {},
   "outputs": [],
   "source": [
    "class MyClass(metaclass=Meta):\n",
    "    pass"
   ]
  },
  {
   "cell_type": "markdown",
   "id": "6f2af621-9b19-493d-9e2c-10182e4e7eb2",
   "metadata": {},
   "source": [
    "现在，`MyClass` 类有一个 `count` 属性，它的初始值为 0。我们还可以通过调用 `increment_count` 方法来增加 `count` 的值："
   ]
  },
  {
   "cell_type": "code",
   "execution_count": 3,
   "id": "593fd49c-3359-479e-8184-21dff2b2c713",
   "metadata": {},
   "outputs": [
    {
     "name": "stdout",
     "output_type": "stream",
     "text": [
      "1\n"
     ]
    }
   ],
   "source": [
    "MyClass.increment_count()\n",
    "print(MyClass.count)  # 输出 1"
   ]
  },
  {
   "cell_type": "markdown",
   "id": "6b6c83a5-6a65-4bce-a9d3-1f124b958b99",
   "metadata": {},
   "source": [
    "#### __ class __ 和type\n",
    "\n",
    "> python中对象有个魔法属性__class__,可以查看对象是由哪个类创建出来的"
   ]
  },
  {
   "cell_type": "code",
   "execution_count": 9,
   "id": "4293f3c3",
   "metadata": {},
   "outputs": [
    {
     "name": "stdout",
     "output_type": "stream",
     "text": [
      "<class 'str'>\n",
      "<class 'int'>\n",
      "<class '__main__.Demo'>\n",
      "<class 'type'>\n"
     ]
    }
   ],
   "source": [
    "print(\"abc\".__class__)\n",
    "\n",
    "num = 123\n",
    "print(num.__class__)\n",
    "\n",
    "class Demo(object):\n",
    "    pass\n",
    "\n",
    "demo = Demo()\n",
    "\n",
    "print(demo.__class__)\n",
    "print(Demo.__class__)"
   ]
  },
  {
   "cell_type": "markdown",
   "id": "b28941f8-7397-40fd-bd8f-9614215af000",
   "metadata": {},
   "source": [
    "现在我们可以明白,对象的相关类\n",
    "\n",
    "1. 字符串 --> str\n",
    "2. 数据   --> int\n",
    "3. 对象  --> class\n",
    "4. class --> type"
   ]
  },
  {
   "cell_type": "markdown",
   "id": "0f057a22-5a0d-429c-8259-a71490fb7fcd",
   "metadata": {},
   "source": [
    "我们可以得到`class`的类是`type`,\n",
    "这个type其实就是平时我们用来查看数据类型的内建函数："
   ]
  },
  {
   "cell_type": "code",
   "execution_count": 11,
   "id": "feb60d2f-21d1-4b3c-b718-72da4994afd7",
   "metadata": {},
   "outputs": [
    {
     "data": {
      "text/plain": [
       "type"
      ]
     },
     "execution_count": 11,
     "metadata": {},
     "output_type": "execute_result"
    }
   ],
   "source": [
    "type(Demo)"
   ]
  },
  {
   "cell_type": "code",
   "execution_count": 12,
   "id": "21a88d4f-c12f-4d0a-88f5-c3e5dd864fa8",
   "metadata": {},
   "outputs": [
    {
     "data": {
      "text/plain": [
       "__main__.Demo"
      ]
     },
     "execution_count": 12,
     "metadata": {},
     "output_type": "execute_result"
    }
   ],
   "source": [
    "type(demo)"
   ]
  },
  {
   "cell_type": "markdown",
   "id": "bb28b74a-6641-4bf0-a7d6-7532bc06b7ae",
   "metadata": {},
   "source": [
    "也就是说明类的type为type"
   ]
  },
  {
   "cell_type": "code",
   "execution_count": 14,
   "id": "b58e775c-37af-45c3-ab10-11468042bdd4",
   "metadata": {},
   "outputs": [
    {
     "name": "stdout",
     "output_type": "stream",
     "text": [
      "This attribute was added by the metaclass.\n",
      "<class '__main__.Meta'>\n",
      "<class 'type'>\n"
     ]
    }
   ],
   "source": [
    "# 创建一个元类\n",
    "class Meta(type):  \n",
    "    def __new__(cls, name, bases, attrs):  \n",
    "        # 在创建类时自动添加属性  \n",
    "        attrs['added_by_meta'] = 'This attribute was added by the metaclass.'  \n",
    "        return super().__new__(cls, name, bases, attrs)  \n",
    "  \n",
    "# 使用元类定义一个类  \n",
    "class MyClass(metaclass=Meta):  \n",
    "    pass  \n",
    "  \n",
    "# 验证元类是否成功添加了属性  \n",
    "print(MyClass.added_by_meta)  # 输出: This attribute was added by the metaclass.\n",
    "\n",
    "# 检查__class__\n",
    "print(MyClass.__class__)\n",
    "print(Meta.__class__)"
   ]
  },
  {
   "cell_type": "code",
   "execution_count": null,
   "id": "1a3cc82a-0b93-4254-beaa-11ed065f643e",
   "metadata": {},
   "outputs": [],
   "source": []
  }
 ],
 "metadata": {
  "kernelspec": {
   "display_name": "Python 3 (ipykernel)",
   "language": "python",
   "name": "python3"
  },
  "language_info": {
   "codemirror_mode": {
    "name": "ipython",
    "version": 3
   },
   "file_extension": ".py",
   "mimetype": "text/x-python",
   "name": "python",
   "nbconvert_exporter": "python",
   "pygments_lexer": "ipython3",
   "version": "3.11.6"
  },
  "toc": {
   "base_numbering": 1,
   "nav_menu": {},
   "number_sections": true,
   "sideBar": true,
   "skip_h1_title": false,
   "title_cell": "Table of Contents",
   "title_sidebar": "Contents",
   "toc_cell": false,
   "toc_position": {
    "height": "calc(100% - 180px)",
    "left": "10px",
    "top": "150px",
    "width": "273.188px"
   },
   "toc_section_display": true,
   "toc_window_display": false
  },
  "varInspector": {
   "cols": {
    "lenName": 16,
    "lenType": 16,
    "lenVar": 40
   },
   "kernels_config": {
    "python": {
     "delete_cmd_postfix": "",
     "delete_cmd_prefix": "del ",
     "library": "var_list.py",
     "varRefreshCmd": "print(var_dic_list())"
    },
    "r": {
     "delete_cmd_postfix": ") ",
     "delete_cmd_prefix": "rm(",
     "library": "var_list.r",
     "varRefreshCmd": "cat(var_dic_list()) "
    }
   },
   "oldHeight": 122.844,
   "position": {
    "height": "40px",
    "left": "1096px",
    "right": "20px",
    "top": "120px",
    "width": "250px"
   },
   "types_to_exclude": [
    "module",
    "function",
    "builtin_function_or_method",
    "instance",
    "_Feature"
   ],
   "varInspector_section_display": "none",
   "window_display": false
  }
 },
 "nbformat": 4,
 "nbformat_minor": 5
}
