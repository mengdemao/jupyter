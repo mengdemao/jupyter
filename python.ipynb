{
 "cells": [
  {
   "cell_type": "markdown",
   "id": "9d808bca",
   "metadata": {},
   "source": [
    "# python笔记"
   ]
  },
  {
   "cell_type": "code",
   "execution_count": 1,
   "id": "93fcc4da",
   "metadata": {},
   "outputs": [],
   "source": [
    "# 导入魔法命令\n",
    "%run helper.py\n",
    "\n",
    "# 内联图片\n",
    "%matplotlib inline"
   ]
  },
  {
   "cell_type": "markdown",
   "id": "f956323e",
   "metadata": {},
   "source": [
    "## Hello World"
   ]
  },
  {
   "cell_type": "code",
   "execution_count": 2,
   "id": "325fd8ab",
   "metadata": {},
   "outputs": [
    {
     "data": {
      "text/html": [
       "<pre style=\"white-space:pre;overflow-x:auto;line-height:normal;font-family:Menlo,'DejaVu Sans Mono',consolas,'Courier New',monospace\">Hello python\n",
       "</pre>\n"
      ],
      "text/plain": [
       "Hello python\n"
      ]
     },
     "metadata": {},
     "output_type": "display_data"
    }
   ],
   "source": [
    "print(\"Hello python\")"
   ]
  },
  {
   "cell_type": "code",
   "execution_count": 3,
   "id": "e7b30cb0",
   "metadata": {},
   "outputs": [
    {
     "name": "stdout",
     "output_type": "stream",
     "text": [
      "The Zen of Python, by Tim Peters\n",
      "\n",
      "Beautiful is better than ugly.\n",
      "Explicit is better than implicit.\n",
      "Simple is better than complex.\n",
      "Complex is better than complicated.\n",
      "Flat is better than nested.\n",
      "Sparse is better than dense.\n",
      "Readability counts.\n",
      "Special cases aren't special enough to break the rules.\n",
      "Although practicality beats purity.\n",
      "Errors should never pass silently.\n",
      "Unless explicitly silenced.\n",
      "In the face of ambiguity, refuse the temptation to guess.\n",
      "There should be one-- and preferably only one --obvious way to do it.\n",
      "Although that way may not be obvious at first unless you're Dutch.\n",
      "Now is better than never.\n",
      "Although never is often better than *right* now.\n",
      "If the implementation is hard to explain, it's a bad idea.\n",
      "If the implementation is easy to explain, it may be a good idea.\n",
      "Namespaces are one honking great idea -- let's do more of those!\n"
     ]
    }
   ],
   "source": [
    "# 此时可以打印一个彩蛋\n",
    "import this"
   ]
  },
  {
   "cell_type": "markdown",
   "id": "b0d5d70f",
   "metadata": {},
   "source": [
    "## 数据类型"
   ]
  },
  {
   "cell_type": "markdown",
   "id": "1496166e",
   "metadata": {},
   "source": [
    "> 如何检查数据类型\n",
    "\n",
    "1. types使用\n",
    "```python\n",
    "type(object)\n",
    "```\n",
    "\n",
    "2. isinstance使用\n",
    "```python\n",
    "isinstance(object, classinfo)\n",
    "```\n",
    "\n",
    "+ Numbers（数字）\n",
    "+ String（字符串）\n",
    "+ List（列表）\n",
    "+ Tuple（元组）\n",
    "+ Dictionary（字典）\n"
   ]
  },
  {
   "cell_type": "markdown",
   "id": "0c8ecaa5",
   "metadata": {},
   "source": [
    "### 2.1 数字类型"
   ]
  },
  {
   "cell_type": "code",
   "execution_count": 4,
   "id": "6bc5b7d5",
   "metadata": {},
   "outputs": [
    {
     "data": {
      "text/html": [
       "<pre style=\"white-space:pre;overflow-x:auto;line-height:normal;font-family:Menlo,'DejaVu Sans Mono',consolas,'Courier New',monospace\"><span style=\"font-weight: bold\">&lt;</span><span style=\"color: #ff00ff; text-decoration-color: #ff00ff; font-weight: bold\">class</span><span style=\"color: #000000; text-decoration-color: #000000\"> </span><span style=\"color: #008000; text-decoration-color: #008000\">'int'</span><span style=\"font-weight: bold\">&gt;</span>\n",
       "</pre>\n"
      ],
      "text/plain": [
       "\u001b[1m<\u001b[0m\u001b[1;95mclass\u001b[0m\u001b[39m \u001b[0m\u001b[32m'int'\u001b[0m\u001b[1m>\u001b[0m\n"
      ]
     },
     "metadata": {},
     "output_type": "display_data"
    },
    {
     "data": {
      "text/html": [
       "<pre style=\"white-space:pre;overflow-x:auto;line-height:normal;font-family:Menlo,'DejaVu Sans Mono',consolas,'Courier New',monospace\"><span style=\"font-weight: bold\">&lt;</span><span style=\"color: #ff00ff; text-decoration-color: #ff00ff; font-weight: bold\">class</span><span style=\"color: #000000; text-decoration-color: #000000\"> </span><span style=\"color: #008000; text-decoration-color: #008000\">'int'</span><span style=\"font-weight: bold\">&gt;</span>\n",
       "</pre>\n"
      ],
      "text/plain": [
       "\u001b[1m<\u001b[0m\u001b[1;95mclass\u001b[0m\u001b[39m \u001b[0m\u001b[32m'int'\u001b[0m\u001b[1m>\u001b[0m\n"
      ]
     },
     "metadata": {},
     "output_type": "display_data"
    },
    {
     "data": {
      "text/html": [
       "<pre style=\"white-space:pre;overflow-x:auto;line-height:normal;font-family:Menlo,'DejaVu Sans Mono',consolas,'Courier New',monospace\"><span style=\"font-weight: bold\">&lt;</span><span style=\"color: #ff00ff; text-decoration-color: #ff00ff; font-weight: bold\">class</span><span style=\"color: #000000; text-decoration-color: #000000\"> </span><span style=\"color: #008000; text-decoration-color: #008000\">'float'</span><span style=\"font-weight: bold\">&gt;</span>\n",
       "</pre>\n"
      ],
      "text/plain": [
       "\u001b[1m<\u001b[0m\u001b[1;95mclass\u001b[0m\u001b[39m \u001b[0m\u001b[32m'float'\u001b[0m\u001b[1m>\u001b[0m\n"
      ]
     },
     "metadata": {},
     "output_type": "display_data"
    },
    {
     "data": {
      "text/html": [
       "<pre style=\"white-space:pre;overflow-x:auto;line-height:normal;font-family:Menlo,'DejaVu Sans Mono',consolas,'Courier New',monospace\"><span style=\"font-weight: bold\">&lt;</span><span style=\"color: #ff00ff; text-decoration-color: #ff00ff; font-weight: bold\">class</span><span style=\"color: #000000; text-decoration-color: #000000\"> </span><span style=\"color: #008000; text-decoration-color: #008000\">'float'</span><span style=\"font-weight: bold\">&gt;</span>\n",
       "</pre>\n"
      ],
      "text/plain": [
       "\u001b[1m<\u001b[0m\u001b[1;95mclass\u001b[0m\u001b[39m \u001b[0m\u001b[32m'float'\u001b[0m\u001b[1m>\u001b[0m\n"
      ]
     },
     "metadata": {},
     "output_type": "display_data"
    }
   ],
   "source": [
    "intA = int(12)\n",
    "print(type(intA))\n",
    "\n",
    "longB = 0xDAEABEEF\n",
    "print(type(longB))\n",
    "\n",
    "floatC = 1.2\n",
    "print(type(floatC))\n",
    "\n",
    "doubleD = 1.2\n",
    "print(type(doubleD))"
   ]
  },
  {
   "cell_type": "markdown",
   "id": "906e0a43",
   "metadata": {},
   "source": [
    "### 2.2 布尔类型\n",
    "\n",
    "+ True\n",
    "+ False"
   ]
  },
  {
   "cell_type": "code",
   "execution_count": 5,
   "id": "08d10186",
   "metadata": {},
   "outputs": [
    {
     "data": {
      "text/html": [
       "<pre style=\"white-space:pre;overflow-x:auto;line-height:normal;font-family:Menlo,'DejaVu Sans Mono',consolas,'Courier New',monospace\"><span style=\"color: #00ff00; text-decoration-color: #00ff00; font-style: italic\">True</span> <span style=\"font-weight: bold\">&lt;</span><span style=\"color: #ff00ff; text-decoration-color: #ff00ff; font-weight: bold\">class</span><span style=\"color: #000000; text-decoration-color: #000000\"> </span><span style=\"color: #008000; text-decoration-color: #008000\">'bool'</span><span style=\"font-weight: bold\">&gt;</span>\n",
       "</pre>\n"
      ],
      "text/plain": [
       "\u001b[3;92mTrue\u001b[0m \u001b[1m<\u001b[0m\u001b[1;95mclass\u001b[0m\u001b[39m \u001b[0m\u001b[32m'bool'\u001b[0m\u001b[1m>\u001b[0m\n"
      ]
     },
     "metadata": {},
     "output_type": "display_data"
    },
    {
     "data": {
      "text/html": [
       "<pre style=\"white-space:pre;overflow-x:auto;line-height:normal;font-family:Menlo,'DejaVu Sans Mono',consolas,'Courier New',monospace\"><span style=\"color: #ff0000; text-decoration-color: #ff0000; font-style: italic\">False</span> <span style=\"font-weight: bold\">&lt;</span><span style=\"color: #ff00ff; text-decoration-color: #ff00ff; font-weight: bold\">class</span><span style=\"color: #000000; text-decoration-color: #000000\"> </span><span style=\"color: #008000; text-decoration-color: #008000\">'bool'</span><span style=\"font-weight: bold\">&gt;</span>\n",
       "</pre>\n"
      ],
      "text/plain": [
       "\u001b[3;91mFalse\u001b[0m \u001b[1m<\u001b[0m\u001b[1;95mclass\u001b[0m\u001b[39m \u001b[0m\u001b[32m'bool'\u001b[0m\u001b[1m>\u001b[0m\n"
      ]
     },
     "metadata": {},
     "output_type": "display_data"
    }
   ],
   "source": [
    "boolA = True\n",
    "boolB = False\n",
    "\n",
    "print(boolA, type(boolA))\n",
    "print(boolB, type(boolB))"
   ]
  },
  {
   "cell_type": "markdown",
   "id": "7d940450",
   "metadata": {},
   "source": [
    "### 2.3  String(字符串)\n",
    "\n",
    "+ 使用\"\"定义字符串\n",
    "+ r在字符串表示禁止转义\n",
    "+ 使用\"\"\"作用长字符串"
   ]
  },
  {
   "cell_type": "code",
   "execution_count": 6,
   "id": "7316820c",
   "metadata": {},
   "outputs": [
    {
     "data": {
      "text/html": [
       "<pre style=\"white-space:pre;overflow-x:auto;line-height:normal;font-family:Menlo,'DejaVu Sans Mono',consolas,'Courier New',monospace\">Hello <span style=\"font-weight: bold\">&lt;</span><span style=\"color: #ff00ff; text-decoration-color: #ff00ff; font-weight: bold\">class</span><span style=\"color: #000000; text-decoration-color: #000000\"> </span><span style=\"color: #008000; text-decoration-color: #008000\">'str'</span><span style=\"font-weight: bold\">&gt;</span>\n",
       "</pre>\n"
      ],
      "text/plain": [
       "Hello \u001b[1m<\u001b[0m\u001b[1;95mclass\u001b[0m\u001b[39m \u001b[0m\u001b[32m'str'\u001b[0m\u001b[1m>\u001b[0m\n"
      ]
     },
     "metadata": {},
     "output_type": "display_data"
    },
    {
     "data": {
      "text/html": [
       "<pre style=\"white-space:pre;overflow-x:auto;line-height:normal;font-family:Menlo,'DejaVu Sans Mono',consolas,'Courier New',monospace\">Hello\\nWorld <span style=\"font-weight: bold\">&lt;</span><span style=\"color: #ff00ff; text-decoration-color: #ff00ff; font-weight: bold\">class</span><span style=\"color: #000000; text-decoration-color: #000000\"> </span><span style=\"color: #008000; text-decoration-color: #008000\">'str'</span><span style=\"font-weight: bold\">&gt;</span>\n",
       "</pre>\n"
      ],
      "text/plain": [
       "Hello\\nWorld \u001b[1m<\u001b[0m\u001b[1;95mclass\u001b[0m\u001b[39m \u001b[0m\u001b[32m'str'\u001b[0m\u001b[1m>\u001b[0m\n"
      ]
     },
     "metadata": {},
     "output_type": "display_data"
    },
    {
     "data": {
      "text/html": [
       "<pre style=\"white-space:pre;overflow-x:auto;line-height:normal;font-family:Menlo,'DejaVu Sans Mono',consolas,'Courier New',monospace\">\n",
       "The Zen of Python, by Tim Peters\n",
       "\n",
       "Beautiful is better than ugly.\n",
       "Explicit is better than implicit.\n",
       "Simple is better than complex.\n",
       "Complex is better than complicated.\n",
       "Flat is better than nested.\n",
       "Sparse is better than dense.\n",
       "Readability counts.\n",
       "Special cases aren't special enough to break the rules.\n",
       "Although practicality beats purity.\n",
       "Errors should never pass silently.\n",
       "Unless explicitly silenced.\n",
       "In the face of ambiguity, refuse the temptation to guess.\n",
       "There should be one-- and preferably only one --obvious way to do it.\n",
       "Although that way may not be obvious at first unless you're Dutch.\n",
       "Now is better than never.\n",
       "Although never is often better than *right* now.\n",
       "If the implementation is hard to explain, it's a bad idea.\n",
       "If the implementation is easy to explain, it may be a good idea.\n",
       "Namespaces are one honking great idea -- let's do more of those!\n",
       " \n",
       "The Zen of Python, by Tim Peters\n",
       "\n",
       "Beautiful is better than ugly.\n",
       "Explicit is better than implicit.\n",
       "Simple is better than complex.\n",
       "Complex is better than complicated.\n",
       "Flat is better than nested.\n",
       "Sparse is better than dense.\n",
       "Readability counts.\n",
       "Special cases aren't special enough to break the rules.\n",
       "Although practicality beats purity.\n",
       "Errors should never pass silently.\n",
       "Unless explicitly silenced.\n",
       "In the face of ambiguity, refuse the temptation to guess.\n",
       "There should be one-- and preferably only one --obvious way to do it.\n",
       "Although that way may not be obvious at first unless you're Dutch.\n",
       "Now is better than never.\n",
       "Although never is often better than *right* now.\n",
       "If the implementation is hard to explain, it's a bad idea.\n",
       "If the implementation is easy to explain, it may be a good idea.\n",
       "Namespaces are one honking great idea -- let's do more of those!\n",
       "\n",
       "</pre>\n"
      ],
      "text/plain": [
       "\n",
       "The Zen of Python, by Tim Peters\n",
       "\n",
       "Beautiful is better than ugly.\n",
       "Explicit is better than implicit.\n",
       "Simple is better than complex.\n",
       "Complex is better than complicated.\n",
       "Flat is better than nested.\n",
       "Sparse is better than dense.\n",
       "Readability counts.\n",
       "Special cases aren't special enough to break the rules.\n",
       "Although practicality beats purity.\n",
       "Errors should never pass silently.\n",
       "Unless explicitly silenced.\n",
       "In the face of ambiguity, refuse the temptation to guess.\n",
       "There should be one-- and preferably only one --obvious way to do it.\n",
       "Although that way may not be obvious at first unless you're Dutch.\n",
       "Now is better than never.\n",
       "Although never is often better than *right* now.\n",
       "If the implementation is hard to explain, it's a bad idea.\n",
       "If the implementation is easy to explain, it may be a good idea.\n",
       "Namespaces are one honking great idea -- let's do more of those!\n",
       " \n",
       "The Zen of Python, by Tim Peters\n",
       "\n",
       "Beautiful is better than ugly.\n",
       "Explicit is better than implicit.\n",
       "Simple is better than complex.\n",
       "Complex is better than complicated.\n",
       "Flat is better than nested.\n",
       "Sparse is better than dense.\n",
       "Readability counts.\n",
       "Special cases aren't special enough to break the rules.\n",
       "Although practicality beats purity.\n",
       "Errors should never pass silently.\n",
       "Unless explicitly silenced.\n",
       "In the face of ambiguity, refuse the temptation to guess.\n",
       "There should be one-- and preferably only one --obvious way to do it.\n",
       "Although that way may not be obvious at first unless you're Dutch.\n",
       "Now is better than never.\n",
       "Although never is often better than *right* now.\n",
       "If the implementation is hard to explain, it's a bad idea.\n",
       "If the implementation is easy to explain, it may be a good idea.\n",
       "Namespaces are one honking great idea -- let's do more of those!\n",
       "\n"
      ]
     },
     "metadata": {},
     "output_type": "display_data"
    }
   ],
   "source": [
    "# 普通定义字符串\n",
    "strA = \"Hello\"\n",
    "print(strA,  type(strA))\n",
    "\n",
    "# r禁止转义\n",
    "strB = r\"Hello\\nWorld\"\n",
    "print(strB, type(strB))\n",
    "\n",
    "# 长字符串\n",
    "strC = \"\"\"\n",
    "The Zen of Python, by Tim Peters\n",
    "\n",
    "Beautiful is better than ugly.\n",
    "Explicit is better than implicit.\n",
    "Simple is better than complex.\n",
    "Complex is better than complicated.\n",
    "Flat is better than nested.\n",
    "Sparse is better than dense.\n",
    "Readability counts.\n",
    "Special cases aren't special enough to break the rules.\n",
    "Although practicality beats purity.\n",
    "Errors should never pass silently.\n",
    "Unless explicitly silenced.\n",
    "In the face of ambiguity, refuse the temptation to guess.\n",
    "There should be one-- and preferably only one --obvious way to do it.\n",
    "Although that way may not be obvious at first unless you're Dutch.\n",
    "Now is better than never.\n",
    "Although never is often better than *right* now.\n",
    "If the implementation is hard to explain, it's a bad idea.\n",
    "If the implementation is easy to explain, it may be a good idea.\n",
    "Namespaces are one honking great idea -- let's do more of those!\n",
    "\"\"\"\n",
    "\n",
    "print(strC, str(strC))"
   ]
  },
  {
   "cell_type": "markdown",
   "id": "a39ac911",
   "metadata": {},
   "source": [
    "### 2.4 列表"
   ]
  },
  {
   "cell_type": "code",
   "execution_count": 7,
   "id": "2eb405b1",
   "metadata": {
    "scrolled": true
   },
   "outputs": [
    {
     "data": {
      "text/html": [
       "<pre style=\"white-space:pre;overflow-x:auto;line-height:normal;font-family:Menlo,'DejaVu Sans Mono',consolas,'Courier New',monospace\"><span style=\"font-weight: bold\">[</span><span style=\"color: #008000; text-decoration-color: #008000\">'baidu'</span>, <span style=\"color: #008000; text-decoration-color: #008000\">'google'</span>, <span style=\"color: #008080; text-decoration-color: #008080; font-weight: bold\">12</span>, <span style=\"color: #008080; text-decoration-color: #008080; font-weight: bold\">34</span><span style=\"font-weight: bold\">]</span>\n",
       "</pre>\n"
      ],
      "text/plain": [
       "\u001b[1m[\u001b[0m\u001b[32m'baidu'\u001b[0m, \u001b[32m'google'\u001b[0m, \u001b[1;36m12\u001b[0m, \u001b[1;36m34\u001b[0m\u001b[1m]\u001b[0m\n"
      ]
     },
     "metadata": {},
     "output_type": "display_data"
    },
    {
     "data": {
      "text/html": [
       "<pre style=\"white-space:pre;overflow-x:auto;line-height:normal;font-family:Menlo,'DejaVu Sans Mono',consolas,'Courier New',monospace\"><span style=\"font-weight: bold\">[</span><span style=\"color: #008080; text-decoration-color: #008080; font-weight: bold\">1</span>, <span style=\"color: #008080; text-decoration-color: #008080; font-weight: bold\">2</span>, <span style=\"color: #008080; text-decoration-color: #008080; font-weight: bold\">3</span>, <span style=\"color: #008080; text-decoration-color: #008080; font-weight: bold\">4</span>, <span style=\"color: #008080; text-decoration-color: #008080; font-weight: bold\">5</span><span style=\"font-weight: bold\">]</span>\n",
       "</pre>\n"
      ],
      "text/plain": [
       "\u001b[1m[\u001b[0m\u001b[1;36m1\u001b[0m, \u001b[1;36m2\u001b[0m, \u001b[1;36m3\u001b[0m, \u001b[1;36m4\u001b[0m, \u001b[1;36m5\u001b[0m\u001b[1m]\u001b[0m\n"
      ]
     },
     "metadata": {},
     "output_type": "display_data"
    },
    {
     "data": {
      "text/html": [
       "<pre style=\"white-space:pre;overflow-x:auto;line-height:normal;font-family:Menlo,'DejaVu Sans Mono',consolas,'Courier New',monospace\"><span style=\"font-weight: bold\">[</span><span style=\"color: #008000; text-decoration-color: #008000\">'a'</span>, <span style=\"color: #008000; text-decoration-color: #008000\">'b'</span>, <span style=\"color: #008000; text-decoration-color: #008000\">'c'</span>, <span style=\"color: #008000; text-decoration-color: #008000\">'d'</span><span style=\"font-weight: bold\">]</span>\n",
       "</pre>\n"
      ],
      "text/plain": [
       "\u001b[1m[\u001b[0m\u001b[32m'a'\u001b[0m, \u001b[32m'b'\u001b[0m, \u001b[32m'c'\u001b[0m, \u001b[32m'd'\u001b[0m\u001b[1m]\u001b[0m\n"
      ]
     },
     "metadata": {},
     "output_type": "display_data"
    },
    {
     "data": {
      "text/html": [
       "<pre style=\"white-space:pre;overflow-x:auto;line-height:normal;font-family:Menlo,'DejaVu Sans Mono',consolas,'Courier New',monospace\"><span style=\"font-weight: bold\">[</span><span style=\"color: #008000; text-decoration-color: #008000\">'H'</span>, <span style=\"color: #008000; text-decoration-color: #008000\">'e'</span>, <span style=\"color: #008000; text-decoration-color: #008000\">'l'</span>, <span style=\"color: #008000; text-decoration-color: #008000\">'l'</span>, <span style=\"color: #008000; text-decoration-color: #008000\">'o'</span>, <span style=\"color: #008000; text-decoration-color: #008000\">' '</span>, <span style=\"color: #008000; text-decoration-color: #008000\">'W'</span>, <span style=\"color: #008000; text-decoration-color: #008000\">'o'</span>, <span style=\"color: #008000; text-decoration-color: #008000\">'r'</span>, <span style=\"color: #008000; text-decoration-color: #008000\">'l'</span>, <span style=\"color: #008000; text-decoration-color: #008000\">'d'</span><span style=\"font-weight: bold\">]</span>\n",
       "</pre>\n"
      ],
      "text/plain": [
       "\u001b[1m[\u001b[0m\u001b[32m'H'\u001b[0m, \u001b[32m'e'\u001b[0m, \u001b[32m'l'\u001b[0m, \u001b[32m'l'\u001b[0m, \u001b[32m'o'\u001b[0m, \u001b[32m' '\u001b[0m, \u001b[32m'W'\u001b[0m, \u001b[32m'o'\u001b[0m, \u001b[32m'r'\u001b[0m, \u001b[32m'l'\u001b[0m, \u001b[32m'd'\u001b[0m\u001b[1m]\u001b[0m\n"
      ]
     },
     "metadata": {},
     "output_type": "display_data"
    }
   ],
   "source": [
    "# 列表可以看成一个高级的数组\n",
    "list1 = ['baidu', 'google', 12, 34]\n",
    "list2 = [1, 2, 3, 4, 5 ]\n",
    "list3 = [\"a\", \"b\", \"c\", \"d\"]\n",
    "list4 = list(\"Hello World\")\n",
    "\n",
    "print(list1)\n",
    "print(list2)\n",
    "print(list3)\n",
    "print(list4)"
   ]
  },
  {
   "cell_type": "markdown",
   "id": "dd1d4967",
   "metadata": {},
   "source": [
    "## 函数"
   ]
  },
  {
   "cell_type": "code",
   "execution_count": 8,
   "id": "c6d9309b",
   "metadata": {},
   "outputs": [],
   "source": [
    "### 函数定义与调用"
   ]
  },
  {
   "cell_type": "code",
   "execution_count": 9,
   "id": "f525585f",
   "metadata": {},
   "outputs": [
    {
     "data": {
      "text/html": [
       "<pre style=\"white-space:pre;overflow-x:auto;line-height:normal;font-family:Menlo,'DejaVu Sans Mono',consolas,'Courier New',monospace\">Hello world\n",
       "</pre>\n"
      ],
      "text/plain": [
       "Hello world\n"
      ]
     },
     "metadata": {},
     "output_type": "display_data"
    },
    {
     "data": {
      "text/plain": [
       "True"
      ]
     },
     "execution_count": 9,
     "metadata": {},
     "output_type": "execute_result"
    }
   ],
   "source": [
    "# 1.1 定义普通函数\n",
    "def helloWorld():\n",
    "    print(\"Hello world\");\n",
    "    return True\n",
    "\n",
    "# 1.2 调用函数\n",
    "helloWorld()"
   ]
  },
  {
   "cell_type": "code",
   "execution_count": 10,
   "id": "a7344230",
   "metadata": {},
   "outputs": [
    {
     "data": {
      "text/html": [
       "<pre style=\"white-space:pre;overflow-x:auto;line-height:normal;font-family:Menlo,'DejaVu Sans Mono',consolas,'Courier New',monospace\">funB\n",
       "</pre>\n"
      ],
      "text/plain": [
       "funB\n"
      ]
     },
     "metadata": {},
     "output_type": "display_data"
    },
    {
     "data": {
      "text/html": [
       "<pre style=\"white-space:pre;overflow-x:auto;line-height:normal;font-family:Menlo,'DejaVu Sans Mono',consolas,'Courier New',monospace\">funA\n",
       "</pre>\n"
      ],
      "text/plain": [
       "funA\n"
      ]
     },
     "metadata": {},
     "output_type": "display_data"
    },
    {
     "data": {
      "text/html": [
       "<pre style=\"white-space:pre;overflow-x:auto;line-height:normal;font-family:Menlo,'DejaVu Sans Mono',consolas,'Courier New',monospace\"><span style=\"color: #808000; text-decoration-color: #808000\">x</span>= <span style=\"color: #008080; text-decoration-color: #008080; font-weight: bold\">12</span>\n",
       "</pre>\n"
      ],
      "text/plain": [
       "\u001b[33mx\u001b[0m= \u001b[1;36m12\u001b[0m\n"
      ]
     },
     "metadata": {},
     "output_type": "display_data"
    },
    {
     "data": {
      "text/html": [
       "<pre style=\"white-space:pre;overflow-x:auto;line-height:normal;font-family:Menlo,'DejaVu Sans Mono',consolas,'Courier New',monospace\">x id = <span style=\"color: #008080; text-decoration-color: #008080; font-weight: bold\">140029311795792</span>\n",
       "</pre>\n"
      ],
      "text/plain": [
       "x id = \u001b[1;36m140029311795792\u001b[0m\n"
      ]
     },
     "metadata": {},
     "output_type": "display_data"
    },
    {
     "data": {
      "text/html": [
       "<pre style=\"white-space:pre;overflow-x:auto;line-height:normal;font-family:Menlo,'DejaVu Sans Mono',consolas,'Courier New',monospace\"><span style=\"color: #808000; text-decoration-color: #808000\">x</span>= <span style=\"color: #008080; text-decoration-color: #008080; font-weight: bold\">11</span>\n",
       "</pre>\n"
      ],
      "text/plain": [
       "\u001b[33mx\u001b[0m= \u001b[1;36m11\u001b[0m\n"
      ]
     },
     "metadata": {},
     "output_type": "display_data"
    },
    {
     "data": {
      "text/html": [
       "<pre style=\"white-space:pre;overflow-x:auto;line-height:normal;font-family:Menlo,'DejaVu Sans Mono',consolas,'Courier New',monospace\">x id = <span style=\"color: #008080; text-decoration-color: #008080; font-weight: bold\">140029311795760</span>\n",
       "</pre>\n"
      ],
      "text/plain": [
       "x id = \u001b[1;36m140029311795760\u001b[0m\n"
      ]
     },
     "metadata": {},
     "output_type": "display_data"
    },
    {
     "data": {
      "text/html": [
       "<pre style=\"white-space:pre;overflow-x:auto;line-height:normal;font-family:Menlo,'DejaVu Sans Mono',consolas,'Courier New',monospace\"><span style=\"color: #808000; text-decoration-color: #808000\">x</span>= <span style=\"color: #008080; text-decoration-color: #008080; font-weight: bold\">12</span>\n",
       "</pre>\n"
      ],
      "text/plain": [
       "\u001b[33mx\u001b[0m= \u001b[1;36m12\u001b[0m\n"
      ]
     },
     "metadata": {},
     "output_type": "display_data"
    },
    {
     "data": {
      "text/html": [
       "<pre style=\"white-space:pre;overflow-x:auto;line-height:normal;font-family:Menlo,'DejaVu Sans Mono',consolas,'Courier New',monospace\">x id = <span style=\"color: #008080; text-decoration-color: #008080; font-weight: bold\">140029311795792</span>\n",
       "</pre>\n"
      ],
      "text/plain": [
       "x id = \u001b[1;36m140029311795792\u001b[0m\n"
      ]
     },
     "metadata": {},
     "output_type": "display_data"
    }
   ],
   "source": [
    "# 2.1 嵌套函数\n",
    "\n",
    "def funcA():\n",
    "    def funB():\n",
    "        print(\"funB\");\n",
    "    funB()\n",
    "    print(\"funA\")\n",
    "\n",
    "# 2.2 嵌套函数调用\n",
    "\n",
    "funcA()\n",
    "\n",
    "# funcB() funB函数不可以进行调用\n",
    "\n",
    "# 2.3 调用nonlocal绑定\n",
    "\n",
    "# 与C语言一致,函数内部会形成新的变量,但是我们可以使用nonlocal关键字进行禁止,类似于extern\n",
    "def px():\n",
    "    x = 12                        # 定义x = 12\n",
    "    print(\"x=\", x)                # 打印12\n",
    "    print(\"x id =\", id(x))        # 打印x的ID\n",
    "    \n",
    "    def px_1():\n",
    "        x = 11\n",
    "        print(\"x=\", x)            # 打印11\n",
    "        print(\"x id =\", id(x))    # 打印x的ID\n",
    "    \n",
    "    def px_2():\n",
    "        nonlocal x                # 将x绑定到\n",
    "        print(\"x=\", x)            # 打印12\n",
    "        print(\"x id =\", id(x))    # 打印x的ID\n",
    "        \n",
    "    px_1()\n",
    "    px_2()\n",
    "\n",
    "px()\n",
    "\n",
    "# 根据下面的打印,我们可以确定出, nonlocal将外层变量绑定到内部函数中\n",
    "# 并且于global不同,gloabl绑定的是全局变量\n",
    "# 可以确定打印出的ID"
   ]
  },
  {
   "cell_type": "markdown",
   "id": "badacbed",
   "metadata": {},
   "source": [
    "python的变量解析机制, ***LEGB*规则\n",
    "\n",
    "1. Local     (局部作用域)\n",
    "2. Enclose   (嵌套函数外部)\n",
    "3. Global    (全局作用域)\n",
    "4. Build-In  (内置作用域)\n"
   ]
  },
  {
   "cell_type": "markdown",
   "id": "fc95a7d2",
   "metadata": {},
   "source": [
    "### 闭包\n",
    "\n",
    "> 闭包（closure）是一个函数以及其捆绑的周边环境状态（lexical environment，词法环境）的引用的组合。\n",
    "> 换而言之，闭包让开发者可以从内部函数访问外部函数的作用域。\n",
    "\n",
    "简而言之,就是外部调用内部函数"
   ]
  },
  {
   "cell_type": "code",
   "execution_count": 11,
   "id": "05c41c32",
   "metadata": {},
   "outputs": [
    {
     "data": {
      "text/html": [
       "<pre style=\"white-space:pre;overflow-x:auto;line-height:normal;font-family:Menlo,'DejaVu Sans Mono',consolas,'Courier New',monospace\"><span style=\"color: #008080; text-decoration-color: #008080; font-weight: bold\">12</span>\n",
       "</pre>\n"
      ],
      "text/plain": [
       "\u001b[1;36m12\u001b[0m\n"
      ]
     },
     "metadata": {},
     "output_type": "display_data"
    },
    {
     "data": {
      "text/html": [
       "<pre style=\"white-space:pre;overflow-x:auto;line-height:normal;font-family:Menlo,'DejaVu Sans Mono',consolas,'Courier New',monospace\"><span style=\"color: #008080; text-decoration-color: #008080; font-weight: bold\">12</span>\n",
       "</pre>\n"
      ],
      "text/plain": [
       "\u001b[1;36m12\u001b[0m\n"
      ]
     },
     "metadata": {},
     "output_type": "display_data"
    },
    {
     "data": {
      "text/html": [
       "<pre style=\"white-space:pre;overflow-x:auto;line-height:normal;font-family:Menlo,'DejaVu Sans Mono',consolas,'Courier New',monospace\">4的平方 <span style=\"color: #008080; text-decoration-color: #008080; font-weight: bold\">16</span>\n",
       "</pre>\n"
      ],
      "text/plain": [
       "4的平方 \u001b[1;36m16\u001b[0m\n"
      ]
     },
     "metadata": {},
     "output_type": "display_data"
    },
    {
     "data": {
      "text/html": [
       "<pre style=\"white-space:pre;overflow-x:auto;line-height:normal;font-family:Menlo,'DejaVu Sans Mono',consolas,'Courier New',monospace\">4的立方 <span style=\"color: #008080; text-decoration-color: #008080; font-weight: bold\">64</span>\n",
       "</pre>\n"
      ],
      "text/plain": [
       "4的立方 \u001b[1;36m64\u001b[0m\n"
      ]
     },
     "metadata": {},
     "output_type": "display_data"
    }
   ],
   "source": [
    "# 3.1 闭包工作原理,将内部函数返回\n",
    "\n",
    "def funC():\n",
    "    x = 12\n",
    "    def funD():\n",
    "        print(x)\n",
    "    return funD\n",
    "\n",
    "# 下面的语句打印的结果\n",
    "# function __main__.funC.<locals>.funD()\n",
    "funC()\n",
    "\n",
    "# 3.2 调用funD\n",
    "\n",
    "# 3.2.1 直接调用\n",
    "\n",
    "funC()()\n",
    "\n",
    "# 3.2.2 临时接收\n",
    "f = funC()\n",
    "f()\n",
    "\n",
    "# 外部作用域中的变量会保存,不会消失,这就是闭包\n",
    "\n",
    "# 闭包的妙用\n",
    "def power(exp):\n",
    "    def expOf(base):\n",
    "        return base ** exp\n",
    "    return expOf\n",
    "\n",
    "square = power(2)\n",
    "cube = power(3)\n",
    "\n",
    "print(\"4的平方\", square(4))\n",
    "print(\"4的立方\", cube(4))"
   ]
  },
  {
   "cell_type": "markdown",
   "id": "3ea01ada",
   "metadata": {},
   "source": [
    "闭包详细理解\n",
    "如果一个函数定义在另一个函数的作用域内，并且引用了外层函数的变量，则该函数称为闭包。\n",
    "闭包是Python所支持的一种特性，它让在非global scope定义的函数可以引用其外围空间中的变量，这些外围空间中被引用的变量叫做这个函数的环境变量。\n",
    "**环境变量和这个非全局函数**一起构成了闭包。\n",
    "\n",
    "__注意是:变量和函数一起称之为闭包__,因此闭包是语言提供的功能\n"
   ]
  },
  {
   "cell_type": "markdown",
   "id": "7c0014c0",
   "metadata": {},
   "source": [
    "### 装饰器"
   ]
  },
  {
   "cell_type": "code",
   "execution_count": 12,
   "id": "00cb6cd8",
   "metadata": {},
   "outputs": [
    {
     "data": {
      "text/html": [
       "<pre style=\"white-space:pre;overflow-x:auto;line-height:normal;font-family:Menlo,'DejaVu Sans Mono',consolas,'Courier New',monospace\"><span style=\"font-weight: bold\">[</span>DEBUG<span style=\"font-weight: bold\">]</span>: enter <span style=\"color: #800080; text-decoration-color: #800080; font-weight: bold\">hello1</span><span style=\"font-weight: bold\">()</span> start\n",
       "</pre>\n"
      ],
      "text/plain": [
       "\u001b[1m[\u001b[0mDEBUG\u001b[1m]\u001b[0m: enter \u001b[1;35mhello1\u001b[0m\u001b[1m(\u001b[0m\u001b[1m)\u001b[0m start\n"
      ]
     },
     "metadata": {},
     "output_type": "display_data"
    },
    {
     "data": {
      "text/html": [
       "<pre style=\"white-space:pre;overflow-x:auto;line-height:normal;font-family:Menlo,'DejaVu Sans Mono',consolas,'Courier New',monospace\">Hello1\n",
       "</pre>\n"
      ],
      "text/plain": [
       "Hello1\n"
      ]
     },
     "metadata": {},
     "output_type": "display_data"
    },
    {
     "data": {
      "text/html": [
       "<pre style=\"white-space:pre;overflow-x:auto;line-height:normal;font-family:Menlo,'DejaVu Sans Mono',consolas,'Courier New',monospace\"><span style=\"font-weight: bold\">[</span>DEBUG<span style=\"font-weight: bold\">]</span>: exit <span style=\"color: #800080; text-decoration-color: #800080; font-weight: bold\">hello1</span><span style=\"font-weight: bold\">()</span> stop\n",
       "</pre>\n"
      ],
      "text/plain": [
       "\u001b[1m[\u001b[0mDEBUG\u001b[1m]\u001b[0m: exit \u001b[1;35mhello1\u001b[0m\u001b[1m(\u001b[0m\u001b[1m)\u001b[0m stop\n"
      ]
     },
     "metadata": {},
     "output_type": "display_data"
    },
    {
     "data": {
      "text/html": [
       "<pre style=\"white-space:pre;overflow-x:auto;line-height:normal;font-family:Menlo,'DejaVu Sans Mono',consolas,'Courier New',monospace\"><span style=\"font-weight: bold\">[</span>DEBUG<span style=\"font-weight: bold\">]</span>: elapse <span style=\"color: #800080; text-decoration-color: #800080; font-weight: bold\">0.0010516643524169922</span><span style=\"font-weight: bold\">()</span>\n",
       "</pre>\n"
      ],
      "text/plain": [
       "\u001b[1m[\u001b[0mDEBUG\u001b[1m]\u001b[0m: elapse \u001b[1;35m0.0010516643524169922\u001b[0m\u001b[1m(\u001b[0m\u001b[1m)\u001b[0m\n"
      ]
     },
     "metadata": {},
     "output_type": "display_data"
    }
   ],
   "source": [
    "# 4.1 定义一个检查时间的函数\n",
    "import time\n",
    "def timeMaster(func):\n",
    "    print(\"[DEBUG]: enter {}() start\".format(func.__name__))\n",
    "    start = time.time()\n",
    "    func()\n",
    "    stop = time.time()\n",
    "    print(\"[DEBUG]: exit {}() stop\".format(func.__name__))\n",
    "    print(\"[DEBUG]: elapse {}()\".format(stop - start))\n",
    "\n",
    "def hello1():\n",
    "    print(\"Hello1\")\n",
    "\n",
    "timeMaster(hello1)"
   ]
  },
  {
   "cell_type": "code",
   "execution_count": 13,
   "id": "d5c2ed74",
   "metadata": {},
   "outputs": [
    {
     "data": {
      "text/html": [
       "<pre style=\"white-space:pre;overflow-x:auto;line-height:normal;font-family:Menlo,'DejaVu Sans Mono',consolas,'Courier New',monospace\"><span style=\"font-weight: bold\">[</span>DEBUG<span style=\"font-weight: bold\">]</span>: enter <span style=\"color: #800080; text-decoration-color: #800080; font-weight: bold\">hello2</span><span style=\"font-weight: bold\">()</span> start\n",
       "</pre>\n"
      ],
      "text/plain": [
       "\u001b[1m[\u001b[0mDEBUG\u001b[1m]\u001b[0m: enter \u001b[1;35mhello2\u001b[0m\u001b[1m(\u001b[0m\u001b[1m)\u001b[0m start\n"
      ]
     },
     "metadata": {},
     "output_type": "display_data"
    },
    {
     "data": {
      "text/html": [
       "<pre style=\"white-space:pre;overflow-x:auto;line-height:normal;font-family:Menlo,'DejaVu Sans Mono',consolas,'Courier New',monospace\">Hello2\n",
       "</pre>\n"
      ],
      "text/plain": [
       "Hello2\n"
      ]
     },
     "metadata": {},
     "output_type": "display_data"
    },
    {
     "data": {
      "text/html": [
       "<pre style=\"white-space:pre;overflow-x:auto;line-height:normal;font-family:Menlo,'DejaVu Sans Mono',consolas,'Courier New',monospace\"><span style=\"font-weight: bold\">[</span>DEBUG<span style=\"font-weight: bold\">]</span>: exit <span style=\"color: #800080; text-decoration-color: #800080; font-weight: bold\">hello2</span><span style=\"font-weight: bold\">()</span> stop\n",
       "</pre>\n"
      ],
      "text/plain": [
       "\u001b[1m[\u001b[0mDEBUG\u001b[1m]\u001b[0m: exit \u001b[1;35mhello2\u001b[0m\u001b[1m(\u001b[0m\u001b[1m)\u001b[0m stop\n"
      ]
     },
     "metadata": {},
     "output_type": "display_data"
    },
    {
     "data": {
      "text/html": [
       "<pre style=\"white-space:pre;overflow-x:auto;line-height:normal;font-family:Menlo,'DejaVu Sans Mono',consolas,'Courier New',monospace\"><span style=\"font-weight: bold\">[</span>DEBUG<span style=\"font-weight: bold\">]</span>: elapse <span style=\"color: #800080; text-decoration-color: #800080; font-weight: bold\">0.0010724067687988281</span><span style=\"font-weight: bold\">()</span>\n",
       "</pre>\n"
      ],
      "text/plain": [
       "\u001b[1m[\u001b[0mDEBUG\u001b[1m]\u001b[0m: elapse \u001b[1;35m0.0010724067687988281\u001b[0m\u001b[1m(\u001b[0m\u001b[1m)\u001b[0m\n"
      ]
     },
     "metadata": {},
     "output_type": "display_data"
    }
   ],
   "source": [
    "# 4.2 使用装饰器\n",
    "import time\n",
    "def timeMasterDecorate(func):\n",
    "    def call():\n",
    "        print(\"[DEBUG]: enter {}() start\".format(func.__name__))\n",
    "        start = time.time()\n",
    "        func()\n",
    "        stop = time.time()\n",
    "        print(\"[DEBUG]: exit {}() stop\".format(func.__name__))\n",
    "        print(\"[DEBUG]: elapse {}()\".format(stop - start))\n",
    "    return call\n",
    "\n",
    "@timeMasterDecorate\n",
    "def hello2():\n",
    "    print(\"Hello2\")\n",
    "\n",
    "hello2() # timeMasterDecorate(hello2)()"
   ]
  },
  {
   "cell_type": "code",
   "execution_count": 14,
   "id": "3d556764",
   "metadata": {},
   "outputs": [
    {
     "data": {
      "text/html": [
       "<pre style=\"white-space:pre;overflow-x:auto;line-height:normal;font-family:Menlo,'DejaVu Sans Mono',consolas,'Courier New',monospace\"><span style=\"font-weight: bold\">[</span>DEBUG<span style=\"font-weight: bold\">]</span>: enter <span style=\"color: #800080; text-decoration-color: #800080; font-weight: bold\">funcA</span><span style=\"font-weight: bold\">()</span> start\n",
       "</pre>\n"
      ],
      "text/plain": [
       "\u001b[1m[\u001b[0mDEBUG\u001b[1m]\u001b[0m: enter \u001b[1;35mfuncA\u001b[0m\u001b[1m(\u001b[0m\u001b[1m)\u001b[0m start\n"
      ]
     },
     "metadata": {},
     "output_type": "display_data"
    },
    {
     "data": {
      "text/html": [
       "<pre style=\"white-space:pre;overflow-x:auto;line-height:normal;font-family:Menlo,'DejaVu Sans Mono',consolas,'Courier New',monospace\">funcA\n",
       "</pre>\n"
      ],
      "text/plain": [
       "funcA\n"
      ]
     },
     "metadata": {},
     "output_type": "display_data"
    },
    {
     "data": {
      "text/html": [
       "<pre style=\"white-space:pre;overflow-x:auto;line-height:normal;font-family:Menlo,'DejaVu Sans Mono',consolas,'Courier New',monospace\"><span style=\"font-weight: bold\">[</span>DEBUG<span style=\"font-weight: bold\">]</span>: exit <span style=\"color: #800080; text-decoration-color: #800080; font-weight: bold\">funcA</span><span style=\"font-weight: bold\">()</span> stop\n",
       "</pre>\n"
      ],
      "text/plain": [
       "\u001b[1m[\u001b[0mDEBUG\u001b[1m]\u001b[0m: exit \u001b[1;35mfuncA\u001b[0m\u001b[1m(\u001b[0m\u001b[1m)\u001b[0m stop\n"
      ]
     },
     "metadata": {},
     "output_type": "display_data"
    },
    {
     "data": {
      "text/html": [
       "<pre style=\"white-space:pre;overflow-x:auto;line-height:normal;font-family:Menlo,'DejaVu Sans Mono',consolas,'Courier New',monospace\"><span style=\"font-weight: bold\">[</span>DEBUG<span style=\"font-weight: bold\">]</span>: elapse <span style=\"color: #800080; text-decoration-color: #800080; font-weight: bold\">0.0010268688201904297</span><span style=\"font-weight: bold\">()</span>\n",
       "</pre>\n"
      ],
      "text/plain": [
       "\u001b[1m[\u001b[0mDEBUG\u001b[1m]\u001b[0m: elapse \u001b[1;35m0.0010268688201904297\u001b[0m\u001b[1m(\u001b[0m\u001b[1m)\u001b[0m\n"
      ]
     },
     "metadata": {},
     "output_type": "display_data"
    }
   ],
   "source": [
    "# 4.3 装饰器传递参数\n",
    "import time\n",
    "def msgTimeMasterDecorate(msg):\n",
    "    def timeMasterDecorate(func):\n",
    "        def call():\n",
    "            print(\"[DEBUG]: enter {}() start\".format(func.__name__))\n",
    "            start = time.time()\n",
    "            func()\n",
    "            stop = time.time()\n",
    "            print(\"[DEBUG]: exit {}() stop\".format(func.__name__))\n",
    "            print(\"[DEBUG]: elapse {}()\".format(stop - start))\n",
    "        return call\n",
    "    return timeMasterDecorate\n",
    "\n",
    "@msgTimeMasterDecorate(msg=\"funcA\")\n",
    "def funcA():\n",
    "    print(\"funcA\")\n",
    "\n",
    "funcA()"
   ]
  },
  {
   "cell_type": "markdown",
   "id": "3fea352c",
   "metadata": {},
   "source": [
    "### lambda表达式"
   ]
  },
  {
   "cell_type": "code",
   "execution_count": 15,
   "id": "d0377cd3",
   "metadata": {},
   "outputs": [
    {
     "data": {
      "text/html": [
       "<pre style=\"white-space:pre;overflow-x:auto;line-height:normal;font-family:Menlo,'DejaVu Sans Mono',consolas,'Courier New',monospace\"><span style=\"font-weight: bold\">&lt;</span><span style=\"color: #ff00ff; text-decoration-color: #ff00ff; font-weight: bold\">function</span><span style=\"color: #000000; text-decoration-color: #000000\"> square1 at </span><span style=\"color: #008080; text-decoration-color: #008080; font-weight: bold\">0x7f5ac3b67d90</span><span style=\"font-weight: bold\">&gt;</span>\n",
       "</pre>\n"
      ],
      "text/plain": [
       "\u001b[1m<\u001b[0m\u001b[1;95mfunction\u001b[0m\u001b[39m square1 at \u001b[0m\u001b[1;36m0x7f5ac3b67d90\u001b[0m\u001b[1m>\u001b[0m\n"
      ]
     },
     "metadata": {},
     "output_type": "display_data"
    },
    {
     "data": {
      "text/html": [
       "<pre style=\"white-space:pre;overflow-x:auto;line-height:normal;font-family:Menlo,'DejaVu Sans Mono',consolas,'Courier New',monospace\"><span style=\"font-weight: bold\">&lt;</span><span style=\"color: #ff00ff; text-decoration-color: #ff00ff; font-weight: bold\">function</span><span style=\"color: #000000; text-decoration-color: #000000\"> &lt;lambda</span><span style=\"font-weight: bold\">&gt;</span> at <span style=\"color: #008080; text-decoration-color: #008080; font-weight: bold\">0x7f5ac3b67eb0</span>&gt;\n",
       "</pre>\n"
      ],
      "text/plain": [
       "\u001b[1m<\u001b[0m\u001b[1;95mfunction\u001b[0m\u001b[39m <lambda\u001b[0m\u001b[1m>\u001b[0m at \u001b[1;36m0x7f5ac3b67eb0\u001b[0m>\n"
      ]
     },
     "metadata": {},
     "output_type": "display_data"
    }
   ],
   "source": [
    "# 5.1 定义lambda表达式\n",
    "\n",
    "def square1(x):\n",
    "    return x * x\n",
    "\n",
    "square2 = lambda y : y * y\n",
    "\n",
    "print(square1)\n",
    "print(square2)"
   ]
  },
  {
   "cell_type": "code",
   "execution_count": 16,
   "id": "94d582af",
   "metadata": {},
   "outputs": [
    {
     "data": {
      "text/plain": [
       "4"
      ]
     },
     "execution_count": 16,
     "metadata": {},
     "output_type": "execute_result"
    }
   ],
   "source": [
    "# 5.2 lambda的优秀之处\n",
    "\n",
    "L = [lambda x : x * x, 2, 3]\n",
    "\n",
    "L[0](L[1])"
   ]
  },
  {
   "cell_type": "code",
   "execution_count": 17,
   "id": "c2a0e27b",
   "metadata": {},
   "outputs": [
    {
     "data": {
      "text/plain": [
       "[104, 101, 108, 108, 111, 87, 111, 114, 108, 100]"
      ]
     },
     "execution_count": 17,
     "metadata": {},
     "output_type": "execute_result"
    }
   ],
   "source": [
    "mapText = map(lambda x : ord(x), \"helloWorld\")\n",
    "list(mapText)"
   ]
  },
  {
   "cell_type": "code",
   "execution_count": 18,
   "id": "8fdc9692",
   "metadata": {},
   "outputs": [
    {
     "data": {
      "text/plain": [
       "[1, 3, 5, 7, 9]"
      ]
     },
     "execution_count": 18,
     "metadata": {},
     "output_type": "execute_result"
    }
   ],
   "source": [
    "# 打印出10以内的奇数\n",
    "list(filter(lambda x : x % 2, range(10))) "
   ]
  },
  {
   "cell_type": "markdown",
   "id": "77e0e30b",
   "metadata": {},
   "source": [
    "### 生成器"
   ]
  },
  {
   "cell_type": "code",
   "execution_count": 19,
   "id": "ea4eb32b",
   "metadata": {},
   "outputs": [
    {
     "data": {
      "text/html": [
       "<pre style=\"white-space:pre;overflow-x:auto;line-height:normal;font-family:Menlo,'DejaVu Sans Mono',consolas,'Courier New',monospace\"><span style=\"font-weight: bold\">&lt;</span><span style=\"color: #ff00ff; text-decoration-color: #ff00ff; font-weight: bold\">function</span><span style=\"color: #000000; text-decoration-color: #000000\"> counter at </span><span style=\"color: #008080; text-decoration-color: #008080; font-weight: bold\">0x7f5ac3bbcca0</span><span style=\"font-weight: bold\">&gt;</span>\n",
       "</pre>\n"
      ],
      "text/plain": [
       "\u001b[1m<\u001b[0m\u001b[1;95mfunction\u001b[0m\u001b[39m counter at \u001b[0m\u001b[1;36m0x7f5ac3bbcca0\u001b[0m\u001b[1m>\u001b[0m\n"
      ]
     },
     "metadata": {},
     "output_type": "display_data"
    }
   ],
   "source": [
    "# 6.1 定义生成器\n",
    "\n",
    "def counter():\n",
    "    i = 0\n",
    "    while i < 5:\n",
    "        yield i\n",
    "        i += 1\n",
    "        \n",
    "# 将return 换成为yield\n",
    "print(counter)"
   ]
  },
  {
   "cell_type": "code",
   "execution_count": 20,
   "id": "4815868b",
   "metadata": {},
   "outputs": [
    {
     "data": {
      "text/html": [
       "<pre style=\"white-space:pre;overflow-x:auto;line-height:normal;font-family:Menlo,'DejaVu Sans Mono',consolas,'Courier New',monospace\"><span style=\"color: #008080; text-decoration-color: #008080; font-weight: bold\">0</span>\n",
       "</pre>\n"
      ],
      "text/plain": [
       "\u001b[1;36m0\u001b[0m\n"
      ]
     },
     "metadata": {},
     "output_type": "display_data"
    },
    {
     "data": {
      "text/html": [
       "<pre style=\"white-space:pre;overflow-x:auto;line-height:normal;font-family:Menlo,'DejaVu Sans Mono',consolas,'Courier New',monospace\"><span style=\"color: #008080; text-decoration-color: #008080; font-weight: bold\">1</span>\n",
       "</pre>\n"
      ],
      "text/plain": [
       "\u001b[1;36m1\u001b[0m\n"
      ]
     },
     "metadata": {},
     "output_type": "display_data"
    },
    {
     "data": {
      "text/html": [
       "<pre style=\"white-space:pre;overflow-x:auto;line-height:normal;font-family:Menlo,'DejaVu Sans Mono',consolas,'Courier New',monospace\"><span style=\"color: #008080; text-decoration-color: #008080; font-weight: bold\">2</span>\n",
       "</pre>\n"
      ],
      "text/plain": [
       "\u001b[1;36m2\u001b[0m\n"
      ]
     },
     "metadata": {},
     "output_type": "display_data"
    },
    {
     "data": {
      "text/html": [
       "<pre style=\"white-space:pre;overflow-x:auto;line-height:normal;font-family:Menlo,'DejaVu Sans Mono',consolas,'Courier New',monospace\"><span style=\"color: #008080; text-decoration-color: #008080; font-weight: bold\">3</span>\n",
       "</pre>\n"
      ],
      "text/plain": [
       "\u001b[1;36m3\u001b[0m\n"
      ]
     },
     "metadata": {},
     "output_type": "display_data"
    },
    {
     "data": {
      "text/html": [
       "<pre style=\"white-space:pre;overflow-x:auto;line-height:normal;font-family:Menlo,'DejaVu Sans Mono',consolas,'Courier New',monospace\"><span style=\"color: #008080; text-decoration-color: #008080; font-weight: bold\">4</span>\n",
       "</pre>\n"
      ],
      "text/plain": [
       "\u001b[1;36m4\u001b[0m\n"
      ]
     },
     "metadata": {},
     "output_type": "display_data"
    }
   ],
   "source": [
    "# 6.2 使用生成器\n",
    "for i in counter():\n",
    "    print(i)"
   ]
  },
  {
   "cell_type": "code",
   "execution_count": 21,
   "id": "12b06650",
   "metadata": {},
   "outputs": [],
   "source": [
    "# 6.3 生成器支持next迭代器\n",
    "c = counter()"
   ]
  },
  {
   "cell_type": "code",
   "execution_count": 22,
   "id": "793d32c7",
   "metadata": {},
   "outputs": [
    {
     "data": {
      "text/plain": [
       "0"
      ]
     },
     "execution_count": 22,
     "metadata": {},
     "output_type": "execute_result"
    }
   ],
   "source": [
    "# 6.3.1 生成器支持next迭代器\n",
    "next(c)"
   ]
  },
  {
   "cell_type": "code",
   "execution_count": 23,
   "id": "4c15aade",
   "metadata": {},
   "outputs": [
    {
     "data": {
      "text/plain": [
       "1"
      ]
     },
     "execution_count": 23,
     "metadata": {},
     "output_type": "execute_result"
    }
   ],
   "source": [
    "# 6.3.2 生成器支持next迭代器\n",
    "next(c)"
   ]
  },
  {
   "cell_type": "code",
   "execution_count": 24,
   "id": "459b4afc",
   "metadata": {},
   "outputs": [],
   "source": [
    "# 6.4.1 计算斐波那契数列\n",
    "def fib():\n",
    "    back1, back2 = 0, 1\n",
    "    while True:\n",
    "        yield back1\n",
    "        back1, back2  = back2, back1 + back2\n",
    "f = fib()"
   ]
  },
  {
   "cell_type": "code",
   "execution_count": 25,
   "id": "8fa1880f",
   "metadata": {},
   "outputs": [
    {
     "data": {
      "text/html": [
       "<pre style=\"white-space:pre;overflow-x:auto;line-height:normal;font-family:Menlo,'DejaVu Sans Mono',consolas,'Courier New',monospace\"><span style=\"color: #008080; text-decoration-color: #008080; font-weight: bold\">0</span>\n",
       "</pre>\n"
      ],
      "text/plain": [
       "\u001b[1;36m0\u001b[0m\n"
      ]
     },
     "metadata": {},
     "output_type": "display_data"
    },
    {
     "data": {
      "text/html": [
       "<pre style=\"white-space:pre;overflow-x:auto;line-height:normal;font-family:Menlo,'DejaVu Sans Mono',consolas,'Courier New',monospace\"><span style=\"color: #008080; text-decoration-color: #008080; font-weight: bold\">1</span>\n",
       "</pre>\n"
      ],
      "text/plain": [
       "\u001b[1;36m1\u001b[0m\n"
      ]
     },
     "metadata": {},
     "output_type": "display_data"
    },
    {
     "data": {
      "text/html": [
       "<pre style=\"white-space:pre;overflow-x:auto;line-height:normal;font-family:Menlo,'DejaVu Sans Mono',consolas,'Courier New',monospace\"><span style=\"color: #008080; text-decoration-color: #008080; font-weight: bold\">1</span>\n",
       "</pre>\n"
      ],
      "text/plain": [
       "\u001b[1;36m1\u001b[0m\n"
      ]
     },
     "metadata": {},
     "output_type": "display_data"
    },
    {
     "data": {
      "text/html": [
       "<pre style=\"white-space:pre;overflow-x:auto;line-height:normal;font-family:Menlo,'DejaVu Sans Mono',consolas,'Courier New',monospace\"><span style=\"color: #008080; text-decoration-color: #008080; font-weight: bold\">2</span>\n",
       "</pre>\n"
      ],
      "text/plain": [
       "\u001b[1;36m2\u001b[0m\n"
      ]
     },
     "metadata": {},
     "output_type": "display_data"
    },
    {
     "data": {
      "text/html": [
       "<pre style=\"white-space:pre;overflow-x:auto;line-height:normal;font-family:Menlo,'DejaVu Sans Mono',consolas,'Courier New',monospace\"><span style=\"color: #008080; text-decoration-color: #008080; font-weight: bold\">3</span>\n",
       "</pre>\n"
      ],
      "text/plain": [
       "\u001b[1;36m3\u001b[0m\n"
      ]
     },
     "metadata": {},
     "output_type": "display_data"
    },
    {
     "data": {
      "text/html": [
       "<pre style=\"white-space:pre;overflow-x:auto;line-height:normal;font-family:Menlo,'DejaVu Sans Mono',consolas,'Courier New',monospace\"><span style=\"color: #008080; text-decoration-color: #008080; font-weight: bold\">5</span>\n",
       "</pre>\n"
      ],
      "text/plain": [
       "\u001b[1;36m5\u001b[0m\n"
      ]
     },
     "metadata": {},
     "output_type": "display_data"
    },
    {
     "data": {
      "text/html": [
       "<pre style=\"white-space:pre;overflow-x:auto;line-height:normal;font-family:Menlo,'DejaVu Sans Mono',consolas,'Courier New',monospace\"><span style=\"color: #008080; text-decoration-color: #008080; font-weight: bold\">8</span>\n",
       "</pre>\n"
      ],
      "text/plain": [
       "\u001b[1;36m8\u001b[0m\n"
      ]
     },
     "metadata": {},
     "output_type": "display_data"
    },
    {
     "data": {
      "text/html": [
       "<pre style=\"white-space:pre;overflow-x:auto;line-height:normal;font-family:Menlo,'DejaVu Sans Mono',consolas,'Courier New',monospace\"><span style=\"color: #008080; text-decoration-color: #008080; font-weight: bold\">13</span>\n",
       "</pre>\n"
      ],
      "text/plain": [
       "\u001b[1;36m13\u001b[0m\n"
      ]
     },
     "metadata": {},
     "output_type": "display_data"
    },
    {
     "data": {
      "text/html": [
       "<pre style=\"white-space:pre;overflow-x:auto;line-height:normal;font-family:Menlo,'DejaVu Sans Mono',consolas,'Courier New',monospace\"><span style=\"color: #008080; text-decoration-color: #008080; font-weight: bold\">21</span>\n",
       "</pre>\n"
      ],
      "text/plain": [
       "\u001b[1;36m21\u001b[0m\n"
      ]
     },
     "metadata": {},
     "output_type": "display_data"
    },
    {
     "data": {
      "text/html": [
       "<pre style=\"white-space:pre;overflow-x:auto;line-height:normal;font-family:Menlo,'DejaVu Sans Mono',consolas,'Courier New',monospace\"><span style=\"color: #008080; text-decoration-color: #008080; font-weight: bold\">34</span>\n",
       "</pre>\n"
      ],
      "text/plain": [
       "\u001b[1;36m34\u001b[0m\n"
      ]
     },
     "metadata": {},
     "output_type": "display_data"
    }
   ],
   "source": [
    "# 6.4.2 测试生成情况\n",
    "i = 0\n",
    "while i < 10:\n",
    "    i += 1\n",
    "    print(next(f))"
   ]
  },
  {
   "cell_type": "code",
   "execution_count": 26,
   "id": "31125116",
   "metadata": {},
   "outputs": [
    {
     "data": {
      "text/html": [
       "<pre style=\"white-space:pre;overflow-x:auto;line-height:normal;font-family:Menlo,'DejaVu Sans Mono',consolas,'Courier New',monospace\"><span style=\"font-weight: bold\">&lt;</span><span style=\"color: #ff00ff; text-decoration-color: #ff00ff; font-weight: bold\">generator</span><span style=\"color: #000000; text-decoration-color: #000000\"> object &lt;genexpr</span><span style=\"font-weight: bold\">&gt;</span> at <span style=\"color: #008080; text-decoration-color: #008080; font-weight: bold\">0x7f5ac3bc83c0</span>&gt; <span style=\"font-weight: bold\">&lt;</span><span style=\"color: #ff00ff; text-decoration-color: #ff00ff; font-weight: bold\">class</span><span style=\"color: #000000; text-decoration-color: #000000\"> </span><span style=\"color: #008000; text-decoration-color: #008000\">'generator'</span><span style=\"font-weight: bold\">&gt;</span>\n",
       "</pre>\n"
      ],
      "text/plain": [
       "\u001b[1m<\u001b[0m\u001b[1;95mgenerator\u001b[0m\u001b[39m object <genexpr\u001b[0m\u001b[1m>\u001b[0m at \u001b[1;36m0x7f5ac3bc83c0\u001b[0m> \u001b[1m<\u001b[0m\u001b[1;95mclass\u001b[0m\u001b[39m \u001b[0m\u001b[32m'generator'\u001b[0m\u001b[1m>\u001b[0m\n"
      ]
     },
     "metadata": {},
     "output_type": "display_data"
    }
   ],
   "source": [
    "# 6.5.1 生成器表达式\n",
    "t = (i ** 2 for i in range(10))\n",
    "print(t, type(t))"
   ]
  },
  {
   "cell_type": "code",
   "execution_count": 27,
   "id": "d6ea1fb2",
   "metadata": {},
   "outputs": [
    {
     "data": {
      "text/plain": [
       "0"
      ]
     },
     "execution_count": 27,
     "metadata": {},
     "output_type": "execute_result"
    }
   ],
   "source": [
    "# 6.5.2 生成器表达式\n",
    "next(t)"
   ]
  },
  {
   "cell_type": "code",
   "execution_count": 28,
   "id": "c414d17e",
   "metadata": {},
   "outputs": [
    {
     "data": {
      "text/plain": [
       "1"
      ]
     },
     "execution_count": 28,
     "metadata": {},
     "output_type": "execute_result"
    }
   ],
   "source": [
    "# 6.5.2 生成器表达式\n",
    "next(t)"
   ]
  },
  {
   "cell_type": "code",
   "execution_count": 29,
   "id": "bb1e2a93",
   "metadata": {},
   "outputs": [
    {
     "data": {
      "text/html": [
       "<pre style=\"white-space:pre;overflow-x:auto;line-height:normal;font-family:Menlo,'DejaVu Sans Mono',consolas,'Courier New',monospace\"><span style=\"font-weight: bold\">[</span><span style=\"color: #008080; text-decoration-color: #008080; font-weight: bold\">0</span>, <span style=\"color: #008080; text-decoration-color: #008080; font-weight: bold\">1</span>, <span style=\"color: #008080; text-decoration-color: #008080; font-weight: bold\">4</span>, <span style=\"color: #008080; text-decoration-color: #008080; font-weight: bold\">9</span>, <span style=\"color: #008080; text-decoration-color: #008080; font-weight: bold\">16</span>, <span style=\"color: #008080; text-decoration-color: #008080; font-weight: bold\">25</span>, <span style=\"color: #008080; text-decoration-color: #008080; font-weight: bold\">36</span>, <span style=\"color: #008080; text-decoration-color: #008080; font-weight: bold\">49</span>, <span style=\"color: #008080; text-decoration-color: #008080; font-weight: bold\">64</span>, <span style=\"color: #008080; text-decoration-color: #008080; font-weight: bold\">81</span><span style=\"font-weight: bold\">]</span>\n",
       "<span style=\"font-weight: bold\">&lt;</span><span style=\"color: #ff00ff; text-decoration-color: #ff00ff; font-weight: bold\">generator</span><span style=\"color: #000000; text-decoration-color: #000000\"> object &lt;genexpr</span><span style=\"font-weight: bold\">&gt;</span> at <span style=\"color: #008080; text-decoration-color: #008080; font-weight: bold\">0x7f5ac3bc86d0</span>&gt;\n",
       "</pre>\n"
      ],
      "text/plain": [
       "\u001b[1m[\u001b[0m\u001b[1;36m0\u001b[0m, \u001b[1;36m1\u001b[0m, \u001b[1;36m4\u001b[0m, \u001b[1;36m9\u001b[0m, \u001b[1;36m16\u001b[0m, \u001b[1;36m25\u001b[0m, \u001b[1;36m36\u001b[0m, \u001b[1;36m49\u001b[0m, \u001b[1;36m64\u001b[0m, \u001b[1;36m81\u001b[0m\u001b[1m]\u001b[0m\n",
       "\u001b[1m<\u001b[0m\u001b[1;95mgenerator\u001b[0m\u001b[39m object <genexpr\u001b[0m\u001b[1m>\u001b[0m at \u001b[1;36m0x7f5ac3bc86d0\u001b[0m>\n"
      ]
     },
     "metadata": {},
     "output_type": "display_data"
    }
   ],
   "source": [
    "# 列表推导式与生成器表达式\n",
    "t = (i ** 2 for i in range(10))\n",
    "l = [i ** 2 for i in range(10)]\n",
    "print(l, t)"
   ]
  },
  {
   "cell_type": "code",
   "execution_count": 30,
   "id": "363813be",
   "metadata": {},
   "outputs": [
    {
     "name": "stdout",
     "output_type": "stream",
     "text": [
      "Help on built-in function max in module builtins:\n",
      "\n",
      "max(...)\n",
      "    max(iterable, *[, default=obj, key=func]) -> value\n",
      "    max(arg1, arg2, *args, *[, key=func]) -> value\n",
      "    \n",
      "    With a single iterable argument, return its biggest item. The\n",
      "    default keyword-only argument specifies an object to return if\n",
      "    the provided iterable is empty.\n",
      "    With two or more arguments, return the largest argument.\n",
      "\n"
     ]
    }
   ],
   "source": [
    "# 7.1 函数文档\n",
    "help(max)"
   ]
  },
  {
   "cell_type": "code",
   "execution_count": 31,
   "id": "10d7414f",
   "metadata": {},
   "outputs": [],
   "source": [
    "# 7.2 定义函数文档\n",
    "def hello(s):\n",
    "    \"\"\"\n",
    "    功能: 打印欢迎语\n",
    "    参数:\n",
    "        - s 打印的字符串\n",
    "    返回值:\n",
    "        - 打印结果\n",
    "    \"\"\"\n",
    "    print(s)\n",
    "    return True"
   ]
  },
  {
   "cell_type": "code",
   "execution_count": 32,
   "id": "56131da7",
   "metadata": {},
   "outputs": [
    {
     "name": "stdout",
     "output_type": "stream",
     "text": [
      "Help on function hello in module __main__:\n",
      "\n",
      "hello(s)\n",
      "    功能: 打印欢迎语\n",
      "    参数:\n",
      "        - s 打印的字符串\n",
      "    返回值:\n",
      "        - 打印结果\n",
      "\n"
     ]
    }
   ],
   "source": [
    "help(hello)"
   ]
  },
  {
   "cell_type": "code",
   "execution_count": 33,
   "id": "1a1b7b92",
   "metadata": {},
   "outputs": [],
   "source": [
    "# 8 类型注释\n",
    "def times(s:str, n:int) -> str:\n",
    "    return s * n"
   ]
  },
  {
   "cell_type": "code",
   "execution_count": 34,
   "id": "f361cfb3",
   "metadata": {},
   "outputs": [
    {
     "data": {
      "text/plain": [
       "'hellohellohello'"
      ]
     },
     "execution_count": 34,
     "metadata": {},
     "output_type": "execute_result"
    }
   ],
   "source": [
    "times('hello', 3)"
   ]
  },
  {
   "cell_type": "code",
   "execution_count": 35,
   "id": "42e24493",
   "metadata": {},
   "outputs": [],
   "source": [
    "# 9 内省\n",
    "\n",
    "def hello(s):\n",
    "    \"\"\"\n",
    "    功能: 打印欢迎语\n",
    "    参数:\n",
    "        - s 打印的字符串\n",
    "    返回值:\n",
    "        - 打印结果\n",
    "    \"\"\"\n",
    "    print(s)\n",
    "    return True\n",
    "\n",
    "f = hello"
   ]
  },
  {
   "cell_type": "code",
   "execution_count": 36,
   "id": "77554054",
   "metadata": {},
   "outputs": [
    {
     "data": {
      "text/plain": [
       "'hello'"
      ]
     },
     "execution_count": 36,
     "metadata": {},
     "output_type": "execute_result"
    }
   ],
   "source": [
    "# 9.1 __name__ 确定函数名字\n",
    "f.__name__"
   ]
  },
  {
   "cell_type": "code",
   "execution_count": 37,
   "id": "93312748",
   "metadata": {},
   "outputs": [
    {
     "data": {
      "text/plain": [
       "{}"
      ]
     },
     "execution_count": 37,
     "metadata": {},
     "output_type": "execute_result"
    }
   ],
   "source": [
    "# 9.2 __annotations__ 查看函数类型注释\n",
    "f.__annotations__"
   ]
  },
  {
   "cell_type": "code",
   "execution_count": 38,
   "id": "0e2ea6f0",
   "metadata": {},
   "outputs": [
    {
     "data": {
      "text/html": [
       "<pre style=\"white-space:pre;overflow-x:auto;line-height:normal;font-family:Menlo,'DejaVu Sans Mono',consolas,'Courier New',monospace\">\n",
       "    功能: 打印欢迎语\n",
       "    参数:\n",
       "        - s 打印的字符串\n",
       "    返回值:\n",
       "        - 打印结果\n",
       "    \n",
       "</pre>\n"
      ],
      "text/plain": [
       "\n",
       "    功能: 打印欢迎语\n",
       "    参数:\n",
       "        - s 打印的字符串\n",
       "    返回值:\n",
       "        - 打印结果\n",
       "    \n"
      ]
     },
     "metadata": {},
     "output_type": "display_data"
    }
   ],
   "source": [
    "# 9.3 __annotations__ 查看函数类型注释\n",
    "print(f.__doc__)"
   ]
  },
  {
   "cell_type": "code",
   "execution_count": 39,
   "id": "0404ac78",
   "metadata": {},
   "outputs": [],
   "source": [
    "# 10 高阶函数\n",
    "import functools"
   ]
  },
  {
   "cell_type": "code",
   "execution_count": 40,
   "id": "8b86f3ea",
   "metadata": {},
   "outputs": [
    {
     "data": {
      "text/plain": [
       "10"
      ]
     },
     "execution_count": 40,
     "metadata": {},
     "output_type": "execute_result"
    }
   ],
   "source": [
    "# 10.1 reduce\n",
    "def add(x, y):\n",
    "    return x + y\n",
    "\n",
    "functools.reduce(add, [1, 2, 3, 4]) # 1 + 2 + 3 + 4"
   ]
  },
  {
   "cell_type": "code",
   "execution_count": 41,
   "id": "c53eba74",
   "metadata": {},
   "outputs": [
    {
     "data": {
      "text/plain": [
       "10"
      ]
     },
     "execution_count": 41,
     "metadata": {},
     "output_type": "execute_result"
    }
   ],
   "source": [
    "functools.reduce(lambda x, y : x + y, [1, 2, 3, 4]) # 1 + 2 + 3 + 4"
   ]
  },
  {
   "cell_type": "code",
   "execution_count": 42,
   "id": "b8106b40",
   "metadata": {},
   "outputs": [
    {
     "data": {
      "text/plain": [
       "100"
      ]
     },
     "execution_count": 42,
     "metadata": {},
     "output_type": "execute_result"
    }
   ],
   "source": [
    "# 10.2 偏函数\n",
    "square = functools.partial(pow, exp = 2)\n",
    "square(10)"
   ]
  },
  {
   "cell_type": "markdown",
   "id": "4575566a",
   "metadata": {},
   "source": [
    "## 面向对象"
   ]
  },
  {
   "cell_type": "code",
   "execution_count": 43,
   "id": "8c859ecb",
   "metadata": {},
   "outputs": [],
   "source": [
    "# 1.1 定义类\n",
    "class clsTest:\n",
    "    clsNum = 0\n",
    "    \n",
    "    def clsFunc(self):\n",
    "        print(\"执行方法\")"
   ]
  },
  {
   "cell_type": "code",
   "execution_count": 44,
   "id": "3af0cf51",
   "metadata": {},
   "outputs": [
    {
     "data": {
      "text/html": [
       "<pre style=\"white-space:pre;overflow-x:auto;line-height:normal;font-family:Menlo,'DejaVu Sans Mono',consolas,'Courier New',monospace\">执行方法\n",
       "</pre>\n"
      ],
      "text/plain": [
       "执行方法\n"
      ]
     },
     "metadata": {},
     "output_type": "display_data"
    }
   ],
   "source": [
    "# 1.2 实例化对象\n",
    "t = clsTest()\n",
    "\n",
    "t.clsFunc()"
   ]
  },
  {
   "cell_type": "code",
   "execution_count": 45,
   "id": "7ffd1bc4",
   "metadata": {},
   "outputs": [
    {
     "data": {
      "text/html": [
       "<pre style=\"white-space:pre;overflow-x:auto;line-height:normal;font-family:Menlo,'DejaVu Sans Mono',consolas,'Courier New',monospace\">新增属性 <span style=\"color: #008080; text-decoration-color: #008080; font-weight: bold\">12</span>\n",
       "</pre>\n"
      ],
      "text/plain": [
       "新增属性 \u001b[1;36m12\u001b[0m\n"
      ]
     },
     "metadata": {},
     "output_type": "display_data"
    }
   ],
   "source": [
    "# 3 添加属性\n",
    "t.clsMem = 12\n",
    "print(\"新增属性\", t.clsMem)"
   ]
  },
  {
   "cell_type": "code",
   "execution_count": 46,
   "id": "4f5affef",
   "metadata": {},
   "outputs": [
    {
     "data": {
      "text/plain": [
       "__main__.clsTest"
      ]
     },
     "execution_count": 46,
     "metadata": {},
     "output_type": "execute_result"
    }
   ],
   "source": [
    "type(t)"
   ]
  },
  {
   "cell_type": "code",
   "execution_count": 47,
   "id": "d3d04130",
   "metadata": {},
   "outputs": [
    {
     "data": {
      "text/html": [
       "<pre style=\"white-space:pre;overflow-x:auto;line-height:normal;font-family:Menlo,'DejaVu Sans Mono',consolas,'Courier New',monospace\"><span style=\"font-weight: bold\">&lt;</span><span style=\"color: #ff00ff; text-decoration-color: #ff00ff; font-weight: bold\">__main__.C</span><span style=\"color: #000000; text-decoration-color: #000000\"> object at </span><span style=\"color: #008080; text-decoration-color: #008080; font-weight: bold\">0x7f5ac3be0f10</span><span style=\"font-weight: bold\">&gt;</span> <span style=\"color: #008080; text-decoration-color: #008080; font-weight: bold\">140027807797008</span>\n",
       "</pre>\n"
      ],
      "text/plain": [
       "\u001b[1m<\u001b[0m\u001b[1;95m__main__.C\u001b[0m\u001b[39m object at \u001b[0m\u001b[1;36m0x7f5ac3be0f10\u001b[0m\u001b[1m>\u001b[0m \u001b[1;36m140027807797008\u001b[0m\n"
      ]
     },
     "metadata": {},
     "output_type": "display_data"
    },
    {
     "data": {
      "text/html": [
       "<pre style=\"white-space:pre;overflow-x:auto;line-height:normal;font-family:Menlo,'DejaVu Sans Mono',consolas,'Courier New',monospace\"><span style=\"font-weight: bold\">&lt;</span><span style=\"color: #ff00ff; text-decoration-color: #ff00ff; font-weight: bold\">__main__.C</span><span style=\"color: #000000; text-decoration-color: #000000\"> object at </span><span style=\"color: #008080; text-decoration-color: #008080; font-weight: bold\">0x7f5ac3be1db0</span><span style=\"font-weight: bold\">&gt;</span> <span style=\"color: #008080; text-decoration-color: #008080; font-weight: bold\">140027807800752</span>\n",
       "</pre>\n"
      ],
      "text/plain": [
       "\u001b[1m<\u001b[0m\u001b[1;95m__main__.C\u001b[0m\u001b[39m object at \u001b[0m\u001b[1;36m0x7f5ac3be1db0\u001b[0m\u001b[1m>\u001b[0m \u001b[1;36m140027807800752\u001b[0m\n"
      ]
     },
     "metadata": {},
     "output_type": "display_data"
    }
   ],
   "source": [
    "# 4 self参数\n",
    "class C:\n",
    "    def get_self(self):\n",
    "        return self\n",
    "    \n",
    "t1 = C()\n",
    "t2 = C()\n",
    "\n",
    "print(t1.get_self(), id(t1))\n",
    "print(t2.get_self(), id(t2))"
   ]
  },
  {
   "cell_type": "code",
   "execution_count": 48,
   "id": "96416c2c",
   "metadata": {},
   "outputs": [
    {
     "data": {
      "text/html": [
       "<pre style=\"white-space:pre;overflow-x:auto;line-height:normal;font-family:Menlo,'DejaVu Sans Mono',consolas,'Courier New',monospace\">hello\n",
       "</pre>\n"
      ],
      "text/plain": [
       "hello\n"
      ]
     },
     "metadata": {},
     "output_type": "display_data"
    }
   ],
   "source": [
    "# 5 继承\n",
    "# 继承语法\n",
    "# class 派生类(基类)\n",
    "\n",
    "# 定义一个基类\n",
    "class ClassBase:\n",
    "    def hello(self):\n",
    "        print(\"hello\")\n",
    "        \n",
    "# 派生类继承\n",
    "class ClassDerived(ClassBase):\n",
    "    pass\n",
    "\n",
    "c = ClassDerived()\n",
    "c.hello()"
   ]
  },
  {
   "cell_type": "code",
   "execution_count": 49,
   "id": "b3529d5b",
   "metadata": {},
   "outputs": [
    {
     "data": {
      "text/html": [
       "<pre style=\"white-space:pre;overflow-x:auto;line-height:normal;font-family:Menlo,'DejaVu Sans Mono',consolas,'Courier New',monospace\"><span style=\"color: #008080; text-decoration-color: #008080; font-weight: bold\">10</span> <span style=\"color: #008080; text-decoration-color: #008080; font-weight: bold\">11</span>\n",
       "</pre>\n"
      ],
      "text/plain": [
       "\u001b[1;36m10\u001b[0m \u001b[1;36m11\u001b[0m\n"
      ]
     },
     "metadata": {},
     "output_type": "display_data"
    },
    {
     "data": {
      "text/html": [
       "<pre style=\"white-space:pre;overflow-x:auto;line-height:normal;font-family:Menlo,'DejaVu Sans Mono',consolas,'Courier New',monospace\">我是A\n",
       "</pre>\n"
      ],
      "text/plain": [
       "我是A\n"
      ]
     },
     "metadata": {},
     "output_type": "display_data"
    },
    {
     "data": {
      "text/html": [
       "<pre style=\"white-space:pre;overflow-x:auto;line-height:normal;font-family:Menlo,'DejaVu Sans Mono',consolas,'Courier New',monospace\">我是B\n",
       "</pre>\n"
      ],
      "text/plain": [
       "我是B\n"
      ]
     },
     "metadata": {},
     "output_type": "display_data"
    }
   ],
   "source": [
    "# 6 继承的顺序\n",
    "# 继承是从左向右执行的，\n",
    "# 先使用左边的，找不到在找右边的\n",
    "\n",
    "class A:\n",
    "    x = 10\n",
    "    def hello(self):\n",
    "        print(\"我是A\")\n",
    "\n",
    "class B:\n",
    "    x = 11\n",
    "    def hello(self):\n",
    "        print(\"我是B\")\n",
    "\n",
    "class C(A, B):\n",
    "    pass\n",
    "\n",
    "class D(B, A):\n",
    "    pass\n",
    "\n",
    "c = C()\n",
    "d = D()\n",
    "\n",
    "print(c.x, d.x)\n",
    "\n",
    "c.hello()\n",
    "d.hello()"
   ]
  },
  {
   "cell_type": "code",
   "execution_count": 50,
   "id": "e051fb37",
   "metadata": {},
   "outputs": [
    {
     "data": {
      "text/html": [
       "<pre style=\"white-space:pre;overflow-x:auto;line-height:normal;font-family:Menlo,'DejaVu Sans Mono',consolas,'Courier New',monospace\">我是A17\n",
       "</pre>\n"
      ],
      "text/plain": [
       "我是A17\n"
      ]
     },
     "metadata": {},
     "output_type": "display_data"
    },
    {
     "data": {
      "text/html": [
       "<pre style=\"white-space:pre;overflow-x:auto;line-height:normal;font-family:Menlo,'DejaVu Sans Mono',consolas,'Courier New',monospace\">我是B17\n",
       "</pre>\n"
      ],
      "text/plain": [
       "我是B17\n"
      ]
     },
     "metadata": {},
     "output_type": "display_data"
    }
   ],
   "source": [
    "# 7 组合语法\n",
    "\n",
    "class A17:\n",
    "    x = 10\n",
    "    def hello(self):\n",
    "        print(\"我是A17\")\n",
    "\n",
    "class B17:\n",
    "    x = 11\n",
    "    def hello(self):\n",
    "        print(\"我是B17\")\n",
    "\n",
    "class C17:\n",
    "    a = A17()\n",
    "    b = B17()\n",
    "    def hello(self):\n",
    "        self.a.hello()\n",
    "        self.b.hello()\n",
    "        return\n",
    "    pass\n",
    "\n",
    "c17 = C17()\n",
    "c17.hello()"
   ]
  },
  {
   "cell_type": "code",
   "execution_count": 51,
   "id": "e2ef831f",
   "metadata": {},
   "outputs": [],
   "source": [
    "# 8 绑定语法"
   ]
  },
  {
   "cell_type": "code",
   "execution_count": 52,
   "id": "59eeca7a",
   "metadata": {},
   "outputs": [],
   "source": [
    "# 9 构造函数"
   ]
  },
  {
   "cell_type": "code",
   "execution_count": 53,
   "id": "303cfd56",
   "metadata": {},
   "outputs": [],
   "source": [
    "# 重写"
   ]
  },
  {
   "cell_type": "code",
   "execution_count": 54,
   "id": "4323338e",
   "metadata": {},
   "outputs": [],
   "source": [
    "# 钻石继承"
   ]
  },
  {
   "cell_type": "code",
   "execution_count": 55,
   "id": "10d0910f",
   "metadata": {},
   "outputs": [],
   "source": [
    "# mixin"
   ]
  },
  {
   "cell_type": "code",
   "execution_count": 56,
   "id": "896a7c0c",
   "metadata": {},
   "outputs": [],
   "source": [
    "# 多态"
   ]
  },
  {
   "cell_type": "code",
   "execution_count": 57,
   "id": "e494807f",
   "metadata": {},
   "outputs": [],
   "source": [
    "# 私有变量"
   ]
  },
  {
   "cell_type": "code",
   "execution_count": 58,
   "id": "dac92734",
   "metadata": {},
   "outputs": [],
   "source": [
    "# 魔法方法"
   ]
  },
  {
   "cell_type": "code",
   "execution_count": 59,
   "id": "53400734",
   "metadata": {},
   "outputs": [],
   "source": [
    "# 迭代协议"
   ]
  },
  {
   "cell_type": "code",
   "execution_count": 60,
   "id": "a3dd7858",
   "metadata": {},
   "outputs": [],
   "source": [
    "# 代偿"
   ]
  },
  {
   "cell_type": "code",
   "execution_count": 61,
   "id": "a6f449b6",
   "metadata": {},
   "outputs": [],
   "source": [
    "# 属性机制property"
   ]
  },
  {
   "cell_type": "code",
   "execution_count": 62,
   "id": "18b8dda5",
   "metadata": {},
   "outputs": [],
   "source": [
    "# 类方法"
   ]
  },
  {
   "cell_type": "code",
   "execution_count": 63,
   "id": "a7ccaa11",
   "metadata": {},
   "outputs": [],
   "source": [
    "# 静态方法"
   ]
  },
  {
   "cell_type": "markdown",
   "id": "a3852b73",
   "metadata": {},
   "source": [
    "## sympy库"
   ]
  },
  {
   "cell_type": "code",
   "execution_count": 64,
   "id": "38f3f517",
   "metadata": {},
   "outputs": [
    {
     "data": {
      "text/latex": [
       "$\\displaystyle x^{2} + 2 x + 1$"
      ],
      "text/plain": [
       "x**2 + 2*x + 1"
      ]
     },
     "metadata": {},
     "output_type": "display_data"
    }
   ],
   "source": [
    "# 手动组合表达式\n",
    "x, y, z = symbols('x y z')\n",
    "f = expand((x + 1)**2)\n",
    "display(f)"
   ]
  },
  {
   "cell_type": "code",
   "execution_count": 65,
   "id": "c20f7832",
   "metadata": {},
   "outputs": [
    {
     "data": {
      "text/latex": [
       "$$\\int e^{x} \\cos{\\left(x \\right)}\\, dx = \\frac{e^{x} \\sin{\\left(x \\right)}}{2} + \\frac{e^{x} \\cos{\\left(x \\right)}}{2}$$"
      ],
      "text/plain": [
       "<IPython.core.display.Latex object>"
      ]
     },
     "metadata": {},
     "output_type": "display_data"
    }
   ],
   "source": [
    "int_x = Integral(cos(x)*exp(x), x)\n",
    "result = \"$${} = {}$$\".format(latex(int_x), latex(int_x.doit()))\n",
    "display(Latex(result))"
   ]
  },
  {
   "cell_type": "code",
   "execution_count": 66,
   "id": "2e9bab89",
   "metadata": {},
   "outputs": [
    {
     "data": {
      "text/latex": [
       "$$\\frac{d}{d x} e^{x} \\cos{\\left(x \\right)} = - e^{x} \\sin{\\left(x \\right)} + e^{x} \\cos{\\left(x \\right)}$$"
      ],
      "text/plain": [
       "<IPython.core.display.Latex object>"
      ]
     },
     "metadata": {},
     "output_type": "display_data"
    }
   ],
   "source": [
    "derv_x = Derivative(cos(x)*exp(x), x)\n",
    "result = \"$${} = {}$$\".format(latex(derv_x), latex(derv_x.doit()))\n",
    "display(Latex(result))"
   ]
  },
  {
   "cell_type": "code",
   "execution_count": null,
   "id": "4293f3c3",
   "metadata": {},
   "outputs": [],
   "source": []
  }
 ],
 "metadata": {
  "kernelspec": {
   "display_name": "Python 3 (ipykernel)",
   "language": "python",
   "name": "python3"
  },
  "language_info": {
   "codemirror_mode": {
    "name": "ipython",
    "version": 3
   },
   "file_extension": ".py",
   "mimetype": "text/x-python",
   "name": "python",
   "nbconvert_exporter": "python",
   "pygments_lexer": "ipython3",
   "version": "3.10.9"
  }
 },
 "nbformat": 4,
 "nbformat_minor": 5
}
