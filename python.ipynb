{
 "cells": [
  {
   "cell_type": "markdown",
   "id": "9d808bca",
   "metadata": {},
   "source": [
    "# python笔记"
   ]
  },
  {
   "cell_type": "code",
   "execution_count": 1,
   "id": "93fcc4da",
   "metadata": {},
   "outputs": [],
   "source": [
    "# 导入魔法命令\n",
    "%run helper.py\n",
    "\n",
    "# 内联图片\n",
    "%matplotlib inline"
   ]
  },
  {
   "cell_type": "markdown",
   "id": "f956323e",
   "metadata": {},
   "source": [
    "## Hello World"
   ]
  },
  {
   "cell_type": "code",
   "execution_count": 2,
   "id": "325fd8ab",
   "metadata": {},
   "outputs": [
    {
     "data": {
      "text/html": [
       "<pre style=\"white-space:pre;overflow-x:auto;line-height:normal;font-family:Menlo,'DejaVu Sans Mono',consolas,'Courier New',monospace\">Hello python\n",
       "</pre>\n"
      ],
      "text/plain": [
       "Hello python\n"
      ]
     },
     "metadata": {},
     "output_type": "display_data"
    }
   ],
   "source": [
    "print(\"Hello python\")"
   ]
  },
  {
   "cell_type": "code",
   "execution_count": 3,
   "id": "e7b30cb0",
   "metadata": {},
   "outputs": [
    {
     "name": "stdout",
     "output_type": "stream",
     "text": [
      "The Zen of Python, by Tim Peters\n",
      "\n",
      "Beautiful is better than ugly.\n",
      "Explicit is better than implicit.\n",
      "Simple is better than complex.\n",
      "Complex is better than complicated.\n",
      "Flat is better than nested.\n",
      "Sparse is better than dense.\n",
      "Readability counts.\n",
      "Special cases aren't special enough to break the rules.\n",
      "Although practicality beats purity.\n",
      "Errors should never pass silently.\n",
      "Unless explicitly silenced.\n",
      "In the face of ambiguity, refuse the temptation to guess.\n",
      "There should be one-- and preferably only one --obvious way to do it.\n",
      "Although that way may not be obvious at first unless you're Dutch.\n",
      "Now is better than never.\n",
      "Although never is often better than *right* now.\n",
      "If the implementation is hard to explain, it's a bad idea.\n",
      "If the implementation is easy to explain, it may be a good idea.\n",
      "Namespaces are one honking great idea -- let's do more of those!\n"
     ]
    }
   ],
   "source": [
    "# 此时可以打印一个彩蛋\n",
    "import this"
   ]
  },
  {
   "cell_type": "markdown",
   "id": "b0d5d70f",
   "metadata": {},
   "source": [
    "## 数据类型"
   ]
  },
  {
   "cell_type": "markdown",
   "id": "1496166e",
   "metadata": {},
   "source": [
    "> 如何检查数据类型\n",
    "\n",
    "1. types使用\n",
    "```python\n",
    "type(object)\n",
    "```\n",
    "\n",
    "2. isinstance使用\n",
    "```python\n",
    "isinstance(object, classinfo)\n",
    "```\n",
    "\n",
    "+ Numbers（数字）\n",
    "+ String（字符串）\n",
    "+ List（列表）\n",
    "+ Tuple（元组）\n",
    "+ Dictionary（字典）\n"
   ]
  },
  {
   "cell_type": "markdown",
   "id": "0c8ecaa5",
   "metadata": {},
   "source": [
    "### 2.1 数字类型"
   ]
  },
  {
   "cell_type": "code",
   "execution_count": 4,
   "id": "6bc5b7d5",
   "metadata": {},
   "outputs": [
    {
     "data": {
      "text/html": [
       "<pre style=\"white-space:pre;overflow-x:auto;line-height:normal;font-family:Menlo,'DejaVu Sans Mono',consolas,'Courier New',monospace\"><span style=\"font-weight: bold\">&lt;</span><span style=\"color: #ff00ff; text-decoration-color: #ff00ff; font-weight: bold\">class</span><span style=\"color: #000000; text-decoration-color: #000000\"> </span><span style=\"color: #008000; text-decoration-color: #008000\">'int'</span><span style=\"font-weight: bold\">&gt;</span>\n",
       "</pre>\n"
      ],
      "text/plain": [
       "\u001b[1m<\u001b[0m\u001b[1;95mclass\u001b[0m\u001b[39m \u001b[0m\u001b[32m'int'\u001b[0m\u001b[1m>\u001b[0m\n"
      ]
     },
     "metadata": {},
     "output_type": "display_data"
    },
    {
     "data": {
      "text/html": [
       "<pre style=\"white-space:pre;overflow-x:auto;line-height:normal;font-family:Menlo,'DejaVu Sans Mono',consolas,'Courier New',monospace\"><span style=\"font-weight: bold\">&lt;</span><span style=\"color: #ff00ff; text-decoration-color: #ff00ff; font-weight: bold\">class</span><span style=\"color: #000000; text-decoration-color: #000000\"> </span><span style=\"color: #008000; text-decoration-color: #008000\">'int'</span><span style=\"font-weight: bold\">&gt;</span>\n",
       "</pre>\n"
      ],
      "text/plain": [
       "\u001b[1m<\u001b[0m\u001b[1;95mclass\u001b[0m\u001b[39m \u001b[0m\u001b[32m'int'\u001b[0m\u001b[1m>\u001b[0m\n"
      ]
     },
     "metadata": {},
     "output_type": "display_data"
    },
    {
     "data": {
      "text/html": [
       "<pre style=\"white-space:pre;overflow-x:auto;line-height:normal;font-family:Menlo,'DejaVu Sans Mono',consolas,'Courier New',monospace\"><span style=\"font-weight: bold\">&lt;</span><span style=\"color: #ff00ff; text-decoration-color: #ff00ff; font-weight: bold\">class</span><span style=\"color: #000000; text-decoration-color: #000000\"> </span><span style=\"color: #008000; text-decoration-color: #008000\">'float'</span><span style=\"font-weight: bold\">&gt;</span>\n",
       "</pre>\n"
      ],
      "text/plain": [
       "\u001b[1m<\u001b[0m\u001b[1;95mclass\u001b[0m\u001b[39m \u001b[0m\u001b[32m'float'\u001b[0m\u001b[1m>\u001b[0m\n"
      ]
     },
     "metadata": {},
     "output_type": "display_data"
    },
    {
     "data": {
      "text/html": [
       "<pre style=\"white-space:pre;overflow-x:auto;line-height:normal;font-family:Menlo,'DejaVu Sans Mono',consolas,'Courier New',monospace\"><span style=\"font-weight: bold\">&lt;</span><span style=\"color: #ff00ff; text-decoration-color: #ff00ff; font-weight: bold\">class</span><span style=\"color: #000000; text-decoration-color: #000000\"> </span><span style=\"color: #008000; text-decoration-color: #008000\">'float'</span><span style=\"font-weight: bold\">&gt;</span>\n",
       "</pre>\n"
      ],
      "text/plain": [
       "\u001b[1m<\u001b[0m\u001b[1;95mclass\u001b[0m\u001b[39m \u001b[0m\u001b[32m'float'\u001b[0m\u001b[1m>\u001b[0m\n"
      ]
     },
     "metadata": {},
     "output_type": "display_data"
    }
   ],
   "source": [
    "intA = int(12)\n",
    "print(type(intA))\n",
    "\n",
    "longB = 0xDAEABEEF\n",
    "print(type(longB))\n",
    "\n",
    "floatC = 1.2\n",
    "print(type(floatC))\n",
    "\n",
    "doubleD = 1.2\n",
    "print(type(doubleD))"
   ]
  },
  {
   "cell_type": "markdown",
   "id": "906e0a43",
   "metadata": {},
   "source": [
    "### 2.2 布尔类型\n",
    "\n",
    "+ True\n",
    "+ False"
   ]
  },
  {
   "cell_type": "code",
   "execution_count": 5,
   "id": "08d10186",
   "metadata": {},
   "outputs": [
    {
     "data": {
      "text/html": [
       "<pre style=\"white-space:pre;overflow-x:auto;line-height:normal;font-family:Menlo,'DejaVu Sans Mono',consolas,'Courier New',monospace\"><span style=\"color: #00ff00; text-decoration-color: #00ff00; font-style: italic\">True</span> <span style=\"font-weight: bold\">&lt;</span><span style=\"color: #ff00ff; text-decoration-color: #ff00ff; font-weight: bold\">class</span><span style=\"color: #000000; text-decoration-color: #000000\"> </span><span style=\"color: #008000; text-decoration-color: #008000\">'bool'</span><span style=\"font-weight: bold\">&gt;</span>\n",
       "</pre>\n"
      ],
      "text/plain": [
       "\u001b[3;92mTrue\u001b[0m \u001b[1m<\u001b[0m\u001b[1;95mclass\u001b[0m\u001b[39m \u001b[0m\u001b[32m'bool'\u001b[0m\u001b[1m>\u001b[0m\n"
      ]
     },
     "metadata": {},
     "output_type": "display_data"
    },
    {
     "data": {
      "text/html": [
       "<pre style=\"white-space:pre;overflow-x:auto;line-height:normal;font-family:Menlo,'DejaVu Sans Mono',consolas,'Courier New',monospace\"><span style=\"color: #ff0000; text-decoration-color: #ff0000; font-style: italic\">False</span> <span style=\"font-weight: bold\">&lt;</span><span style=\"color: #ff00ff; text-decoration-color: #ff00ff; font-weight: bold\">class</span><span style=\"color: #000000; text-decoration-color: #000000\"> </span><span style=\"color: #008000; text-decoration-color: #008000\">'bool'</span><span style=\"font-weight: bold\">&gt;</span>\n",
       "</pre>\n"
      ],
      "text/plain": [
       "\u001b[3;91mFalse\u001b[0m \u001b[1m<\u001b[0m\u001b[1;95mclass\u001b[0m\u001b[39m \u001b[0m\u001b[32m'bool'\u001b[0m\u001b[1m>\u001b[0m\n"
      ]
     },
     "metadata": {},
     "output_type": "display_data"
    }
   ],
   "source": [
    "boolA = True\n",
    "boolB = False\n",
    "\n",
    "print(boolA, type(boolA))\n",
    "print(boolB, type(boolB))"
   ]
  },
  {
   "cell_type": "markdown",
   "id": "7d940450",
   "metadata": {},
   "source": [
    "### 2.3  String(字符串)\n",
    "\n",
    "+ 使用\"\"定义字符串\n",
    "+ r在字符串表示禁止转义\n",
    "+ 使用\"\"\"作用长字符串"
   ]
  },
  {
   "cell_type": "code",
   "execution_count": 6,
   "id": "7316820c",
   "metadata": {},
   "outputs": [
    {
     "data": {
      "text/html": [
       "<pre style=\"white-space:pre;overflow-x:auto;line-height:normal;font-family:Menlo,'DejaVu Sans Mono',consolas,'Courier New',monospace\">Hello <span style=\"font-weight: bold\">&lt;</span><span style=\"color: #ff00ff; text-decoration-color: #ff00ff; font-weight: bold\">class</span><span style=\"color: #000000; text-decoration-color: #000000\"> </span><span style=\"color: #008000; text-decoration-color: #008000\">'str'</span><span style=\"font-weight: bold\">&gt;</span>\n",
       "</pre>\n"
      ],
      "text/plain": [
       "Hello \u001b[1m<\u001b[0m\u001b[1;95mclass\u001b[0m\u001b[39m \u001b[0m\u001b[32m'str'\u001b[0m\u001b[1m>\u001b[0m\n"
      ]
     },
     "metadata": {},
     "output_type": "display_data"
    },
    {
     "data": {
      "text/html": [
       "<pre style=\"white-space:pre;overflow-x:auto;line-height:normal;font-family:Menlo,'DejaVu Sans Mono',consolas,'Courier New',monospace\">Hello\\nWorld <span style=\"font-weight: bold\">&lt;</span><span style=\"color: #ff00ff; text-decoration-color: #ff00ff; font-weight: bold\">class</span><span style=\"color: #000000; text-decoration-color: #000000\"> </span><span style=\"color: #008000; text-decoration-color: #008000\">'str'</span><span style=\"font-weight: bold\">&gt;</span>\n",
       "</pre>\n"
      ],
      "text/plain": [
       "Hello\\nWorld \u001b[1m<\u001b[0m\u001b[1;95mclass\u001b[0m\u001b[39m \u001b[0m\u001b[32m'str'\u001b[0m\u001b[1m>\u001b[0m\n"
      ]
     },
     "metadata": {},
     "output_type": "display_data"
    },
    {
     "data": {
      "text/html": [
       "<pre style=\"white-space:pre;overflow-x:auto;line-height:normal;font-family:Menlo,'DejaVu Sans Mono',consolas,'Courier New',monospace\">\n",
       "The Zen of Python, by Tim Peters\n",
       "\n",
       "Beautiful is better than ugly.\n",
       "Explicit is better than implicit.\n",
       "Simple is better than complex.\n",
       "Complex is better than complicated.\n",
       "Flat is better than nested.\n",
       "Sparse is better than dense.\n",
       "Readability counts.\n",
       "Special cases aren't special enough to break the rules.\n",
       "Although practicality beats purity.\n",
       "Errors should never pass silently.\n",
       "Unless explicitly silenced.\n",
       "In the face of ambiguity, refuse the temptation to guess.\n",
       "There should be one-- and preferably only one --obvious way to do it.\n",
       "Although that way may not be obvious at first unless you're Dutch.\n",
       "Now is better than never.\n",
       "Although never is often better than *right* now.\n",
       "If the implementation is hard to explain, it's a bad idea.\n",
       "If the implementation is easy to explain, it may be a good idea.\n",
       "Namespaces are one honking great idea -- let's do more of those!\n",
       " \n",
       "The Zen of Python, by Tim Peters\n",
       "\n",
       "Beautiful is better than ugly.\n",
       "Explicit is better than implicit.\n",
       "Simple is better than complex.\n",
       "Complex is better than complicated.\n",
       "Flat is better than nested.\n",
       "Sparse is better than dense.\n",
       "Readability counts.\n",
       "Special cases aren't special enough to break the rules.\n",
       "Although practicality beats purity.\n",
       "Errors should never pass silently.\n",
       "Unless explicitly silenced.\n",
       "In the face of ambiguity, refuse the temptation to guess.\n",
       "There should be one-- and preferably only one --obvious way to do it.\n",
       "Although that way may not be obvious at first unless you're Dutch.\n",
       "Now is better than never.\n",
       "Although never is often better than *right* now.\n",
       "If the implementation is hard to explain, it's a bad idea.\n",
       "If the implementation is easy to explain, it may be a good idea.\n",
       "Namespaces are one honking great idea -- let's do more of those!\n",
       "\n",
       "</pre>\n"
      ],
      "text/plain": [
       "\n",
       "The Zen of Python, by Tim Peters\n",
       "\n",
       "Beautiful is better than ugly.\n",
       "Explicit is better than implicit.\n",
       "Simple is better than complex.\n",
       "Complex is better than complicated.\n",
       "Flat is better than nested.\n",
       "Sparse is better than dense.\n",
       "Readability counts.\n",
       "Special cases aren't special enough to break the rules.\n",
       "Although practicality beats purity.\n",
       "Errors should never pass silently.\n",
       "Unless explicitly silenced.\n",
       "In the face of ambiguity, refuse the temptation to guess.\n",
       "There should be one-- and preferably only one --obvious way to do it.\n",
       "Although that way may not be obvious at first unless you're Dutch.\n",
       "Now is better than never.\n",
       "Although never is often better than *right* now.\n",
       "If the implementation is hard to explain, it's a bad idea.\n",
       "If the implementation is easy to explain, it may be a good idea.\n",
       "Namespaces are one honking great idea -- let's do more of those!\n",
       " \n",
       "The Zen of Python, by Tim Peters\n",
       "\n",
       "Beautiful is better than ugly.\n",
       "Explicit is better than implicit.\n",
       "Simple is better than complex.\n",
       "Complex is better than complicated.\n",
       "Flat is better than nested.\n",
       "Sparse is better than dense.\n",
       "Readability counts.\n",
       "Special cases aren't special enough to break the rules.\n",
       "Although practicality beats purity.\n",
       "Errors should never pass silently.\n",
       "Unless explicitly silenced.\n",
       "In the face of ambiguity, refuse the temptation to guess.\n",
       "There should be one-- and preferably only one --obvious way to do it.\n",
       "Although that way may not be obvious at first unless you're Dutch.\n",
       "Now is better than never.\n",
       "Although never is often better than *right* now.\n",
       "If the implementation is hard to explain, it's a bad idea.\n",
       "If the implementation is easy to explain, it may be a good idea.\n",
       "Namespaces are one honking great idea -- let's do more of those!\n",
       "\n"
      ]
     },
     "metadata": {},
     "output_type": "display_data"
    }
   ],
   "source": [
    "# 普通定义字符串\n",
    "strA = \"Hello\"\n",
    "print(strA,  type(strA))\n",
    "\n",
    "# r禁止转义\n",
    "strB = r\"Hello\\nWorld\"\n",
    "print(strB, type(strB))\n",
    "\n",
    "# 长字符串\n",
    "strC = \"\"\"\n",
    "The Zen of Python, by Tim Peters\n",
    "\n",
    "Beautiful is better than ugly.\n",
    "Explicit is better than implicit.\n",
    "Simple is better than complex.\n",
    "Complex is better than complicated.\n",
    "Flat is better than nested.\n",
    "Sparse is better than dense.\n",
    "Readability counts.\n",
    "Special cases aren't special enough to break the rules.\n",
    "Although practicality beats purity.\n",
    "Errors should never pass silently.\n",
    "Unless explicitly silenced.\n",
    "In the face of ambiguity, refuse the temptation to guess.\n",
    "There should be one-- and preferably only one --obvious way to do it.\n",
    "Although that way may not be obvious at first unless you're Dutch.\n",
    "Now is better than never.\n",
    "Although never is often better than *right* now.\n",
    "If the implementation is hard to explain, it's a bad idea.\n",
    "If the implementation is easy to explain, it may be a good idea.\n",
    "Namespaces are one honking great idea -- let's do more of those!\n",
    "\"\"\"\n",
    "\n",
    "print(strC, str(strC))"
   ]
  },
  {
   "cell_type": "markdown",
   "id": "a39ac911",
   "metadata": {},
   "source": [
    "### 2.4 列表"
   ]
  },
  {
   "cell_type": "code",
   "execution_count": 7,
   "id": "2eb405b1",
   "metadata": {
    "scrolled": true
   },
   "outputs": [
    {
     "data": {
      "text/html": [
       "<pre style=\"white-space:pre;overflow-x:auto;line-height:normal;font-family:Menlo,'DejaVu Sans Mono',consolas,'Courier New',monospace\"><span style=\"font-weight: bold\">[</span><span style=\"color: #008000; text-decoration-color: #008000\">'baidu'</span>, <span style=\"color: #008000; text-decoration-color: #008000\">'google'</span>, <span style=\"color: #008080; text-decoration-color: #008080; font-weight: bold\">12</span>, <span style=\"color: #008080; text-decoration-color: #008080; font-weight: bold\">34</span><span style=\"font-weight: bold\">]</span>\n",
       "</pre>\n"
      ],
      "text/plain": [
       "\u001b[1m[\u001b[0m\u001b[32m'baidu'\u001b[0m, \u001b[32m'google'\u001b[0m, \u001b[1;36m12\u001b[0m, \u001b[1;36m34\u001b[0m\u001b[1m]\u001b[0m\n"
      ]
     },
     "metadata": {},
     "output_type": "display_data"
    },
    {
     "data": {
      "text/html": [
       "<pre style=\"white-space:pre;overflow-x:auto;line-height:normal;font-family:Menlo,'DejaVu Sans Mono',consolas,'Courier New',monospace\"><span style=\"font-weight: bold\">[</span><span style=\"color: #008080; text-decoration-color: #008080; font-weight: bold\">1</span>, <span style=\"color: #008080; text-decoration-color: #008080; font-weight: bold\">2</span>, <span style=\"color: #008080; text-decoration-color: #008080; font-weight: bold\">3</span>, <span style=\"color: #008080; text-decoration-color: #008080; font-weight: bold\">4</span>, <span style=\"color: #008080; text-decoration-color: #008080; font-weight: bold\">5</span><span style=\"font-weight: bold\">]</span>\n",
       "</pre>\n"
      ],
      "text/plain": [
       "\u001b[1m[\u001b[0m\u001b[1;36m1\u001b[0m, \u001b[1;36m2\u001b[0m, \u001b[1;36m3\u001b[0m, \u001b[1;36m4\u001b[0m, \u001b[1;36m5\u001b[0m\u001b[1m]\u001b[0m\n"
      ]
     },
     "metadata": {},
     "output_type": "display_data"
    },
    {
     "data": {
      "text/html": [
       "<pre style=\"white-space:pre;overflow-x:auto;line-height:normal;font-family:Menlo,'DejaVu Sans Mono',consolas,'Courier New',monospace\"><span style=\"font-weight: bold\">[</span><span style=\"color: #008000; text-decoration-color: #008000\">'a'</span>, <span style=\"color: #008000; text-decoration-color: #008000\">'b'</span>, <span style=\"color: #008000; text-decoration-color: #008000\">'c'</span>, <span style=\"color: #008000; text-decoration-color: #008000\">'d'</span><span style=\"font-weight: bold\">]</span>\n",
       "</pre>\n"
      ],
      "text/plain": [
       "\u001b[1m[\u001b[0m\u001b[32m'a'\u001b[0m, \u001b[32m'b'\u001b[0m, \u001b[32m'c'\u001b[0m, \u001b[32m'd'\u001b[0m\u001b[1m]\u001b[0m\n"
      ]
     },
     "metadata": {},
     "output_type": "display_data"
    },
    {
     "data": {
      "text/html": [
       "<pre style=\"white-space:pre;overflow-x:auto;line-height:normal;font-family:Menlo,'DejaVu Sans Mono',consolas,'Courier New',monospace\"><span style=\"font-weight: bold\">[</span><span style=\"color: #008000; text-decoration-color: #008000\">'H'</span>, <span style=\"color: #008000; text-decoration-color: #008000\">'e'</span>, <span style=\"color: #008000; text-decoration-color: #008000\">'l'</span>, <span style=\"color: #008000; text-decoration-color: #008000\">'l'</span>, <span style=\"color: #008000; text-decoration-color: #008000\">'o'</span>, <span style=\"color: #008000; text-decoration-color: #008000\">' '</span>, <span style=\"color: #008000; text-decoration-color: #008000\">'W'</span>, <span style=\"color: #008000; text-decoration-color: #008000\">'o'</span>, <span style=\"color: #008000; text-decoration-color: #008000\">'r'</span>, <span style=\"color: #008000; text-decoration-color: #008000\">'l'</span>, <span style=\"color: #008000; text-decoration-color: #008000\">'d'</span><span style=\"font-weight: bold\">]</span>\n",
       "</pre>\n"
      ],
      "text/plain": [
       "\u001b[1m[\u001b[0m\u001b[32m'H'\u001b[0m, \u001b[32m'e'\u001b[0m, \u001b[32m'l'\u001b[0m, \u001b[32m'l'\u001b[0m, \u001b[32m'o'\u001b[0m, \u001b[32m' '\u001b[0m, \u001b[32m'W'\u001b[0m, \u001b[32m'o'\u001b[0m, \u001b[32m'r'\u001b[0m, \u001b[32m'l'\u001b[0m, \u001b[32m'd'\u001b[0m\u001b[1m]\u001b[0m\n"
      ]
     },
     "metadata": {},
     "output_type": "display_data"
    }
   ],
   "source": [
    "# 列表可以看成一个高级的数组\n",
    "list1 = ['baidu', 'google', 12, 34]\n",
    "list2 = [1, 2, 3, 4, 5 ]\n",
    "list3 = [\"a\", \"b\", \"c\", \"d\"]\n",
    "list4 = list(\"Hello World\")\n",
    "\n",
    "print(list1)\n",
    "print(list2)\n",
    "print(list3)\n",
    "print(list4)"
   ]
  },
  {
   "cell_type": "markdown",
   "id": "dd1d4967",
   "metadata": {},
   "source": [
    "## 函数"
   ]
  },
  {
   "cell_type": "code",
   "execution_count": 8,
   "id": "c6d9309b",
   "metadata": {},
   "outputs": [],
   "source": [
    "### 函数定义与调用"
   ]
  },
  {
   "cell_type": "code",
   "execution_count": 9,
   "id": "f525585f",
   "metadata": {},
   "outputs": [
    {
     "data": {
      "text/html": [
       "<pre style=\"white-space:pre;overflow-x:auto;line-height:normal;font-family:Menlo,'DejaVu Sans Mono',consolas,'Courier New',monospace\">Hello world\n",
       "</pre>\n"
      ],
      "text/plain": [
       "Hello world\n"
      ]
     },
     "metadata": {},
     "output_type": "display_data"
    },
    {
     "data": {
      "text/plain": [
       "True"
      ]
     },
     "execution_count": 9,
     "metadata": {},
     "output_type": "execute_result"
    }
   ],
   "source": [
    "# 1.1 定义普通函数\n",
    "def helloWorld():\n",
    "    print(\"Hello world\");\n",
    "    return True\n",
    "\n",
    "# 1.2 调用函数\n",
    "helloWorld()"
   ]
  },
  {
   "cell_type": "code",
   "execution_count": 10,
   "id": "a7344230",
   "metadata": {},
   "outputs": [
    {
     "data": {
      "text/html": [
       "<pre style=\"white-space:pre;overflow-x:auto;line-height:normal;font-family:Menlo,'DejaVu Sans Mono',consolas,'Courier New',monospace\">funB\n",
       "</pre>\n"
      ],
      "text/plain": [
       "funB\n"
      ]
     },
     "metadata": {},
     "output_type": "display_data"
    },
    {
     "data": {
      "text/html": [
       "<pre style=\"white-space:pre;overflow-x:auto;line-height:normal;font-family:Menlo,'DejaVu Sans Mono',consolas,'Courier New',monospace\">funA\n",
       "</pre>\n"
      ],
      "text/plain": [
       "funA\n"
      ]
     },
     "metadata": {},
     "output_type": "display_data"
    },
    {
     "data": {
      "text/html": [
       "<pre style=\"white-space:pre;overflow-x:auto;line-height:normal;font-family:Menlo,'DejaVu Sans Mono',consolas,'Courier New',monospace\"><span style=\"color: #808000; text-decoration-color: #808000\">x</span>= <span style=\"color: #008080; text-decoration-color: #008080; font-weight: bold\">12</span>\n",
       "</pre>\n"
      ],
      "text/plain": [
       "\u001b[33mx\u001b[0m= \u001b[1;36m12\u001b[0m\n"
      ]
     },
     "metadata": {},
     "output_type": "display_data"
    },
    {
     "data": {
      "text/html": [
       "<pre style=\"white-space:pre;overflow-x:auto;line-height:normal;font-family:Menlo,'DejaVu Sans Mono',consolas,'Courier New',monospace\">x id = <span style=\"color: #008080; text-decoration-color: #008080; font-weight: bold\">140475063435856</span>\n",
       "</pre>\n"
      ],
      "text/plain": [
       "x id = \u001b[1;36m140475063435856\u001b[0m\n"
      ]
     },
     "metadata": {},
     "output_type": "display_data"
    },
    {
     "data": {
      "text/html": [
       "<pre style=\"white-space:pre;overflow-x:auto;line-height:normal;font-family:Menlo,'DejaVu Sans Mono',consolas,'Courier New',monospace\"><span style=\"color: #808000; text-decoration-color: #808000\">x</span>= <span style=\"color: #008080; text-decoration-color: #008080; font-weight: bold\">11</span>\n",
       "</pre>\n"
      ],
      "text/plain": [
       "\u001b[33mx\u001b[0m= \u001b[1;36m11\u001b[0m\n"
      ]
     },
     "metadata": {},
     "output_type": "display_data"
    },
    {
     "data": {
      "text/html": [
       "<pre style=\"white-space:pre;overflow-x:auto;line-height:normal;font-family:Menlo,'DejaVu Sans Mono',consolas,'Courier New',monospace\">x id = <span style=\"color: #008080; text-decoration-color: #008080; font-weight: bold\">140475063435824</span>\n",
       "</pre>\n"
      ],
      "text/plain": [
       "x id = \u001b[1;36m140475063435824\u001b[0m\n"
      ]
     },
     "metadata": {},
     "output_type": "display_data"
    },
    {
     "data": {
      "text/html": [
       "<pre style=\"white-space:pre;overflow-x:auto;line-height:normal;font-family:Menlo,'DejaVu Sans Mono',consolas,'Courier New',monospace\"><span style=\"color: #808000; text-decoration-color: #808000\">x</span>= <span style=\"color: #008080; text-decoration-color: #008080; font-weight: bold\">12</span>\n",
       "</pre>\n"
      ],
      "text/plain": [
       "\u001b[33mx\u001b[0m= \u001b[1;36m12\u001b[0m\n"
      ]
     },
     "metadata": {},
     "output_type": "display_data"
    },
    {
     "data": {
      "text/html": [
       "<pre style=\"white-space:pre;overflow-x:auto;line-height:normal;font-family:Menlo,'DejaVu Sans Mono',consolas,'Courier New',monospace\">x id = <span style=\"color: #008080; text-decoration-color: #008080; font-weight: bold\">140475063435856</span>\n",
       "</pre>\n"
      ],
      "text/plain": [
       "x id = \u001b[1;36m140475063435856\u001b[0m\n"
      ]
     },
     "metadata": {},
     "output_type": "display_data"
    }
   ],
   "source": [
    "# 2.1 嵌套函数\n",
    "\n",
    "def funcA():\n",
    "    def funB():\n",
    "        print(\"funB\");\n",
    "    funB()\n",
    "    print(\"funA\")\n",
    "\n",
    "# 2.2 嵌套函数调用\n",
    "\n",
    "funcA()\n",
    "\n",
    "# funcB() funB函数不可以进行调用\n",
    "\n",
    "# 2.3 调用nonlocal绑定\n",
    "\n",
    "# 与C语言一致,函数内部会形成新的变量,但是我们可以使用nonlocal关键字进行禁止,类似于extern\n",
    "def px():\n",
    "    x = 12                        # 定义x = 12\n",
    "    print(\"x=\", x)                # 打印12\n",
    "    print(\"x id =\", id(x))        # 打印x的ID\n",
    "    \n",
    "    def px_1():\n",
    "        x = 11\n",
    "        print(\"x=\", x)            # 打印11\n",
    "        print(\"x id =\", id(x))    # 打印x的ID\n",
    "    \n",
    "    def px_2():\n",
    "        nonlocal x                # 将x绑定到\n",
    "        print(\"x=\", x)            # 打印12\n",
    "        print(\"x id =\", id(x))    # 打印x的ID\n",
    "        \n",
    "    px_1()\n",
    "    px_2()\n",
    "\n",
    "px()\n",
    "\n",
    "# 根据下面的打印,我们可以确定出, nonlocal将外层变量绑定到内部函数中\n",
    "# 并且于global不同,gloabl绑定的是全局变量\n",
    "# 可以确定打印出的ID"
   ]
  },
  {
   "cell_type": "markdown",
   "id": "badacbed",
   "metadata": {},
   "source": [
    "python的变量解析机制, ***LEGB*规则\n",
    "\n",
    "1. Local     (局部作用域)\n",
    "2. Enclose   (嵌套函数外部)\n",
    "3. Global    (全局作用域)\n",
    "4. Build-In  (内置作用域)\n"
   ]
  },
  {
   "cell_type": "markdown",
   "id": "fc95a7d2",
   "metadata": {},
   "source": [
    "### 闭包\n",
    "\n",
    "> 闭包（closure）是一个函数以及其捆绑的周边环境状态（lexical environment，词法环境）的引用的组合。\n",
    "> 换而言之，闭包让开发者可以从内部函数访问外部函数的作用域。\n",
    "\n",
    "简而言之,就是外部调用内部函数"
   ]
  },
  {
   "cell_type": "code",
   "execution_count": 11,
   "id": "05c41c32",
   "metadata": {},
   "outputs": [
    {
     "data": {
      "text/html": [
       "<pre style=\"white-space:pre;overflow-x:auto;line-height:normal;font-family:Menlo,'DejaVu Sans Mono',consolas,'Courier New',monospace\"><span style=\"color: #008080; text-decoration-color: #008080; font-weight: bold\">12</span>\n",
       "</pre>\n"
      ],
      "text/plain": [
       "\u001b[1;36m12\u001b[0m\n"
      ]
     },
     "metadata": {},
     "output_type": "display_data"
    },
    {
     "data": {
      "text/html": [
       "<pre style=\"white-space:pre;overflow-x:auto;line-height:normal;font-family:Menlo,'DejaVu Sans Mono',consolas,'Courier New',monospace\"><span style=\"color: #008080; text-decoration-color: #008080; font-weight: bold\">12</span>\n",
       "</pre>\n"
      ],
      "text/plain": [
       "\u001b[1;36m12\u001b[0m\n"
      ]
     },
     "metadata": {},
     "output_type": "display_data"
    },
    {
     "data": {
      "text/html": [
       "<pre style=\"white-space:pre;overflow-x:auto;line-height:normal;font-family:Menlo,'DejaVu Sans Mono',consolas,'Courier New',monospace\">4的平方 <span style=\"color: #008080; text-decoration-color: #008080; font-weight: bold\">16</span>\n",
       "</pre>\n"
      ],
      "text/plain": [
       "4的平方 \u001b[1;36m16\u001b[0m\n"
      ]
     },
     "metadata": {},
     "output_type": "display_data"
    },
    {
     "data": {
      "text/html": [
       "<pre style=\"white-space:pre;overflow-x:auto;line-height:normal;font-family:Menlo,'DejaVu Sans Mono',consolas,'Courier New',monospace\">4的立方 <span style=\"color: #008080; text-decoration-color: #008080; font-weight: bold\">64</span>\n",
       "</pre>\n"
      ],
      "text/plain": [
       "4的立方 \u001b[1;36m64\u001b[0m\n"
      ]
     },
     "metadata": {},
     "output_type": "display_data"
    }
   ],
   "source": [
    "# 3.1 闭包工作原理,将内部函数返回\n",
    "\n",
    "def funC():\n",
    "    x = 12\n",
    "    def funD():\n",
    "        print(x)\n",
    "    return funD\n",
    "\n",
    "# 下面的语句打印的结果\n",
    "# function __main__.funC.<locals>.funD()\n",
    "funC()\n",
    "\n",
    "# 3.2 调用funD\n",
    "\n",
    "# 3.2.1 直接调用\n",
    "\n",
    "funC()()\n",
    "\n",
    "# 3.2.2 临时接收\n",
    "f = funC()\n",
    "f()\n",
    "\n",
    "# 外部作用域中的变量会保存,不会消失,这就是闭包\n",
    "\n",
    "# 闭包的妙用\n",
    "def power(exp):\n",
    "    def expOf(base):\n",
    "        return base ** exp\n",
    "    return expOf\n",
    "\n",
    "square = power(2)\n",
    "cube = power(3)\n",
    "\n",
    "print(\"4的平方\", square(4))\n",
    "print(\"4的立方\", cube(4))"
   ]
  },
  {
   "cell_type": "markdown",
   "id": "3ea01ada",
   "metadata": {},
   "source": [
    "闭包详细理解\n",
    "如果一个函数定义在另一个函数的作用域内，并且引用了外层函数的变量，则该函数称为闭包。\n",
    "闭包是Python所支持的一种特性，它让在非global scope定义的函数可以引用其外围空间中的变量，这些外围空间中被引用的变量叫做这个函数的环境变量。\n",
    "**环境变量和这个非全局函数**一起构成了闭包。\n",
    "\n",
    "__注意是:变量和函数一起称之为闭包__,因此闭包是语言提供的功能\n"
   ]
  },
  {
   "cell_type": "markdown",
   "id": "7c0014c0",
   "metadata": {},
   "source": [
    "### 装饰器"
   ]
  },
  {
   "cell_type": "code",
   "execution_count": 12,
   "id": "00cb6cd8",
   "metadata": {},
   "outputs": [
    {
     "data": {
      "text/html": [
       "<pre style=\"white-space:pre;overflow-x:auto;line-height:normal;font-family:Menlo,'DejaVu Sans Mono',consolas,'Courier New',monospace\"><span style=\"font-weight: bold\">[</span>DEBUG<span style=\"font-weight: bold\">]</span>: enter <span style=\"color: #800080; text-decoration-color: #800080; font-weight: bold\">hello1</span><span style=\"font-weight: bold\">()</span> start\n",
       "</pre>\n"
      ],
      "text/plain": [
       "\u001b[1m[\u001b[0mDEBUG\u001b[1m]\u001b[0m: enter \u001b[1;35mhello1\u001b[0m\u001b[1m(\u001b[0m\u001b[1m)\u001b[0m start\n"
      ]
     },
     "metadata": {},
     "output_type": "display_data"
    },
    {
     "data": {
      "text/html": [
       "<pre style=\"white-space:pre;overflow-x:auto;line-height:normal;font-family:Menlo,'DejaVu Sans Mono',consolas,'Courier New',monospace\">Hello1\n",
       "</pre>\n"
      ],
      "text/plain": [
       "Hello1\n"
      ]
     },
     "metadata": {},
     "output_type": "display_data"
    },
    {
     "data": {
      "text/html": [
       "<pre style=\"white-space:pre;overflow-x:auto;line-height:normal;font-family:Menlo,'DejaVu Sans Mono',consolas,'Courier New',monospace\"><span style=\"font-weight: bold\">[</span>DEBUG<span style=\"font-weight: bold\">]</span>: exit <span style=\"color: #800080; text-decoration-color: #800080; font-weight: bold\">hello1</span><span style=\"font-weight: bold\">()</span> stop\n",
       "</pre>\n"
      ],
      "text/plain": [
       "\u001b[1m[\u001b[0mDEBUG\u001b[1m]\u001b[0m: exit \u001b[1;35mhello1\u001b[0m\u001b[1m(\u001b[0m\u001b[1m)\u001b[0m stop\n"
      ]
     },
     "metadata": {},
     "output_type": "display_data"
    },
    {
     "data": {
      "text/html": [
       "<pre style=\"white-space:pre;overflow-x:auto;line-height:normal;font-family:Menlo,'DejaVu Sans Mono',consolas,'Courier New',monospace\"><span style=\"font-weight: bold\">[</span>DEBUG<span style=\"font-weight: bold\">]</span>: elapse <span style=\"color: #800080; text-decoration-color: #800080; font-weight: bold\">0.001096963882446289</span><span style=\"font-weight: bold\">()</span>\n",
       "</pre>\n"
      ],
      "text/plain": [
       "\u001b[1m[\u001b[0mDEBUG\u001b[1m]\u001b[0m: elapse \u001b[1;35m0.001096963882446289\u001b[0m\u001b[1m(\u001b[0m\u001b[1m)\u001b[0m\n"
      ]
     },
     "metadata": {},
     "output_type": "display_data"
    }
   ],
   "source": [
    "# 4.1 定义一个检查时间的函数\n",
    "import time\n",
    "def timeMaster(func):\n",
    "    print(\"[DEBUG]: enter {}() start\".format(func.__name__))\n",
    "    start = time.time()\n",
    "    func()\n",
    "    stop = time.time()\n",
    "    print(\"[DEBUG]: exit {}() stop\".format(func.__name__))\n",
    "    print(\"[DEBUG]: elapse {}()\".format(stop - start))\n",
    "\n",
    "def hello1():\n",
    "    print(\"Hello1\")\n",
    "\n",
    "timeMaster(hello1)"
   ]
  },
  {
   "cell_type": "code",
   "execution_count": 13,
   "id": "d5c2ed74",
   "metadata": {},
   "outputs": [
    {
     "data": {
      "text/html": [
       "<pre style=\"white-space:pre;overflow-x:auto;line-height:normal;font-family:Menlo,'DejaVu Sans Mono',consolas,'Courier New',monospace\"><span style=\"font-weight: bold\">[</span>DEBUG<span style=\"font-weight: bold\">]</span>: enter <span style=\"color: #800080; text-decoration-color: #800080; font-weight: bold\">hello2</span><span style=\"font-weight: bold\">()</span> start\n",
       "</pre>\n"
      ],
      "text/plain": [
       "\u001b[1m[\u001b[0mDEBUG\u001b[1m]\u001b[0m: enter \u001b[1;35mhello2\u001b[0m\u001b[1m(\u001b[0m\u001b[1m)\u001b[0m start\n"
      ]
     },
     "metadata": {},
     "output_type": "display_data"
    },
    {
     "data": {
      "text/html": [
       "<pre style=\"white-space:pre;overflow-x:auto;line-height:normal;font-family:Menlo,'DejaVu Sans Mono',consolas,'Courier New',monospace\">Hello2\n",
       "</pre>\n"
      ],
      "text/plain": [
       "Hello2\n"
      ]
     },
     "metadata": {},
     "output_type": "display_data"
    },
    {
     "data": {
      "text/html": [
       "<pre style=\"white-space:pre;overflow-x:auto;line-height:normal;font-family:Menlo,'DejaVu Sans Mono',consolas,'Courier New',monospace\"><span style=\"font-weight: bold\">[</span>DEBUG<span style=\"font-weight: bold\">]</span>: exit <span style=\"color: #800080; text-decoration-color: #800080; font-weight: bold\">hello2</span><span style=\"font-weight: bold\">()</span> stop\n",
       "</pre>\n"
      ],
      "text/plain": [
       "\u001b[1m[\u001b[0mDEBUG\u001b[1m]\u001b[0m: exit \u001b[1;35mhello2\u001b[0m\u001b[1m(\u001b[0m\u001b[1m)\u001b[0m stop\n"
      ]
     },
     "metadata": {},
     "output_type": "display_data"
    },
    {
     "data": {
      "text/html": [
       "<pre style=\"white-space:pre;overflow-x:auto;line-height:normal;font-family:Menlo,'DejaVu Sans Mono',consolas,'Courier New',monospace\"><span style=\"font-weight: bold\">[</span>DEBUG<span style=\"font-weight: bold\">]</span>: elapse <span style=\"color: #800080; text-decoration-color: #800080; font-weight: bold\">0.002184629440307617</span><span style=\"font-weight: bold\">()</span>\n",
       "</pre>\n"
      ],
      "text/plain": [
       "\u001b[1m[\u001b[0mDEBUG\u001b[1m]\u001b[0m: elapse \u001b[1;35m0.002184629440307617\u001b[0m\u001b[1m(\u001b[0m\u001b[1m)\u001b[0m\n"
      ]
     },
     "metadata": {},
     "output_type": "display_data"
    }
   ],
   "source": [
    "# 4.2 使用装饰器\n",
    "import time\n",
    "def timeMasterDecorate(func):\n",
    "    def call():\n",
    "        print(\"[DEBUG]: enter {}() start\".format(func.__name__))\n",
    "        start = time.time()\n",
    "        func()\n",
    "        stop = time.time()\n",
    "        print(\"[DEBUG]: exit {}() stop\".format(func.__name__))\n",
    "        print(\"[DEBUG]: elapse {}()\".format(stop - start))\n",
    "    return call\n",
    "\n",
    "@timeMasterDecorate\n",
    "def hello2():\n",
    "    print(\"Hello2\")\n",
    "\n",
    "hello2() # timeMasterDecorate(hello2)()"
   ]
  },
  {
   "cell_type": "code",
   "execution_count": 14,
   "id": "3d556764",
   "metadata": {},
   "outputs": [
    {
     "data": {
      "text/html": [
       "<pre style=\"white-space:pre;overflow-x:auto;line-height:normal;font-family:Menlo,'DejaVu Sans Mono',consolas,'Courier New',monospace\"><span style=\"font-weight: bold\">[</span>DEBUG<span style=\"font-weight: bold\">]</span>: enter <span style=\"color: #800080; text-decoration-color: #800080; font-weight: bold\">funcA</span><span style=\"font-weight: bold\">()</span> start\n",
       "</pre>\n"
      ],
      "text/plain": [
       "\u001b[1m[\u001b[0mDEBUG\u001b[1m]\u001b[0m: enter \u001b[1;35mfuncA\u001b[0m\u001b[1m(\u001b[0m\u001b[1m)\u001b[0m start\n"
      ]
     },
     "metadata": {},
     "output_type": "display_data"
    },
    {
     "data": {
      "text/html": [
       "<pre style=\"white-space:pre;overflow-x:auto;line-height:normal;font-family:Menlo,'DejaVu Sans Mono',consolas,'Courier New',monospace\">funcA\n",
       "</pre>\n"
      ],
      "text/plain": [
       "funcA\n"
      ]
     },
     "metadata": {},
     "output_type": "display_data"
    },
    {
     "data": {
      "text/html": [
       "<pre style=\"white-space:pre;overflow-x:auto;line-height:normal;font-family:Menlo,'DejaVu Sans Mono',consolas,'Courier New',monospace\"><span style=\"font-weight: bold\">[</span>DEBUG<span style=\"font-weight: bold\">]</span>: exit <span style=\"color: #800080; text-decoration-color: #800080; font-weight: bold\">funcA</span><span style=\"font-weight: bold\">()</span> stop\n",
       "</pre>\n"
      ],
      "text/plain": [
       "\u001b[1m[\u001b[0mDEBUG\u001b[1m]\u001b[0m: exit \u001b[1;35mfuncA\u001b[0m\u001b[1m(\u001b[0m\u001b[1m)\u001b[0m stop\n"
      ]
     },
     "metadata": {},
     "output_type": "display_data"
    },
    {
     "data": {
      "text/html": [
       "<pre style=\"white-space:pre;overflow-x:auto;line-height:normal;font-family:Menlo,'DejaVu Sans Mono',consolas,'Courier New',monospace\"><span style=\"font-weight: bold\">[</span>DEBUG<span style=\"font-weight: bold\">]</span>: elapse <span style=\"color: #800080; text-decoration-color: #800080; font-weight: bold\">0.0010831356048583984</span><span style=\"font-weight: bold\">()</span>\n",
       "</pre>\n"
      ],
      "text/plain": [
       "\u001b[1m[\u001b[0mDEBUG\u001b[1m]\u001b[0m: elapse \u001b[1;35m0.0010831356048583984\u001b[0m\u001b[1m(\u001b[0m\u001b[1m)\u001b[0m\n"
      ]
     },
     "metadata": {},
     "output_type": "display_data"
    }
   ],
   "source": [
    "# 4.3 装饰器传递参数\n",
    "import time\n",
    "def msgTimeMasterDecorate(msg):\n",
    "    def timeMasterDecorate(func):\n",
    "        def call():\n",
    "            print(\"[DEBUG]: enter {}() start\".format(func.__name__))\n",
    "            start = time.time()\n",
    "            func()\n",
    "            stop = time.time()\n",
    "            print(\"[DEBUG]: exit {}() stop\".format(func.__name__))\n",
    "            print(\"[DEBUG]: elapse {}()\".format(stop - start))\n",
    "        return call\n",
    "    return timeMasterDecorate\n",
    "\n",
    "@msgTimeMasterDecorate(msg=\"funcA\")\n",
    "def funcA():\n",
    "    print(\"funcA\")\n",
    "\n",
    "funcA()"
   ]
  },
  {
   "cell_type": "markdown",
   "id": "3fea352c",
   "metadata": {},
   "source": [
    "### lambda表达式"
   ]
  },
  {
   "cell_type": "code",
   "execution_count": 15,
   "id": "d0377cd3",
   "metadata": {},
   "outputs": [
    {
     "data": {
      "text/html": [
       "<pre style=\"white-space:pre;overflow-x:auto;line-height:normal;font-family:Menlo,'DejaVu Sans Mono',consolas,'Courier New',monospace\"><span style=\"font-weight: bold\">&lt;</span><span style=\"color: #ff00ff; text-decoration-color: #ff00ff; font-weight: bold\">function</span><span style=\"color: #000000; text-decoration-color: #000000\"> square1 at </span><span style=\"color: #008080; text-decoration-color: #008080; font-weight: bold\">0x7fc28c878b80</span><span style=\"font-weight: bold\">&gt;</span>\n",
       "</pre>\n"
      ],
      "text/plain": [
       "\u001b[1m<\u001b[0m\u001b[1;95mfunction\u001b[0m\u001b[39m square1 at \u001b[0m\u001b[1;36m0x7fc28c878b80\u001b[0m\u001b[1m>\u001b[0m\n"
      ]
     },
     "metadata": {},
     "output_type": "display_data"
    },
    {
     "data": {
      "text/html": [
       "<pre style=\"white-space:pre;overflow-x:auto;line-height:normal;font-family:Menlo,'DejaVu Sans Mono',consolas,'Courier New',monospace\"><span style=\"font-weight: bold\">&lt;</span><span style=\"color: #ff00ff; text-decoration-color: #ff00ff; font-weight: bold\">function</span><span style=\"color: #000000; text-decoration-color: #000000\"> &lt;lambda</span><span style=\"font-weight: bold\">&gt;</span> at <span style=\"color: #008080; text-decoration-color: #008080; font-weight: bold\">0x7fc28c87a560</span>&gt;\n",
       "</pre>\n"
      ],
      "text/plain": [
       "\u001b[1m<\u001b[0m\u001b[1;95mfunction\u001b[0m\u001b[39m <lambda\u001b[0m\u001b[1m>\u001b[0m at \u001b[1;36m0x7fc28c87a560\u001b[0m>\n"
      ]
     },
     "metadata": {},
     "output_type": "display_data"
    }
   ],
   "source": [
    "# 5.1 定义lambda表达式\n",
    "\n",
    "def square1(x):\n",
    "    return x * x\n",
    "\n",
    "square2 = lambda y : y * y\n",
    "\n",
    "print(square1)\n",
    "print(square2)"
   ]
  },
  {
   "cell_type": "code",
   "execution_count": 16,
   "id": "94d582af",
   "metadata": {},
   "outputs": [
    {
     "data": {
      "text/plain": [
       "4"
      ]
     },
     "execution_count": 16,
     "metadata": {},
     "output_type": "execute_result"
    }
   ],
   "source": [
    "# 5.2 lambda的优秀之处\n",
    "\n",
    "L = [lambda x : x * x, 2, 3]\n",
    "\n",
    "L[0](L[1])"
   ]
  },
  {
   "cell_type": "code",
   "execution_count": 17,
   "id": "c2a0e27b",
   "metadata": {},
   "outputs": [
    {
     "data": {
      "text/plain": [
       "[104, 101, 108, 108, 111, 87, 111, 114, 108, 100]"
      ]
     },
     "execution_count": 17,
     "metadata": {},
     "output_type": "execute_result"
    }
   ],
   "source": [
    "mapText = map(lambda x : ord(x), \"helloWorld\")\n",
    "list(mapText)"
   ]
  },
  {
   "cell_type": "code",
   "execution_count": 18,
   "id": "8fdc9692",
   "metadata": {},
   "outputs": [
    {
     "data": {
      "text/plain": [
       "[1, 3, 5, 7, 9]"
      ]
     },
     "execution_count": 18,
     "metadata": {},
     "output_type": "execute_result"
    }
   ],
   "source": [
    "# 打印出10以内的奇数\n",
    "list(filter(lambda x : x % 2, range(10))) "
   ]
  },
  {
   "cell_type": "markdown",
   "id": "77e0e30b",
   "metadata": {},
   "source": [
    "### 生成器"
   ]
  },
  {
   "cell_type": "code",
   "execution_count": null,
   "id": "ea4eb32b",
   "metadata": {},
   "outputs": [],
   "source": []
  },
  {
   "cell_type": "markdown",
   "id": "4575566a",
   "metadata": {},
   "source": [
    "## 面向对象"
   ]
  },
  {
   "cell_type": "markdown",
   "id": "a3852b73",
   "metadata": {},
   "source": [
    "## sympy库"
   ]
  },
  {
   "cell_type": "code",
   "execution_count": 19,
   "id": "38f3f517",
   "metadata": {},
   "outputs": [
    {
     "data": {
      "text/latex": [
       "$\\displaystyle x^{2} + 2 x + 1$"
      ],
      "text/plain": [
       "x**2 + 2*x + 1"
      ]
     },
     "metadata": {},
     "output_type": "display_data"
    }
   ],
   "source": [
    "# 手动组合表达式\n",
    "x, y, z = symbols('x y z')\n",
    "f = expand((x + 1)**2)\n",
    "display(f)"
   ]
  },
  {
   "cell_type": "code",
   "execution_count": 20,
   "id": "c20f7832",
   "metadata": {},
   "outputs": [
    {
     "data": {
      "text/latex": [
       "$$\\int e^{x} \\cos{\\left(x \\right)}\\, dx = \\frac{e^{x} \\sin{\\left(x \\right)}}{2} + \\frac{e^{x} \\cos{\\left(x \\right)}}{2}$$"
      ],
      "text/plain": [
       "<IPython.core.display.Latex object>"
      ]
     },
     "metadata": {},
     "output_type": "display_data"
    }
   ],
   "source": [
    "int_x = Integral(cos(x)*exp(x), x)\n",
    "result = \"$${} = {}$$\".format(latex(int_x), latex(int_x.doit()))\n",
    "display(Latex(result))"
   ]
  },
  {
   "cell_type": "code",
   "execution_count": 21,
   "id": "2e9bab89",
   "metadata": {},
   "outputs": [
    {
     "data": {
      "text/latex": [
       "$$\\frac{d}{d x} e^{x} \\cos{\\left(x \\right)} = - e^{x} \\sin{\\left(x \\right)} + e^{x} \\cos{\\left(x \\right)}$$"
      ],
      "text/plain": [
       "<IPython.core.display.Latex object>"
      ]
     },
     "metadata": {},
     "output_type": "display_data"
    }
   ],
   "source": [
    "derv_x = Derivative(cos(x)*exp(x), x)\n",
    "result = \"$${} = {}$$\".format(latex(derv_x), latex(derv_x.doit()))\n",
    "display(Latex(result))"
   ]
  },
  {
   "cell_type": "code",
   "execution_count": null,
   "id": "4293f3c3",
   "metadata": {},
   "outputs": [],
   "source": []
  }
 ],
 "metadata": {
  "kernelspec": {
   "display_name": "Python 3 (ipykernel)",
   "language": "python",
   "name": "python3"
  },
  "language_info": {
   "codemirror_mode": {
    "name": "ipython",
    "version": 3
   },
   "file_extension": ".py",
   "mimetype": "text/x-python",
   "name": "python",
   "nbconvert_exporter": "python",
   "pygments_lexer": "ipython3",
   "version": "3.10.9"
  }
 },
 "nbformat": 4,
 "nbformat_minor": 5
}
